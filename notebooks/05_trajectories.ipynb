{
 "cells": [
  {
   "cell_type": "code",
   "execution_count": null,
   "metadata": {},
   "outputs": [],
   "source": [
    "ais_gpkg = '../../data/gpkg/mssis-ais-records.gpkg'\n",
    "traj_out_geojson = '../../data/processed/timestamped-trajectory.geojson'\n",
    "traj_out_gpkg = '../../data/gpkg/timestamped-trajectory.gpkg'"
   ]
  },
  {
   "cell_type": "code",
   "execution_count": null,
   "metadata": {},
   "outputs": [],
   "source": [
    "import seaconex\n",
    "\n",
    "import numpy as np\n",
    "import pandas as pd\n",
    "import geopandas as gpd\n",
    "import movingpandas as mpd\n",
    "import json\n",
    "import random\n",
    "\n",
    "from shapely.geometry import Point, LineString, Polygon\n",
    "from datetime import datetime, timedelta\n",
    "import matplotlib.pyplot as plt\n",
    "\n",
    "\n",
    "import warnings\n",
    "warnings.simplefilter(\"ignore\")"
   ]
  },
  {
   "cell_type": "code",
   "execution_count": null,
   "metadata": {},
   "outputs": [],
   "source": [
    "mpd.__version__"
   ]
  },
  {
   "cell_type": "code",
   "execution_count": null,
   "metadata": {},
   "outputs": [],
   "source": [
    "pd.set_option(\"max_columns\", None)"
   ]
  },
  {
   "cell_type": "markdown",
   "metadata": {},
   "source": [
    "## Loading the AIS .gpkg data"
   ]
  },
  {
   "cell_type": "code",
   "execution_count": null,
   "metadata": {},
   "outputs": [],
   "source": [
    "%%time\n",
    "\n",
    "gdf_ais = gpd.read_file(ais_gpkg)\n",
    "wgs84 = gdf_ais.crs\n",
    "\n",
    "print(\"Finished reading {}\".format(len(gdf_ais)))"
   ]
  },
  {
   "cell_type": "code",
   "execution_count": null,
   "metadata": {},
   "outputs": [],
   "source": [
    "gdf_ais.head()"
   ]
  },
  {
   "cell_type": "code",
   "execution_count": null,
   "metadata": {},
   "outputs": [],
   "source": [
    "gdf_ais.info()"
   ]
  },
  {
   "cell_type": "code",
   "execution_count": null,
   "metadata": {},
   "outputs": [],
   "source": [
    "gdf_ais.plot()"
   ]
  },
  {
   "cell_type": "code",
   "execution_count": null,
   "metadata": {},
   "outputs": [],
   "source": [
    "gdf_ais.groupby(['mssis_eez_country_name', 'mssis_ao', 'wpi_port_name']).size().reset_index().rename(columns={0:'ais_count'}).sort_values('ais_count', ascending=False)"
   ]
  },
  {
   "cell_type": "code",
   "execution_count": null,
   "metadata": {},
   "outputs": [],
   "source": [
    "gdf_ais['t'] = pd.to_datetime(gdf_ais['ais_time'], format='%Y-%m-%d %H:%M:%S')\n",
    "gdf_ais = gdf_ais.set_index('t')"
   ]
  },
  {
   "cell_type": "code",
   "execution_count": null,
   "metadata": {},
   "outputs": [],
   "source": [
    "gdf_ais.info()"
   ]
  },
  {
   "cell_type": "code",
   "execution_count": null,
   "metadata": {},
   "outputs": [],
   "source": [
    "gdf_ais['ais_sog'].hist(bins=100, figsize=(15,3))"
   ]
  },
  {
   "cell_type": "code",
   "execution_count": null,
   "metadata": {},
   "outputs": [],
   "source": [
    "gdf_ais.info()"
   ]
  },
  {
   "cell_type": "code",
   "execution_count": null,
   "metadata": {},
   "outputs": [],
   "source": [
    "print(\"Reduced to {} rows after removing speed records > 5\".format(len(gdf_ais)))\n",
    "gdf_ais['ais_sog'].hist(bins=100, figsize=(15,3))"
   ]
  },
  {
   "cell_type": "code",
   "execution_count": null,
   "metadata": {},
   "outputs": [],
   "source": [
    "print(\"Original size: {} rows\".format(len(gdf_ais)))\n",
    "gdf_ais = gdf_ais[gdf_ais.ais_sog>0]\n",
    "print(\"Reduced to {} rows after removing 0 speed records\".format(len(gdf_ais)))\n",
    "gdf_ais['ais_sog'].hist(bins=100, figsize=(15,3))"
   ]
  },
  {
   "cell_type": "code",
   "execution_count": null,
   "metadata": {},
   "outputs": [],
   "source": [
    "wgs84 = gdf_ais.crs"
   ]
  },
  {
   "cell_type": "code",
   "execution_count": null,
   "metadata": {},
   "outputs": [],
   "source": [
    "%%time\n",
    "\n",
    "MIN_LENGTH = 5 # meters\n",
    "traj_collection = mpd.TrajectoryCollection(gdf_ais, 'vessel_mmsi', min_length=MIN_LENGTH)\n",
    "print(\"Finished creating {} trajectories\".format(len(traj_collection)))"
   ]
  },
  {
   "cell_type": "code",
   "execution_count": null,
   "metadata": {},
   "outputs": [],
   "source": [
    "%%time\n",
    "traj_collection = mpd.MinTimeDeltaGeneralizer(traj_collection).generalize(tolerance=timedelta(minutes=1))"
   ]
  },
  {
   "cell_type": "code",
   "execution_count": null,
   "metadata": {},
   "outputs": [],
   "source": [
    "# https://stackoverflow.com/questions/28999287/generate-random-colors-rgb\n",
    "# import matplotlib.pyplot as plt\n",
    "\n",
    "\n",
    "mmsi_colors = [\"#\"+''.join([random.choice('0123456789ABCDEF') for j in range(6)]) for i in range(gdf_ais.vessel_mmsi.unique().size)]\n",
    "mmsi_list = gdf_ais.vessel_mmsi.unique().tolist()\n",
    "mmsi_to_color = dict(zip(mmsi_list, mmsi_colors))"
   ]
  },
  {
   "cell_type": "code",
   "execution_count": null,
   "metadata": {},
   "outputs": [],
   "source": [
    "%%time\n",
    "traj_collection.plot(column='vessel_mmsi', column_to_color=mmsi_to_color, linewidth=1, capstyle='round')"
   ]
  },
  {
   "cell_type": "code",
   "execution_count": null,
   "metadata": {},
   "outputs": [],
   "source": [
    "%%time\n",
    "traj_collection.hvplot(title='vessel_mmsi', line_width=2)"
   ]
  },
  {
   "cell_type": "code",
   "execution_count": null,
   "metadata": {},
   "outputs": [],
   "source": [
    "%%time\n",
    "\n",
    "gdf_ais[gdf_ais['wpi_port_name']!= \"\"]['wpi_port_name'].value_counts().plot(kind='bar', figsize=(15,3))\n",
    "# gdf_ais.loc[gdf_ais['wpi_port_name'].str.len() > -1].value_counts().plot(kind='bar', figsize=(15,3))"
   ]
  },
  {
   "cell_type": "code",
   "execution_count": null,
   "metadata": {},
   "outputs": [],
   "source": [
    "%%time\n",
    "gdf_ais['vessel_name'].value_counts().plot(kind='bar', figsize=(15,3))"
   ]
  },
  {
   "cell_type": "code",
   "execution_count": null,
   "metadata": {},
   "outputs": [],
   "source": [
    "%%time\n",
    "gdf_ais['mssis_eez_country_name'].value_counts().plot(kind='bar', figsize=(15,3))"
   ]
  },
  {
   "cell_type": "code",
   "execution_count": null,
   "metadata": {},
   "outputs": [],
   "source": [
    "%%time\n",
    "traj_collection.hvplot(\n",
    "#     title='Trajectory {}'.format(str(independent_pursuit.id)), \n",
    "    height=300, \n",
    "    line_width=5.0, \n",
    "    c='ais_sog', \n",
    "    cmap='Dark2'\n",
    ") "
   ]
  },
  {
   "cell_type": "code",
   "execution_count": null,
   "metadata": {},
   "outputs": [],
   "source": [
    "for traj in traj_collection:\n",
    "    traj.add_speed\n",
    "#     print(traj.to_linestring())"
   ]
  },
  {
   "cell_type": "code",
   "execution_count": null,
   "metadata": {},
   "outputs": [],
   "source": [
    "trips = mpd.ObservationGapSplitter(traj_collection).split(gap=timedelta(days=1))\n",
    "# print(\"Extracted {} individual trips from {} continuous vessel tracks\".format(len(independent_pursuit_trips), len(independent_pursuit)))"
   ]
  },
  {
   "cell_type": "code",
   "execution_count": null,
   "metadata": {},
   "outputs": [],
   "source": [
    "len(trips)"
   ]
  },
  {
   "cell_type": "code",
   "execution_count": null,
   "metadata": {},
   "outputs": [],
   "source": [
    "trips.hvplot(title='trips', line_width=2)"
   ]
  },
  {
   "cell_type": "code",
   "execution_count": null,
   "metadata": {},
   "outputs": [],
   "source": [
    "gdf_ais.crs"
   ]
  },
  {
   "cell_type": "code",
   "execution_count": null,
   "metadata": {},
   "outputs": [],
   "source": [
    "traj_collection.trajectories[0].df"
   ]
  },
  {
   "cell_type": "code",
   "execution_count": null,
   "metadata": {},
   "outputs": [],
   "source": [
    "def traj_to_timestamped_geojson(trajectory_collection):\n",
    "    features = []\n",
    "    \n",
    "    for trajectory in traj_collection.trajectories:\n",
    "    \n",
    "        df = trajectory.df.copy()\n",
    "        df[\"previous_geometry\"] = df[\"geometry\"].shift()\n",
    "        df[\"time\"] = df.index\n",
    "        df[\"previous_time\"] = df[\"time\"].shift()\n",
    "        df[\"previous_ais_sog\"] = df[\"ais_sog\"].shift()\n",
    "        df[\"previous_ais_heading\"] = df[\"ais_heading\"].shift()\n",
    "        \n",
    "        for _, row in df.iloc[1:].iterrows():\n",
    "            coordinates = [\n",
    "                [\n",
    "                    row[\"previous_geometry\"].xy[0][0],\n",
    "                    row[\"previous_geometry\"].xy[1][0]\n",
    "                ],\n",
    "                [\n",
    "                    row[\"geometry\"].xy[0][0],\n",
    "                    row[\"geometry\"].xy[1][0]\n",
    "                ]\n",
    "            ]\n",
    "            times = [row[\"previous_time\"].isoformat(), row[\"time\"].isoformat()]\n",
    "            sogs = [row[\"previous_ais_sog\"], row[\"ais_sog\"]]\n",
    "            headings = [row[\"previous_ais_heading\"], row[\"ais_heading\"]]\n",
    "            data = row.to_dict()\n",
    "            data.pop('geometry', None)\n",
    "            features.append(\n",
    "                {\n",
    "                    \"type\": \"Feature\",\n",
    "                    \"geometry\": {\n",
    "                        \"type\": \"LineString\",\n",
    "                        \"coordinates\": coordinates,\n",
    "                    },\n",
    "                    \"properties\": {\n",
    "                        \"times\": times,\n",
    "                        \"ais_sog\":sogs,\n",
    "                        \"headings\":headings,\n",
    "#                          'mssis_wpi',\n",
    "#                          'mssis_eez',\n",
    "#                          'mssis_ao',\n",
    "                        \"vessel_mmsi\": row[\"vessel_mmsi\"],\n",
    "                        \"vessel_name\": row[\"vessel_name\"],\n",
    "                        \"carrier\": row[\"carrier\"]\n",
    "                    },\n",
    "                }\n",
    "            )\n",
    "    return features"
   ]
  },
  {
   "cell_type": "code",
   "execution_count": null,
   "metadata": {},
   "outputs": [],
   "source": [
    "geojson = {\n",
    "  \"type\": \"FeatureCollection\",\n",
    "    \"crs\": { \n",
    "        \"type\": \"name\", \n",
    "        \"properties\": { \n",
    "#             \"name\": \"urn:ogc:def:crs:EPSG::3857\" \n",
    "            \"name\": \"urn:ogc:def:crs:EPSG::4326\"\n",
    "        } \n",
    "    },\n",
    "  \"features\": traj_to_timestamped_geojson(traj_collection)\n",
    "}"
   ]
  },
  {
   "cell_type": "code",
   "execution_count": null,
   "metadata": {},
   "outputs": [],
   "source": [
    "# for f in features:\n",
    "#     geojson = {\n",
    "#       \"type\": \"FeatureCollection\",\n",
    "#       \"features\": features\n",
    "#     }\n",
    "    \n",
    "#     out.append(geojson)"
   ]
  },
  {
   "cell_type": "code",
   "execution_count": null,
   "metadata": {},
   "outputs": [],
   "source": [
    "# with open(out_path + '.json', 'w') as json_file:\n",
    "#     json.dump(geojson, json_file, indent=2)"
   ]
  },
  {
   "cell_type": "code",
   "execution_count": null,
   "metadata": {},
   "outputs": [],
   "source": [
    "with open(traj_out_geojson, 'w') as json_file:\n",
    "    json.dump(geojson, json_file)"
   ]
  },
  {
   "cell_type": "code",
   "execution_count": null,
   "metadata": {},
   "outputs": [],
   "source": [
    "# gpd.read_file(traj_out_geojson)"
   ]
  },
  {
   "cell_type": "code",
   "execution_count": null,
   "metadata": {},
   "outputs": [],
   "source": [
    "traj_collection = mpd.MinTimeDeltaGeneralizer(traj_collection).generalize(tolerance=timedelta(minutes=1))"
   ]
  },
  {
   "cell_type": "markdown",
   "metadata": {},
   "source": [
    "## Plotting trajectories\n",
    "\n",
    "Let's give the most common ship types distinct colors. The remaining ones will be just grey:"
   ]
  },
  {
   "cell_type": "code",
   "execution_count": null,
   "metadata": {},
   "outputs": [],
   "source": [
    "shiptype_to_color = {'Container': 'blue', 'ConRo': 'red'}\n",
    "traj_collection.plot(column='vessel_type', column_to_color=shiptype_to_color, linewidth=1, capstyle='round')"
   ]
  },
  {
   "cell_type": "code",
   "execution_count": null,
   "metadata": {},
   "outputs": [],
   "source": [
    "traj_collection.hvplot(title='All', line_width=2)"
   ]
  },
  {
   "cell_type": "markdown",
   "metadata": {},
   "source": [
    "## Identifying trip origins and destinations"
   ]
  },
  {
   "cell_type": "markdown",
   "metadata": {},
   "source": [
    "Since AIS records with a speed over ground (SOG) value of zero have been removed from the dataset, we can use the `split_by_observation_gap()` function to split the continuous observations into individual trips:"
   ]
  },
  {
   "cell_type": "code",
   "execution_count": null,
   "metadata": {},
   "outputs": [],
   "source": [
    "trips = mpd.ObservationGapSplitter(traj_collection).split(gap=timedelta(days=0.5))\n",
    "print(\"Extracted {} individual trips from {} continuous vessel tracks\".format(len(trips), len(traj_collection)))"
   ]
  },
  {
   "cell_type": "markdown",
   "metadata": {},
   "source": [
    "Let's plot the resulting trips!"
   ]
  },
  {
   "cell_type": "code",
   "execution_count": null,
   "metadata": {},
   "outputs": [],
   "source": [
    "trips.hvplot(title='Trips, 12 hr observation gap', line_width=2)"
   ]
  },
  {
   "cell_type": "markdown",
   "metadata": {},
   "source": [
    "Compared to plotting the original continuous observations, this visualization is much cleaner because there are no artifacts at the border of the area of interest. "
   ]
  },
  {
   "cell_type": "markdown",
   "metadata": {},
   "source": [
    "Next, let's get the trip origins:"
   ]
  },
  {
   "cell_type": "code",
   "execution_count": null,
   "metadata": {},
   "outputs": [],
   "source": [
    "origins = trips.get_start_locations()\n",
    "origins.hvplot(title='Trip origins by ship type', c='vessel_name', geo=True, tiles='OSM')"
   ]
  },
  {
   "cell_type": "code",
   "execution_count": null,
   "metadata": {},
   "outputs": [],
   "source": [
    "origins.hvplot(title='Origins by speed', c='ais_sog', geo=True, tiles='OSM')"
   ]
  },
  {
   "cell_type": "markdown",
   "metadata": {},
   "source": [
    "## Clustering origins\n",
    "\n",
    "To run this section, you need to have the scikit-learn package installed. "
   ]
  },
  {
   "cell_type": "code",
   "execution_count": null,
   "metadata": {},
   "outputs": [],
   "source": [
    "from sklearn.cluster import DBSCAN\n",
    "from geopy.distance import great_circle\n",
    "from shapely.geometry import MultiPoint"
   ]
  },
  {
   "cell_type": "code",
   "execution_count": null,
   "metadata": {},
   "outputs": [],
   "source": [
    "origins = trips.get_start_locations()\n",
    "origins['lat'] = origins.geometry.y\n",
    "origins['lon'] = origins.geometry.x\n",
    "matrix = origins[['lat','lon']].values"
   ]
  },
  {
   "cell_type": "code",
   "execution_count": null,
   "metadata": {},
   "outputs": [],
   "source": [
    "kms_per_radian = 6371.0088\n",
    "epsilon = 0.1 / kms_per_radian"
   ]
  },
  {
   "cell_type": "code",
   "execution_count": null,
   "metadata": {},
   "outputs": [],
   "source": [
    "db = DBSCAN(eps=epsilon, min_samples=1, algorithm='ball_tree', metric='haversine').fit(np.radians(matrix))\n",
    "cluster_labels = db.labels_\n",
    "num_clusters = len(set(cluster_labels))\n",
    "clusters = pd.Series([matrix[cluster_labels == n] for n in range(num_clusters)])\n",
    "print('Number of clusters: {}'.format(num_clusters))"
   ]
  },
  {
   "cell_type": "code",
   "execution_count": null,
   "metadata": {},
   "outputs": [],
   "source": [
    "origins['cluster'] = cluster_labels"
   ]
  },
  {
   "cell_type": "code",
   "execution_count": null,
   "metadata": {},
   "outputs": [],
   "source": [
    "def get_centermost_point(cluster):\n",
    "    centroid = (MultiPoint(cluster).centroid.x, MultiPoint(cluster).centroid.y)\n",
    "    centermost_point = min(cluster, key=lambda point: great_circle(point, centroid).m)\n",
    "    return Point(tuple(centermost_point)[1], tuple(centermost_point)[0])\n",
    "centermost_points = clusters.map(get_centermost_point)"
   ]
  },
  {
   "cell_type": "code",
   "execution_count": null,
   "metadata": {},
   "outputs": [],
   "source": [
    "origins.hvplot(title='Clustered origins', c='cluster', geo=True, tiles='OSM', cmap='glasbey_dark')"
   ]
  },
  {
   "cell_type": "code",
   "execution_count": null,
   "metadata": {},
   "outputs": [],
   "source": [
    "origins_by_cluster = pd.DataFrame(origins).groupby(['cluster'])\n",
    "summary = origins_by_cluster['vessel_type'].unique().to_frame(name='types')\n",
    "summary['n'] = origins_by_cluster.size()\n",
    "summary['symbol_size'] = summary['n']*10 # for visualization purposes\n",
    "summary['sog'] = origins_by_cluster['ais_sog'].mean()\n",
    "summary['geometry'] = centermost_points\n",
    "summary = summary[summary['n']>1].sort_values(by='n', ascending=False)\n",
    "summary.head()"
   ]
  },
  {
   "cell_type": "code",
   "execution_count": null,
   "metadata": {},
   "outputs": [],
   "source": [
    "cluster_of_interest_id = 117\n",
    "\n",
    "origins[origins['cluster']==cluster_of_interest_id].hvplot(\n",
    "    title='Cluster {}'.format(cluster_of_interest_id), \n",
    "    c='vessel_type', \n",
    "    geo=True, \n",
    "    tiles='OSM', \n",
    "    height=500\n",
    ")"
   ]
  },
  {
   "cell_type": "code",
   "execution_count": null,
   "metadata": {},
   "outputs": [],
   "source": [
    "(\n",
    "    trips.hvplot(\n",
    "        title='Origin clusters by speed', \n",
    "        color='gray', \n",
    "        line_width=1\n",
    "    ) *\n",
    "    gpd.GeoDataFrame(\n",
    "        summary, \n",
    "        crs=wgs84\n",
    "    ).hvplot(\n",
    "        c='ais_sog', \n",
    "        size='symbol_size', \n",
    "        geo=True,  \n",
    "        cmap='RdYlGn'\n",
    "    )\n",
    ")"
   ]
  }
 ],
 "metadata": {
  "language_info": {
   "name": "python",
   "pygments_lexer": "ipython3"
  }
 },
 "nbformat": 4,
 "nbformat_minor": 4
}
