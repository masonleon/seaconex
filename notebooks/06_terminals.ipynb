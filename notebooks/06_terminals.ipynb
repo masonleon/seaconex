{
 "cells": [
  {
   "cell_type": "code",
   "execution_count": null,
   "id": "d04a0135-b088-4d11-86db-03238135dfd5",
   "metadata": {},
   "outputs": [],
   "source": [
    "smdg_tcl_file = '../data/raw/smdg-tcl-v20210401.csv'\n",
    "    \n",
    "terminals_geojson = '../data/processed/terminals.geojson'\n",
    "terminals_gpkg = '../data/gpkg/terminals.gpkg'"
   ]
  },
  {
   "cell_type": "code",
   "execution_count": null,
   "id": "described-simpson",
   "metadata": {},
   "outputs": [],
   "source": [
    "import seaconex\n",
    "\n",
    "import pandas as pd\n",
    "import numpy as np\n",
    "import geopandas as gpd\n",
    "\n",
    "from shapely.geometry import Point, LineString"
   ]
  },
  {
   "cell_type": "markdown",
   "id": "65034791-18c8-45d6-b799-51cd548c5b84",
   "metadata": {},
   "source": [
    "## SMDG Terminal Code List (TCL)\n",
    "\n",
    "https://smdg.org/documents/smdg-code-lists/smdg-terminal-code-list/  \n",
    "https://github.com/smdg-org/Terminal-Code-List  \n",
    "https://www.google.com/maps/d/viewer?mid=1nbJI9NkpAayVpSJqy13qJ2xhatcIKQJK&ll=-3.81666561775622e-14%2C-4.5703125&z=2  "
   ]
  },
  {
   "cell_type": "code",
   "execution_count": null,
   "id": "0895f34d-ed4d-4029-ae82-efc639780d8b",
   "metadata": {},
   "outputs": [],
   "source": [
    "seaconex.tools.terminals.get_all_smdg_tcl()"
   ]
  },
  {
   "cell_type": "code",
   "execution_count": null,
   "id": "13664694-9832-4989-b049-dab8ff09c050",
   "metadata": {},
   "outputs": [],
   "source": [
    "df_smdg_tcl = pd.read_csv(\n",
    "    smdg_tcl_file,\n",
    "    sep=','\n",
    ").drop(\n",
    "    columns=[\n",
    "        'Latitude (DMS)',\n",
    "        'Longitude (DMS)',\n",
    "        'Last change',\n",
    "        'Valid from',\n",
    "        'Valid until',\n",
    "    ]\n",
    ").rename(\n",
    "    columns={\n",
    "        'UNLOCODE':'port_unlocode',\n",
    "        'Alternative UNLOCODEs':'port_unlocode_alt',\n",
    "        'Terminal Code': 'terminal',\n",
    "        'Latitude': 'latitude',\n",
    "        'Longitude': 'longitude',\n",
    "        'Terminal Facility Name':'terminal_name',\n",
    "        'Terminal Company Name': 'terminal_operator',\n",
    "        'Terminal Website':'terminal_website',\n",
    "        'Terminal Address':'terminal_address',\n",
    "        'Remarks': 'remarks'\n",
    "    }\n",
    ").fillna(\"\")"
   ]
  },
  {
   "cell_type": "code",
   "execution_count": null,
   "id": "0e38302a-cb81-4a25-a7b4-ce89c32fe093",
   "metadata": {},
   "outputs": [],
   "source": [
    "terminals = [    \n",
    "    'PSAP', \n",
    "    'NCSPA', \n",
    "    'ACOT', \n",
    "    'DPWS', \n",
    "    'RDT',\n",
    "    'BCMT',\n",
    "    'FIT',\n",
    "    'GCMT',\n",
    "    'NCMT',\n",
    "    'NIT',\n",
    "    'SMT',\n",
    "    'DMT',\n",
    "    'PSAP',\n",
    "    'MAHER',\n",
    "    'PNCT',\n",
    "    'FCOVE',\n",
    "    'CTA',\n",
    "    'UCT',\n",
    "    'AET',\n",
    "    'K869',\n",
    "    'ACOT',\n",
    "    'RDT',\n",
    "    'RSCT',\n",
    "    'DPWLG',\n",
    "    'CT1'\n",
    "]\n",
    "\n",
    "df_smdg_tcl = df_smdg_tcl[df_smdg_tcl.terminal.isin(terminals)].reset_index(drop=True)\n",
    "df_smdg_tcl['code_provider'] = 'SMDG'\n",
    "\n",
    "df_smdg_tcl.loc[df_smdg_tcl['terminal'] == 'DPWLG', 'terminal_website'] = \"https://www.londongateway.com/\"\n",
    "df_smdg_tcl.loc[df_smdg_tcl['terminal'] == 'DPWLG', 'terminal_address'] = \"1 London Gateway, Stanford-le-Hope, Essex, SS17 9DY, United Kingdom\"\n",
    "\n",
    "df_smdg_tcl.loc[df_smdg_tcl['terminal'] == 'DPWS', 'terminal_website'] = \"https://www.dpworldsouthampton.com/\"\n",
    "df_smdg_tcl.loc[df_smdg_tcl['terminal'] == 'DPWS', 'terminal_address'] = \"DP World Southampton, Western Docks, Southampton SO15 1DA, United Kingdom\"\n",
    "\n",
    "df_smdg_tcl.loc[df_smdg_tcl['terminal'] == 'CT1', 'terminal_address']= \"APM Terminals Gothenburg Port Entry, Ytterhamnsvägen 1, Gothenburg, Sweden\"\n",
    "\n",
    "df_smdg_tcl.loc[df_smdg_tcl['terminal'] == 'DMT', 'terminal_address']= \"2700 Broening Highway, Baltimore, MD 21222, USA\"\n",
    "df_smdg_tcl.loc[df_smdg_tcl['terminal'] == 'SMT', 'terminal_address']= \"2600 Broening Highway, Baltimore, MD 21222, USA\""
   ]
  },
  {
   "cell_type": "code",
   "execution_count": null,
   "id": "476a6385-16b4-46ad-b8f9-6ff620a5d083",
   "metadata": {},
   "outputs": [],
   "source": [
    "df_smdg_tcl.head()"
   ]
  },
  {
   "cell_type": "code",
   "execution_count": null,
   "id": "1a39bc51-93f1-4ceb-87d5-6baf7e33a875",
   "metadata": {},
   "outputs": [],
   "source": [
    "df_non_smdg_tcl = pd.read_csv('../data/raw/non-smdg-terminals.csv').fillna(\"\")"
   ]
  },
  {
   "cell_type": "code",
   "execution_count": null,
   "id": "fbec44ac-aae6-4e99-9181-fe6584ef0294",
   "metadata": {},
   "outputs": [],
   "source": [
    "df_non_smdg_tcl.head()"
   ]
  },
  {
   "cell_type": "code",
   "execution_count": null,
   "id": "bfbc7a0f-17ee-45da-9044-bdfb03df361a",
   "metadata": {},
   "outputs": [],
   "source": [
    "df_non_smdg_tcl[['terminal_lat','terminal_lon']] = df_non_smdg_tcl[['terminal_lat','terminal_lon']].astype(str).apply(lambda x: x.str.replace(' ', ''))\n",
    "df_non_smdg_tcl[['terminal_lat','terminal_lon']] = df_non_smdg_tcl[['terminal_lat','terminal_lon']].astype(str).apply(lambda x: x.str[1:] + x.str[0])\n",
    "df_non_smdg_tcl['latitude'] = df_non_smdg_tcl['terminal_lat'].apply(lambda x: seaconex.dms_to_dd(x))\n",
    "df_non_smdg_tcl['longitude'] = df_non_smdg_tcl['terminal_lon'].apply(lambda x: seaconex.dms_to_dd(x))\n",
    "\n",
    "df_non_smdg_tcl.drop(columns=['terminal_lat','terminal_lon'], inplace=True)\n",
    "\n",
    "df_non_smdg_tcl = df_non_smdg_tcl[df_smdg_tcl.columns.tolist()]"
   ]
  },
  {
   "cell_type": "code",
   "execution_count": null,
   "id": "f3846646-1b26-4a77-8885-1ab77aeba6be",
   "metadata": {},
   "outputs": [],
   "source": [
    "df_non_smdg_tcl.head()"
   ]
  },
  {
   "cell_type": "code",
   "execution_count": null,
   "id": "925d9aac-c861-4f3d-a812-9aee528a3a12",
   "metadata": {},
   "outputs": [],
   "source": [
    "df_terminals = pd.concat(\n",
    "    objs=[df_non_smdg_tcl, df_smdg_tcl],\n",
    "    ignore_index=True,\n",
    ").sort_values(\n",
    "    by=['port_unlocode']\n",
    ").reset_index(drop=True)"
   ]
  },
  {
   "cell_type": "code",
   "execution_count": null,
   "id": "a1895da1-5601-47fa-8371-ecc917a35405",
   "metadata": {},
   "outputs": [],
   "source": [
    "df_terminals"
   ]
  },
  {
   "cell_type": "code",
   "execution_count": null,
   "id": "2e089320-5c56-4f16-bdb1-a4c32b6edc0c",
   "metadata": {},
   "outputs": [],
   "source": [
    "gdf_terminals = gpd.GeoDataFrame(\n",
    "      df_terminals,\n",
    "      crs='EPSG:3857',\n",
    "      # crs=3857,\n",
    "      geometry=gpd.points_from_xy(\n",
    "          df_terminals.longitude,\n",
    "          df_terminals.latitude\n",
    "      )\n",
    "  ).drop(\n",
    "      columns=[\n",
    "        'latitude',\n",
    "        'longitude'\n",
    "      ]\n",
    "  )"
   ]
  },
  {
   "cell_type": "code",
   "execution_count": null,
   "id": "99d2295c-bb61-48bb-b49f-2e7923690acb",
   "metadata": {},
   "outputs": [],
   "source": [
    "gdf_terminals"
   ]
  },
  {
   "cell_type": "code",
   "execution_count": null,
   "id": "48d7f324-3db9-43de-8e5d-3c53437f595b",
   "metadata": {},
   "outputs": [],
   "source": [
    "seaconex.gdf_to_geo_file(\n",
    "    gdf_terminals,\n",
    "    terminals_geojson,\n",
    "    terminals_gpkg\n",
    ")"
   ]
  }
 ],
 "metadata": {
  "language_info": {
   "name": "python",
   "pygments_lexer": "ipython3"
  }
 },
 "nbformat": 4,
 "nbformat_minor": 5
}
