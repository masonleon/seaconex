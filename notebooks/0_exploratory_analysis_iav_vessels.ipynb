{
 "cells": [
  {
   "cell_type": "markdown",
   "id": "curious-lesbian",
   "metadata": {},
   "source": [
    "# Exploratory Analysis Sample IAV Vessel Snapshot"
   ]
  },
  {
   "cell_type": "markdown",
   "id": "terminal-korean",
   "metadata": {},
   "source": [
    "Exploration of the vessel snapshot sample AIS dateset provided by Volpe representing vessels within IAV/RAMP."
   ]
  },
  {
   "cell_type": "code",
   "execution_count": null,
   "id": "twelve-flour",
   "metadata": {},
   "outputs": [],
   "source": [
    "file = '../data/raw/volpe-sample-iav-vessel-snapshot.csv'"
   ]
  },
  {
   "cell_type": "code",
   "execution_count": null,
   "id": "laughing-avatar",
   "metadata": {},
   "outputs": [],
   "source": [
    "out_png_path = '../img/0_exploratory_analysis_iav_vessels_'"
   ]
  },
  {
   "cell_type": "code",
   "execution_count": null,
   "id": "determined-engagement",
   "metadata": {},
   "outputs": [],
   "source": [
    "out_html_path = '../files/0_exploratory_analysis_iav_vessels_'"
   ]
  },
  {
   "cell_type": "markdown",
   "id": "mature-scientist",
   "metadata": {},
   "source": [
    "## volpe-sample-iav-vessel-snapshot.csv"
   ]
  },
  {
   "cell_type": "code",
   "execution_count": null,
   "id": "collectible-barbados",
   "metadata": {},
   "outputs": [],
   "source": [
    "import pandas as pd\n",
    "import geopandas\n",
    "import folium\n",
    "import matplotlib.pyplot as plt\n",
    "import random\n",
    "\n",
    "from shapely.geometry import Point"
   ]
  },
  {
   "cell_type": "code",
   "execution_count": null,
   "id": "friendly-identity",
   "metadata": {},
   "outputs": [],
   "source": [
    "!head '-n 5' $file"
   ]
  },
  {
   "cell_type": "code",
   "execution_count": null,
   "id": "progressive-headline",
   "metadata": {},
   "outputs": [],
   "source": [
    "# !sed '68628!d' $file"
   ]
  },
  {
   "cell_type": "markdown",
   "id": "legitimate-position",
   "metadata": {},
   "source": [
    "Some of the lines have bad data, skip them."
   ]
  },
  {
   "cell_type": "code",
   "execution_count": null,
   "id": "affected-identification",
   "metadata": {},
   "outputs": [],
   "source": [
    "df = pd.read_csv(file, sep=',', error_bad_lines=False)"
   ]
  },
  {
   "cell_type": "code",
   "execution_count": null,
   "id": "billion-notion",
   "metadata": {},
   "outputs": [],
   "source": [
    "df.head()"
   ]
  },
  {
   "cell_type": "code",
   "execution_count": null,
   "id": "private-commonwealth",
   "metadata": {},
   "outputs": [],
   "source": [
    "df.info()"
   ]
  },
  {
   "cell_type": "code",
   "execution_count": null,
   "id": "interested-assessment",
   "metadata": {},
   "outputs": [],
   "source": [
    "df.shape"
   ]
  },
  {
   "cell_type": "code",
   "execution_count": null,
   "id": "indirect-glory",
   "metadata": {},
   "outputs": [],
   "source": [
    "df.describe()"
   ]
  },
  {
   "cell_type": "markdown",
   "id": "focused-density",
   "metadata": {},
   "source": [
    "### GeoPandas and Folium\n",
    "\n",
    "https://geopandas.org/gallery/plotting_with_folium.html  \n",
    "https://jingwen-z.github.io/how-to-draw-a-variety-of-maps-with-folium-in-python/  "
   ]
  },
  {
   "cell_type": "code",
   "execution_count": null,
   "id": "personal-amsterdam",
   "metadata": {},
   "outputs": [],
   "source": [
    "geometry = geopandas.points_from_xy(df.lon, df.lat)"
   ]
  },
  {
   "cell_type": "code",
   "execution_count": null,
   "id": "straight-entrance",
   "metadata": {},
   "outputs": [],
   "source": [
    "geo_df = geopandas.GeoDataFrame(df, geometry=geometry)"
   ]
  },
  {
   "cell_type": "code",
   "execution_count": null,
   "id": "progressive-affair",
   "metadata": {},
   "outputs": [],
   "source": [
    "geo_df.head()"
   ]
  },
  {
   "cell_type": "code",
   "execution_count": null,
   "id": "removable-street",
   "metadata": {},
   "outputs": [],
   "source": [
    "world = geopandas.read_file(geopandas.datasets.get_path('naturalearth_lowres'))"
   ]
  },
  {
   "cell_type": "code",
   "execution_count": null,
   "id": "fitting-scout",
   "metadata": {},
   "outputs": [],
   "source": [
    "fig, ax = plt.subplots(figsize=(24,18))\n",
    "world.plot(ax=ax, alpha=0.4, color='grey')\n",
    "geo_df.plot(column='vesselType', ax=ax, legend=True)\n",
    "plt.title('IAV Sample - AIS Messages by Vessel Type')"
   ]
  },
  {
   "cell_type": "code",
   "execution_count": null,
   "id": "recorded-consent",
   "metadata": {},
   "outputs": [],
   "source": [
    "fig.savefig(out_png_path + 'ais_global_coverage.png')"
   ]
  },
  {
   "cell_type": "code",
   "execution_count": null,
   "id": "demographic-large",
   "metadata": {},
   "outputs": [],
   "source": [
    "geo_df['vesselType'].fillna('null', inplace=True)"
   ]
  },
  {
   "cell_type": "code",
   "execution_count": null,
   "id": "polyphonic-bottle",
   "metadata": {},
   "outputs": [],
   "source": [
    "map = folium.Map(\n",
    "    location = [32.316667,-64.833333],\n",
    "    tiles='https://server.arcgisonline.com/ArcGIS/rest/services/World_Topo_Map/MapServer/tile/{z}/{y}/{x}',\n",
    "    attr='Tiles &copy; Esri &mdash; EsriJapan, METI, Esri China (Hong Kong), and the GIS User Community',\n",
    "    zoom_start=6\n",
    ")"
   ]
  },
  {
   "cell_type": "code",
   "execution_count": null,
   "id": "handmade-chess",
   "metadata": {},
   "outputs": [],
   "source": [
    "# https://stackoverflow.com/questions/28999287/generate-random-colors-rgb\n",
    "number_of_colors = geo_df.vesselType.unique().size\n",
    "\n",
    "color = [\"#\"+''.join([random.choice('0123456789ABCDEF') for j in range(6)])\n",
    "             for i in range(number_of_colors)]"
   ]
  },
  {
   "cell_type": "code",
   "execution_count": null,
   "id": "pharmaceutical-mathematics",
   "metadata": {},
   "outputs": [],
   "source": [
    "color_dict = {}"
   ]
  },
  {
   "cell_type": "code",
   "execution_count": null,
   "id": "broken-dragon",
   "metadata": {},
   "outputs": [],
   "source": [
    "vessel_types = geo_df.vesselType.unique()"
   ]
  },
  {
   "cell_type": "code",
   "execution_count": null,
   "id": "weekly-asthma",
   "metadata": {},
   "outputs": [],
   "source": [
    "i=0\n",
    "for v in vessel_types:\n",
    "    color_dict[v] = {\n",
    "        'vesselType': v,\n",
    "        'color':color[i],\n",
    "        'feature':folium.FeatureGroup(\n",
    "                      name=v,\n",
    "                      show=False\n",
    "                  )\n",
    "    }\n",
    "    i+=1"
   ]
  },
  {
   "cell_type": "code",
   "execution_count": null,
   "id": "japanese-baking",
   "metadata": {},
   "outputs": [],
   "source": [
    "for i, v in geo_df.iterrows():\n",
    "    \n",
    "    t = v['vesselType']\n",
    "\n",
    "    c = color_dict[t]['color']\n",
    "   \n",
    "    folium.CircleMarker(\n",
    "        location=[v.geometry.y, v.geometry.x],\n",
    "        radius=1,\n",
    "        color=c,\n",
    "        fill_color=c,\n",
    "        fill=True\n",
    "    ).add_to(color_dict[t]['feature'])"
   ]
  },
  {
   "cell_type": "code",
   "execution_count": null,
   "id": "together-shannon",
   "metadata": {},
   "outputs": [],
   "source": [
    "for k, v in color_dict.items():\n",
    "    v['feature'].add_to(map)\n",
    "\n",
    "folium.LayerControl(\n",
    "    name='Vessel Type',\n",
    "    collapsed=True\n",
    ").add_to(map)"
   ]
  },
  {
   "cell_type": "code",
   "execution_count": null,
   "id": "floating-vision",
   "metadata": {},
   "outputs": [],
   "source": [
    "map.save(out_html_path + 'folium_map.html')"
   ]
  },
  {
   "cell_type": "code",
   "execution_count": null,
   "id": "random-climb",
   "metadata": {},
   "outputs": [],
   "source": [
    "map"
   ]
  }
 ],
 "metadata": {
  "language_info": {
   "name": "python",
   "pygments_lexer": "ipython3"
  }
 },
 "nbformat": 4,
 "nbformat_minor": 5
}
