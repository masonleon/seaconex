{
 "cells": [
  {
   "cell_type": "code",
   "execution_count": null,
   "id": "3a181e44-ee59-4c3f-b8fb-7a71ec4154a4",
   "metadata": {},
   "outputs": [],
   "source": [
    "terminal_location = \"../data/processed/terminals.geojson\"\n",
    "carrier_location = \"../data/processed/carriers.json\"\n",
    "master_schedules_edges_location = \"../data/processed/master-schedules-terminal-call-edge.geojson\"\n",
    "vessel_location = \"../data/processed/vessels.json\"\n",
    "\n",
    "output_location = '../data/processed/lookups.json'"
   ]
  },
  {
   "cell_type": "code",
   "execution_count": null,
   "id": "c0176d49-3c22-4d4c-a4b7-83336631ea86",
   "metadata": {},
   "outputs": [],
   "source": [
    "import seaconex"
   ]
  },
  {
   "cell_type": "code",
   "execution_count": null,
   "id": "71f7c254-c2a0-4c0e-be63-9e2adaa1c69a",
   "metadata": {},
   "outputs": [],
   "source": [
    "seaconex.build_all_lookups(\n",
    "    terminal_location,\n",
    "    carrier_location,\n",
    "    master_schedules_edges_location,\n",
    "    vessel_location,output_location\n",
    ")"
   ]
  }
 ],
 "metadata": {
  "language_info": {
   "name": "python",
   "pygments_lexer": "ipython3"
  }
 },
 "nbformat": 4,
 "nbformat_minor": 5
}
