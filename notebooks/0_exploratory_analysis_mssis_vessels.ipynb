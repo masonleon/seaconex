{
 "cells": [
  {
   "cell_type": "markdown",
   "id": "proof-burden",
   "metadata": {},
   "source": [
    "# Exploratory Analysis Bermuda Case Study MSSIS Vessel History"
   ]
  },
  {
   "cell_type": "markdown",
   "id": "failing-assistant",
   "metadata": {},
   "source": [
    "Exploration of the Bermuda Case Study MSSIS vessel history dateset provided by Volpe."
   ]
  },
  {
   "cell_type": "code",
   "execution_count": null,
   "id": "administrative-keyboard",
   "metadata": {},
   "outputs": [],
   "source": [
    "file = '../data/raw/volpe-bermuda-mssis-vessel-history.csv'"
   ]
  },
  {
   "cell_type": "code",
   "execution_count": null,
   "id": "arranged-weapon",
   "metadata": {},
   "outputs": [],
   "source": [
    "out_png_path = '../img/0_exploratory_analysis_mssis_vessels_'"
   ]
  },
  {
   "cell_type": "code",
   "execution_count": null,
   "id": "motivated-relevance",
   "metadata": {},
   "outputs": [],
   "source": [
    "out_html_path = '../files/0_exploratory_analysis_mssis_vessels_'"
   ]
  },
  {
   "cell_type": "markdown",
   "id": "jewish-thirty",
   "metadata": {},
   "source": [
    "## volpe-bermuda-mssis-vessel-history.csv"
   ]
  },
  {
   "cell_type": "code",
   "execution_count": null,
   "id": "loving-county",
   "metadata": {},
   "outputs": [],
   "source": [
    "import pandas as pd\n",
    "import geopandas\n",
    "import folium\n",
    "import matplotlib.pyplot as plt\n",
    "import random\n",
    "\n",
    "from shapely.geometry import Point"
   ]
  },
  {
   "cell_type": "code",
   "execution_count": null,
   "id": "thorough-handy",
   "metadata": {},
   "outputs": [],
   "source": [
    "!head '-n 5' $file"
   ]
  },
  {
   "cell_type": "code",
   "execution_count": null,
   "id": "trained-least",
   "metadata": {},
   "outputs": [],
   "source": [
    "df = pd.read_csv(file, sep=',',)"
   ]
  },
  {
   "cell_type": "code",
   "execution_count": null,
   "id": "distributed-material",
   "metadata": {},
   "outputs": [],
   "source": [
    "df.head()"
   ]
  },
  {
   "cell_type": "code",
   "execution_count": null,
   "id": "solid-mustang",
   "metadata": {},
   "outputs": [],
   "source": [
    "df.info()"
   ]
  },
  {
   "cell_type": "code",
   "execution_count": null,
   "id": "fabulous-sport",
   "metadata": {},
   "outputs": [],
   "source": [
    "df.shape"
   ]
  },
  {
   "cell_type": "code",
   "execution_count": null,
   "id": "electoral-width",
   "metadata": {},
   "outputs": [],
   "source": [
    "df.describe()"
   ]
  },
  {
   "cell_type": "code",
   "execution_count": null,
   "id": "unsigned-argentina",
   "metadata": {},
   "outputs": [],
   "source": [
    "df.isna().any()"
   ]
  },
  {
   "cell_type": "code",
   "execution_count": null,
   "id": "closed-australia",
   "metadata": {},
   "outputs": [],
   "source": [
    "df.EEZ.unique()"
   ]
  },
  {
   "cell_type": "code",
   "execution_count": null,
   "id": "adjusted-newton",
   "metadata": {},
   "outputs": [],
   "source": [
    "df.AO.unique()"
   ]
  },
  {
   "cell_type": "code",
   "execution_count": null,
   "id": "cosmetic-depression",
   "metadata": {},
   "outputs": [],
   "source": [
    "df.SourceNum.unique()"
   ]
  },
  {
   "cell_type": "code",
   "execution_count": null,
   "id": "renewable-coral",
   "metadata": {},
   "outputs": [],
   "source": [
    "df.RxStnId.unique()"
   ]
  },
  {
   "cell_type": "code",
   "execution_count": null,
   "id": "british-function",
   "metadata": {},
   "outputs": [],
   "source": [
    "df.EEZ.fillna('NONE', inplace=True)"
   ]
  },
  {
   "cell_type": "code",
   "execution_count": null,
   "id": "enhanced-spare",
   "metadata": {},
   "outputs": [],
   "source": [
    "df['TimeOfFix'] = pd.to_datetime(df['TimeOfFix'], unit='s')"
   ]
  },
  {
   "cell_type": "code",
   "execution_count": null,
   "id": "gorgeous-wesley",
   "metadata": {},
   "outputs": [],
   "source": [
    "df.head()"
   ]
  },
  {
   "cell_type": "markdown",
   "id": "smoking-kingston",
   "metadata": {},
   "source": [
    "### GeoPandas and Folium\n",
    "\n",
    "https://geopandas.org/gallery/plotting_with_folium.html  \n",
    "https://jingwen-z.github.io/how-to-draw-a-variety-of-maps-with-folium-in-python/  "
   ]
  },
  {
   "cell_type": "code",
   "execution_count": null,
   "id": "powered-crest",
   "metadata": {},
   "outputs": [],
   "source": [
    "geometry = geopandas.points_from_xy(df.Longitude, df.Latitude)"
   ]
  },
  {
   "cell_type": "code",
   "execution_count": null,
   "id": "amber-spending",
   "metadata": {},
   "outputs": [],
   "source": [
    "geo_df = geopandas.GeoDataFrame(df, geometry=geometry)"
   ]
  },
  {
   "cell_type": "code",
   "execution_count": null,
   "id": "political-conclusion",
   "metadata": {},
   "outputs": [],
   "source": [
    "geo_df.drop(columns=['Longitude', 'Latitude', 'SourceNum', 'RxStnId'], inplace=True)"
   ]
  },
  {
   "cell_type": "code",
   "execution_count": null,
   "id": "wired-poverty",
   "metadata": {},
   "outputs": [],
   "source": [
    "geo_df.head()"
   ]
  },
  {
   "cell_type": "code",
   "execution_count": null,
   "id": "patent-score",
   "metadata": {},
   "outputs": [],
   "source": [
    "# geo_df[['MMSI', 'PortIndex', 'AO']] = geo_df[['MMSI', 'PortIndex', 'AO']].astype('int32')\n",
    "geo_df[['MMSI', 'PortIndex', 'AO']] = geo_df[['MMSI', 'PortIndex', 'AO']].astype('str')"
   ]
  },
  {
   "cell_type": "code",
   "execution_count": null,
   "id": "royal-housing",
   "metadata": {},
   "outputs": [],
   "source": [
    "geo_df.info()"
   ]
  },
  {
   "cell_type": "code",
   "execution_count": null,
   "id": "reported-fleece",
   "metadata": {},
   "outputs": [],
   "source": [
    "world = geopandas.read_file(geopandas.datasets.get_path('naturalearth_lowres'))"
   ]
  },
  {
   "cell_type": "code",
   "execution_count": null,
   "id": "organizational-mexico",
   "metadata": {},
   "outputs": [],
   "source": [
    "fig, ax = plt.subplots(figsize=(24,18))\n",
    "world.plot(ax=ax, alpha=0.4, color='grey')\n",
    "geo_df.plot(column='MMSI', ax=ax, legend=True)\n",
    "plt.title('MSSIS Bermuda Case Study - AIS Message Coverage for Vessels by MMSI')"
   ]
  },
  {
   "cell_type": "code",
   "execution_count": null,
   "id": "earlier-colony",
   "metadata": {},
   "outputs": [],
   "source": [
    "fig.savefig(out_png_path + 'ais_global_coverage.png')"
   ]
  },
  {
   "cell_type": "markdown",
   "id": "senior-implement",
   "metadata": {},
   "source": [
    "we can see there are a few outlier points over land in africa and antarctica"
   ]
  },
  {
   "cell_type": "code",
   "execution_count": null,
   "id": "secondary-geography",
   "metadata": {},
   "outputs": [],
   "source": [
    "coasts = geopandas.read_file('https://raw.githubusercontent.com/nvkelso/natural-earth-vector/master/geojson/ne_10m_coastline.geojson')"
   ]
  },
  {
   "cell_type": "code",
   "execution_count": null,
   "id": "acting-assurance",
   "metadata": {},
   "outputs": [],
   "source": [
    "coasts.total_bounds"
   ]
  },
  {
   "cell_type": "code",
   "execution_count": null,
   "id": "fewer-class",
   "metadata": {},
   "outputs": [],
   "source": [
    "fig, ax = plt.subplots(figsize=(24,18))\n",
    "\n",
    "box = [-98.8085959644,18.4709430525,23.1835915356,63.9333578462]\n",
    "\n",
    "xlim = ([box[0],  box[2]])\n",
    "ylim = ([box[1],  box[3]])\n",
    "\n",
    "ax.set_xlim(xlim)\n",
    "ax.set_ylim(ylim)\n",
    "\n",
    "coasts.plot(ax=ax, alpha=0.4, color='grey')\n",
    "geo_df.plot(column='MMSI', ax=ax, legend=True)\n",
    "plt.title('MSSIS Bermuda Case Study - AIS Message Trans-Atlantic Coverage for Vessels by MMSI')"
   ]
  },
  {
   "cell_type": "code",
   "execution_count": null,
   "id": "packed-beaver",
   "metadata": {},
   "outputs": [],
   "source": [
    "fig.savefig(out_png_path + 'ais_transatlantic_coverage.png')"
   ]
  },
  {
   "cell_type": "code",
   "execution_count": null,
   "id": "provincial-tract",
   "metadata": {},
   "outputs": [],
   "source": [
    "fig, ax = plt.subplots(figsize=(24,18))\n",
    "\n",
    "box = [-53.4155724407,34.2808970679,13.9344472742,60.3598058554]\n",
    "\n",
    "xlim = ([box[0],  box[2]])\n",
    "ylim = ([box[1],  box[3]])\n",
    "\n",
    "ax.set_xlim(xlim)\n",
    "ax.set_ylim(ylim)\n",
    "\n",
    "\n",
    "coasts.plot(ax=ax, alpha=0.4, color='grey')\n",
    "geo_df.plot(column='MMSI', ax=ax, legend=True)\n",
    "plt.title('MSSIS Bermuda Case Study - AIS Message North Atlantic Coverage for Vessels by MMSI')"
   ]
  },
  {
   "cell_type": "code",
   "execution_count": null,
   "id": "stable-archive",
   "metadata": {},
   "outputs": [],
   "source": [
    "fig.savefig(out_png_path + 'ais_north_atlantic_coverage.png')"
   ]
  },
  {
   "cell_type": "code",
   "execution_count": null,
   "id": "following-bubble",
   "metadata": {},
   "outputs": [],
   "source": [
    "fig, ax = plt.subplots(figsize=(24,18))\n",
    "\n",
    "box = [-82.4230613878,24.2375385728,-59.6259944637,43.2329888635]\n",
    "\n",
    "xlim = ([box[0],  box[2]])\n",
    "ylim = ([box[1],  box[3]])\n",
    "\n",
    "ax.set_xlim(xlim)\n",
    "ax.set_ylim(ylim)\n",
    "\n",
    "\n",
    "coasts.plot(ax=ax, alpha=0.4, color='grey')\n",
    "geo_df.plot(column='MMSI', ax=ax, legend=True)\n",
    "plt.title('MSSIS Bermuda Case Study - AIS Message U.S. Mid & South Atlantic Coverage for Vessels by MMSI')"
   ]
  },
  {
   "cell_type": "code",
   "execution_count": null,
   "id": "increased-lloyd",
   "metadata": {},
   "outputs": [],
   "source": [
    "fig.savefig(out_png_path + 'ais_us_mid_south_atlantic_coverage.png')"
   ]
  },
  {
   "cell_type": "code",
   "execution_count": null,
   "id": "expired-pledge",
   "metadata": {},
   "outputs": [],
   "source": [
    "fig, ax = plt.subplots(figsize=(24,18))\n",
    "\n",
    "box = [-68.6324891034,29.4053793797,-60.9058776912,35.1335421742]\n",
    "\n",
    "xlim = ([box[0],  box[2]])\n",
    "ylim = ([box[1],  box[3]])\n",
    "\n",
    "ax.set_xlim(xlim)\n",
    "ax.set_ylim(ylim)\n",
    "\n",
    "\n",
    "coasts.plot(ax=ax, alpha=0.4, color='grey')\n",
    "geo_df.plot(column='MMSI', ax=ax, legend=True)\n",
    "plt.title('MSSIS Bermuda Case Study - AIS Message Bermuda Coverage for Vessels by MMSI')"
   ]
  },
  {
   "cell_type": "code",
   "execution_count": null,
   "id": "automatic-columbia",
   "metadata": {},
   "outputs": [],
   "source": [
    "fig.savefig(out_png_path + 'ais_bermuda_coverage.png')"
   ]
  },
  {
   "cell_type": "markdown",
   "id": "material-associate",
   "metadata": {},
   "source": [
    "### Vessels Calling Bermuda"
   ]
  },
  {
   "cell_type": "code",
   "execution_count": null,
   "id": "split-simon",
   "metadata": {},
   "outputs": [],
   "source": [
    "bm_mmsi = ['244820000', '245227000', '538008204']"
   ]
  },
  {
   "cell_type": "code",
   "execution_count": null,
   "id": "identified-print",
   "metadata": {},
   "outputs": [],
   "source": [
    "bm_df = geo_df[geo_df['MMSI'].isin(bm_mmsi)]"
   ]
  },
  {
   "cell_type": "code",
   "execution_count": null,
   "id": "forty-romantic",
   "metadata": {},
   "outputs": [],
   "source": [
    "bm_df"
   ]
  },
  {
   "cell_type": "code",
   "execution_count": null,
   "id": "cheap-camel",
   "metadata": {},
   "outputs": [],
   "source": [
    "fig, ax = plt.subplots(figsize=(24,18))\n",
    "\n",
    "box = [-82.4230613878,24.2375385728,-59.6259944637,43.2329888635]\n",
    "\n",
    "xlim = ([box[0],  box[2]])\n",
    "ylim = ([box[1],  box[3]])\n",
    "\n",
    "ax.set_xlim(xlim)\n",
    "ax.set_ylim(ylim)\n",
    "\n",
    "\n",
    "coasts.plot(ax=ax, alpha=0.4, color='grey')\n",
    "bm_df.plot(column='MMSI', ax=ax, legend=True)\n",
    "plt.title('MSSIS Bermuda Case Study - AIS Message Bermuda Trade Lane Coverage for Vessels by MMSI')"
   ]
  },
  {
   "cell_type": "code",
   "execution_count": null,
   "id": "permanent-pepper",
   "metadata": {},
   "outputs": [],
   "source": [
    "fig.savefig(out_png_path + 'ais_bermuda_trade_lane_coverage.png')"
   ]
  },
  {
   "cell_type": "code",
   "execution_count": null,
   "id": "twelve-maryland",
   "metadata": {},
   "outputs": [],
   "source": [
    "fig, ax = plt.subplots(figsize=(24,18))\n",
    "\n",
    "box = [-82.4230613878,24.2375385728,-59.6259944637,43.2329888635]\n",
    "\n",
    "xlim = ([box[0],  box[2]])\n",
    "ylim = ([box[1],  box[3]])\n",
    "\n",
    "ax.set_xlim(xlim)\n",
    "ax.set_ylim(ylim)\n",
    "geo_df[geo_df['MMSI'].isin(bm_mmsi)]\n",
    "\n",
    "coasts.plot(ax=ax, alpha=0.4, color='grey')\n",
    "bm_df[bm_df['MMSI'] == '245227000'].plot(column='MMSI', ax=ax, legend=True)\n",
    "plt.title('MSSIS Bermuda Case Study - AIS Message Coverage for MV Somers Isles, MMSI: 245227000')"
   ]
  },
  {
   "cell_type": "code",
   "execution_count": null,
   "id": "western-wheat",
   "metadata": {},
   "outputs": [],
   "source": [
    "fig.savefig(out_png_path + 'ais_mv_somers_isles_coverage.png')"
   ]
  },
  {
   "cell_type": "code",
   "execution_count": null,
   "id": "historic-lecture",
   "metadata": {},
   "outputs": [],
   "source": [
    "fig, ax = plt.subplots(figsize=(24,18))\n",
    "\n",
    "box = [-82.4230613878,24.2375385728,-59.6259944637,43.2329888635]\n",
    "\n",
    "xlim = ([box[0],  box[2]])\n",
    "ylim = ([box[1],  box[3]])\n",
    "\n",
    "ax.set_xlim(xlim)\n",
    "ax.set_ylim(ylim)\n",
    "geo_df[geo_df['MMSI'].isin(bm_mmsi)]\n",
    "\n",
    "coasts.plot(ax=ax, alpha=0.4, color='grey')\n",
    "bm_df[bm_df['MMSI'] == '244820000'].plot(column='MMSI', ax=ax, legend=True)\n",
    "plt.title('MSSIS Bermuda Case Study - AIS Message Coverage for MV Bermuda Islander, MMSI: 244820000')"
   ]
  },
  {
   "cell_type": "code",
   "execution_count": null,
   "id": "extra-questionnaire",
   "metadata": {},
   "outputs": [],
   "source": [
    "fig.savefig(out_png_path + 'ais_mv_bermuda_islander_coverage.png')"
   ]
  },
  {
   "cell_type": "code",
   "execution_count": null,
   "id": "dietary-pricing",
   "metadata": {},
   "outputs": [],
   "source": [
    "fig, ax = plt.subplots(figsize=(24,18))\n",
    "\n",
    "box = [-82.4230613878,24.2375385728,-59.6259944637,43.2329888635]\n",
    "\n",
    "xlim = ([box[0],  box[2]])\n",
    "ylim = ([box[1],  box[3]])\n",
    "\n",
    "ax.set_xlim(xlim)\n",
    "ax.set_ylim(ylim)\n",
    "geo_df[geo_df['MMSI'].isin(bm_mmsi)]\n",
    "\n",
    "coasts.plot(ax=ax, alpha=0.4, color='grey')\n",
    "bm_df[bm_df['MMSI'] == '538008204'].plot(column='MMSI', ax=ax, legend=True)\n",
    "plt.title('MSSIS Bermuda Case Study - AIS Message Coverage for MV Oleander, MMSI: 538008204')"
   ]
  },
  {
   "cell_type": "code",
   "execution_count": null,
   "id": "loving-rabbit",
   "metadata": {},
   "outputs": [],
   "source": [
    "fig.savefig(out_png_path + 'ais_mv_oleander_coverage.png')"
   ]
  },
  {
   "cell_type": "code",
   "execution_count": null,
   "id": "pleased-species",
   "metadata": {},
   "outputs": [],
   "source": [
    "# https://stackoverflow.com/questions/28999287/generate-random-colors-rgb\n",
    "\n",
    "number_of_colors = geo_df.MMSI.unique().size\n",
    "\n",
    "color = [\"#\"+''.join([random.choice('0123456789ABCDEF') for j in range(6)])\n",
    "             for i in range(number_of_colors)]"
   ]
  },
  {
   "cell_type": "code",
   "execution_count": null,
   "id": "developing-museum",
   "metadata": {},
   "outputs": [],
   "source": [
    "map = folium.Map(\n",
    "    location = [32.316667,-64.833333],\n",
    "    tiles='https://server.arcgisonline.com/ArcGIS/rest/services/World_Topo_Map/MapServer/tile/{z}/{y}/{x}',\n",
    "    attr='Tiles &copy; Esri &mdash; EsriJapan, METI, Esri China (Hong Kong), and the GIS User Community',\n",
    "    zoom_start=6\n",
    ")"
   ]
  },
  {
   "cell_type": "code",
   "execution_count": null,
   "id": "supreme-focus",
   "metadata": {},
   "outputs": [],
   "source": [
    "color_dict = {}"
   ]
  },
  {
   "cell_type": "code",
   "execution_count": null,
   "id": "regulation-swing",
   "metadata": {},
   "outputs": [],
   "source": [
    "mmsi_list = geo_df.MMSI.unique()"
   ]
  },
  {
   "cell_type": "code",
   "execution_count": null,
   "id": "exterior-pickup",
   "metadata": {},
   "outputs": [],
   "source": [
    "# https://jingwen-z.github.io/how-to-draw-a-variety-of-maps-with-folium-in-python/\n",
    "i=0\n",
    "for mmsi in mmsi_list:\n",
    "    color_dict[mmsi] = {\n",
    "        'MMSI': mmsi,\n",
    "        'color': color[i],\n",
    "        'feature': folium.FeatureGroup(\n",
    "                      name=mmsi,\n",
    "                      show=False\n",
    "                  )\n",
    "    }\n",
    "    i+=1"
   ]
  },
  {
   "cell_type": "code",
   "execution_count": null,
   "id": "terminal-static",
   "metadata": {},
   "outputs": [],
   "source": [
    "for idx, row in geo_df.iterrows():\n",
    "    mmsi = row['MMSI']\n",
    "    c = color_dict[mmsi]['color']\n",
    "\n",
    "    folium.CircleMarker(\n",
    "        location=[row.geometry.y, row.geometry.x],\n",
    "        radius=1,\n",
    "        color=c,\n",
    "        fill_color=c,\n",
    "        fill=True\n",
    "    ).add_to(color_dict[mmsi]['feature'])"
   ]
  },
  {
   "cell_type": "code",
   "execution_count": null,
   "id": "endless-trinidad",
   "metadata": {},
   "outputs": [],
   "source": [
    "for k, v in color_dict.items():\n",
    "    v['feature'].add_to(map)\n",
    "\n",
    "folium.LayerControl(\n",
    "    name='MMSI',\n",
    "    collapsed=True\n",
    ").add_to(map)"
   ]
  },
  {
   "cell_type": "code",
   "execution_count": null,
   "id": "personal-retreat",
   "metadata": {},
   "outputs": [],
   "source": [
    "map.save(out_html_path + 'folium_map.html')"
   ]
  },
  {
   "cell_type": "code",
   "execution_count": null,
   "id": "special-arrival",
   "metadata": {},
   "outputs": [],
   "source": [
    "map"
   ]
  }
 ],
 "metadata": {
  "language_info": {
   "name": "python",
   "pygments_lexer": "ipython3"
  }
 },
 "nbformat": 4,
 "nbformat_minor": 5
}
