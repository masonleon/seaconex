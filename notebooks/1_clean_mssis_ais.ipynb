{
 "cells": [
  {
   "cell_type": "markdown",
   "id": "unexpected-encyclopedia",
   "metadata": {},
   "source": [
    "# Clean MSSIS AIS"
   ]
  },
  {
   "cell_type": "markdown",
   "id": "solid-worth",
   "metadata": {},
   "source": [
    "Cleaning of the Bermuda Case Study MSSIS vessel history dateset provided by Volpe."
   ]
  },
  {
   "cell_type": "code",
   "execution_count": null,
   "id": "brave-variance",
   "metadata": {},
   "outputs": [],
   "source": [
    "file = '../data/raw/volpe-bermuda-mssis-vessel-history.csv'"
   ]
  },
  {
   "cell_type": "code",
   "execution_count": null,
   "id": "strong-sensitivity",
   "metadata": {},
   "outputs": [],
   "source": [
    "out_path = '../data/interim/'"
   ]
  },
  {
   "cell_type": "markdown",
   "id": "exposed-aviation",
   "metadata": {},
   "source": [
    "## volpe-bermuda-mssis-vessel-history.csv"
   ]
  },
  {
   "cell_type": "code",
   "execution_count": null,
   "id": "hispanic-twelve",
   "metadata": {},
   "outputs": [],
   "source": [
    "import pandas as pd\n",
    "import geopandas\n",
    "import json\n",
    "import fiona\n",
    "\n",
    "from shapely.geometry import Point"
   ]
  },
  {
   "cell_type": "code",
   "execution_count": null,
   "id": "listed-sympathy",
   "metadata": {},
   "outputs": [],
   "source": [
    "!head '-n 5' $file"
   ]
  },
  {
   "cell_type": "code",
   "execution_count": null,
   "id": "answering-syndication",
   "metadata": {},
   "outputs": [],
   "source": [
    "df = pd.read_csv(file, sep=',',)"
   ]
  },
  {
   "cell_type": "code",
   "execution_count": null,
   "id": "elect-slovenia",
   "metadata": {},
   "outputs": [],
   "source": [
    "df.head()"
   ]
  },
  {
   "cell_type": "code",
   "execution_count": null,
   "id": "super-swimming",
   "metadata": {},
   "outputs": [],
   "source": [
    "df.info()"
   ]
  },
  {
   "cell_type": "code",
   "execution_count": null,
   "id": "inappropriate-birmingham",
   "metadata": {},
   "outputs": [],
   "source": [
    "df.describe()"
   ]
  },
  {
   "cell_type": "code",
   "execution_count": null,
   "id": "involved-leadership",
   "metadata": {},
   "outputs": [],
   "source": [
    "df.isna().any()"
   ]
  },
  {
   "cell_type": "code",
   "execution_count": null,
   "id": "behavioral-female",
   "metadata": {},
   "outputs": [],
   "source": [
    "df.EEZ.unique()"
   ]
  },
  {
   "cell_type": "markdown",
   "id": "swiss-airport",
   "metadata": {},
   "source": [
    "UN/LOCODE, the United Nations Code for Trade and Transport Locations assigns 'XZ' for international waters.\n",
    "\n",
    "https://unece.org/trade/cefact/unlocode-code-list-country-and-territory"
   ]
  },
  {
   "cell_type": "code",
   "execution_count": null,
   "id": "dominican-empty",
   "metadata": {},
   "outputs": [],
   "source": [
    "df.EEZ.fillna('XZ', inplace=True)"
   ]
  },
  {
   "cell_type": "code",
   "execution_count": null,
   "id": "overhead-james",
   "metadata": {},
   "outputs": [],
   "source": [
    "df.PortIndex.unique()"
   ]
  },
  {
   "cell_type": "code",
   "execution_count": null,
   "id": "hidden-company",
   "metadata": {},
   "outputs": [],
   "source": [
    "df.AO.unique()"
   ]
  },
  {
   "cell_type": "code",
   "execution_count": null,
   "id": "strange-canberra",
   "metadata": {},
   "outputs": [],
   "source": [
    "df.SourceNum.unique()"
   ]
  },
  {
   "cell_type": "code",
   "execution_count": null,
   "id": "empty-composition",
   "metadata": {},
   "outputs": [],
   "source": [
    "df.RxStnId.unique()"
   ]
  },
  {
   "cell_type": "code",
   "execution_count": null,
   "id": "descending-physiology",
   "metadata": {},
   "outputs": [],
   "source": [
    "df.drop(columns=['SourceNum', 'RxStnId'], inplace=True)"
   ]
  },
  {
   "cell_type": "code",
   "execution_count": null,
   "id": "stunning-postage",
   "metadata": {},
   "outputs": [],
   "source": [
    "df['TimeOfFix'] = pd.to_datetime(df['TimeOfFix'], unit='s')"
   ]
  },
  {
   "cell_type": "code",
   "execution_count": null,
   "id": "progressive-ethiopia",
   "metadata": {},
   "outputs": [],
   "source": [
    "df.head()"
   ]
  },
  {
   "cell_type": "code",
   "execution_count": null,
   "id": "wrapped-request",
   "metadata": {},
   "outputs": [],
   "source": [
    "df[['MMSI', 'PortIndex']] = df[['MMSI','PortIndex']].astype('uint32')"
   ]
  },
  {
   "cell_type": "code",
   "execution_count": null,
   "id": "industrial-specialist",
   "metadata": {},
   "outputs": [],
   "source": [
    "df[['AO']] = df[['AO']].astype('uint8')"
   ]
  },
  {
   "cell_type": "code",
   "execution_count": null,
   "id": "limited-bronze",
   "metadata": {},
   "outputs": [],
   "source": [
    "df.info()"
   ]
  },
  {
   "cell_type": "code",
   "execution_count": null,
   "id": "constant-traveler",
   "metadata": {},
   "outputs": [],
   "source": [
    "geometry = geopandas.points_from_xy(df.Longitude, df.Latitude)"
   ]
  },
  {
   "cell_type": "code",
   "execution_count": null,
   "id": "copyrighted-dodge",
   "metadata": {},
   "outputs": [],
   "source": [
    "df.drop(columns=['Longitude', 'Latitude'], inplace=True)"
   ]
  },
  {
   "cell_type": "code",
   "execution_count": null,
   "id": "educational-somewhere",
   "metadata": {},
   "outputs": [],
   "source": [
    "df.rename(columns = {'MMSI': 'vessel_mmsi', 'TimeOfFix': 'ais_time', 'SOG': 'ais_sog', 'Heading': 'ais_heading', 'PortIndex': 'mssis_wpi', 'EEZ': 'mssis_eez', 'AO': 'mssis_ao'}, inplace=True)"
   ]
  },
  {
   "cell_type": "code",
   "execution_count": null,
   "id": "premium-china",
   "metadata": {},
   "outputs": [],
   "source": [
    "df.info()"
   ]
  },
  {
   "cell_type": "code",
   "execution_count": null,
   "id": "earned-andrew",
   "metadata": {},
   "outputs": [],
   "source": [
    "gdf = geopandas.GeoDataFrame(df, geometry=geometry, crs=\"EPSG:4326\")"
   ]
  },
  {
   "cell_type": "code",
   "execution_count": null,
   "id": "dominant-research",
   "metadata": {},
   "outputs": [],
   "source": [
    "gdf.head()"
   ]
  },
  {
   "cell_type": "code",
   "execution_count": null,
   "id": "reserved-neighborhood",
   "metadata": {},
   "outputs": [],
   "source": [
    "gdf = gdf.rename(columns = {'geometry': 'ais_geometry'}).set_geometry('ais_geometry')"
   ]
  },
  {
   "cell_type": "code",
   "execution_count": null,
   "id": "contrary-georgia",
   "metadata": {},
   "outputs": [],
   "source": [
    "gdf.info()"
   ]
  },
  {
   "cell_type": "code",
   "execution_count": null,
   "id": "presidential-spouse",
   "metadata": {},
   "outputs": [],
   "source": [
    "gdf.crs"
   ]
  },
  {
   "cell_type": "code",
   "execution_count": null,
   "id": "beautiful-wyoming",
   "metadata": {},
   "outputs": [],
   "source": [
    "gdf.head()"
   ]
  },
  {
   "cell_type": "code",
   "execution_count": null,
   "id": "injured-ebony",
   "metadata": {},
   "outputs": [],
   "source": [
    "mssis_ais_records_location_count = gdf.groupby(['mssis_wpi','mssis_eez', 'mssis_ao']).size().reset_index().rename(columns={0:'ais_count'}).to_dict(orient='records')"
   ]
  },
  {
   "cell_type": "code",
   "execution_count": null,
   "id": "based-extraction",
   "metadata": {},
   "outputs": [],
   "source": [
    "mssis ={\n",
    "    'mssis_wpi': gdf.mssis_wpi.unique().tolist(),\n",
    "    'mssis_eez': gdf.mssis_eez.unique().tolist(),\n",
    "    'mssis_ao': gdf.mssis_ao.unique().tolist(),\n",
    "    'mssis_ais_records_location_count': mssis_ais_records_location_count\n",
    "}"
   ]
  },
  {
   "cell_type": "code",
   "execution_count": null,
   "id": "hundred-formation",
   "metadata": {},
   "outputs": [],
   "source": [
    "with open(out_path + 'mssis-ais-region_v1.json', 'w') as json_file:\n",
    "    json.dump(mssis, json_file)"
   ]
  },
  {
   "cell_type": "code",
   "execution_count": null,
   "id": "revised-yellow",
   "metadata": {},
   "outputs": [],
   "source": [
    "# gdf.ais_time = gdf.ais_time.astype(str)\n",
    "# gdf.info()"
   ]
  },
  {
   "cell_type": "code",
   "execution_count": null,
   "id": "british-friendship",
   "metadata": {},
   "outputs": [],
   "source": [
    "gdf.to_file(out_path + 'mssis-ais-records_v1.geojson', driver='GeoJSON')"
   ]
  },
  {
   "cell_type": "code",
   "execution_count": null,
   "id": "adolescent-interstate",
   "metadata": {},
   "outputs": [],
   "source": [
    "gdf.to_file(out_path + 'mssis-ais-records_v1.gpkg', driver='GPKG')"
   ]
  },
  {
   "cell_type": "markdown",
   "id": "banned-warner",
   "metadata": {},
   "source": [
    "# TODO: Delete Outlier Points"
   ]
  }
 ],
 "metadata": {
  "language_info": {
   "name": "python",
   "pygments_lexer": "ipython3"
  }
 },
 "nbformat": 4,
 "nbformat_minor": 5
}
