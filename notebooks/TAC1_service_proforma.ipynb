{
 "cells": [
  {
   "cell_type": "code",
   "execution_count": null,
   "id": "massive-bench",
   "metadata": {},
   "outputs": [],
   "source": [
    "import pandas as pd"
   ]
  },
  {
   "cell_type": "code",
   "execution_count": null,
   "id": "fundamental-granny",
   "metadata": {},
   "outputs": [],
   "source": [
    "terminal_df = pd.read_csv('../data/raw/terminal.csv').fillna('')"
   ]
  },
  {
   "cell_type": "code",
   "execution_count": null,
   "id": "honest-raise",
   "metadata": {},
   "outputs": [],
   "source": [
    "# terminal_df.head()"
   ]
  },
  {
   "cell_type": "code",
   "execution_count": null,
   "id": "apart-stone",
   "metadata": {},
   "outputs": [],
   "source": [
    "terminal_df[['terminal_facility_name','terminal_company_name']] = terminal_df[['terminal_facility_name','terminal_company_name']].astype(str).apply(lambda x: x.str.upper())"
   ]
  },
  {
   "cell_type": "code",
   "execution_count": null,
   "id": "silent-builder",
   "metadata": {},
   "outputs": [],
   "source": [
    "# terminal_df.head()"
   ]
  },
  {
   "cell_type": "code",
   "execution_count": null,
   "id": "governmental-livestock",
   "metadata": {},
   "outputs": [],
   "source": [
    "terminal_df[['terminal_lat','terminal_lon']] = terminal_df[['terminal_lat','terminal_lon']].astype(str).apply(lambda x: x.str.replace(' ', ''))"
   ]
  },
  {
   "cell_type": "code",
   "execution_count": null,
   "id": "sealed-cabinet",
   "metadata": {},
   "outputs": [],
   "source": [
    "terminal_df.head()"
   ]
  },
  {
   "cell_type": "code",
   "execution_count": null,
   "id": "explicit-stevens",
   "metadata": {},
   "outputs": [],
   "source": [
    "terminal_df[['terminal_lat','terminal_lon']] = terminal_df[['terminal_lat','terminal_lon']].astype(str).apply(lambda x: x.str[1:] + x.str[0])"
   ]
  },
  {
   "cell_type": "code",
   "execution_count": null,
   "id": "related-illustration",
   "metadata": {},
   "outputs": [],
   "source": [
    "terminal_df.head()"
   ]
  },
  {
   "cell_type": "code",
   "execution_count": null,
   "id": "paperback-empire",
   "metadata": {},
   "outputs": [],
   "source": [
    "\"\"\"\n",
    "Converting Degrees, Minutes, Seconds formatted coordinate strings to decimal. \n",
    "\n",
    "Formula:\n",
    "DEC = (DEG + (MIN * 1/60) + (SEC * 1/60 * 1/60))\n",
    "\n",
    "Assumes S/W are negative. \n",
    "\"\"\"\n",
    "\n",
    "import re\n",
    "\n",
    "#https://www.javaer101.com/en/article/18832510.html\n",
    "#https://stackoverflow.com/questions/33997361\n",
    "def dms2dd(s):\n",
    "    # example: s = \"\"\"0°51'56.29\"S\"\"\"\n",
    "    degrees, minutes, seconds, direction = re.split('[°\\'\"]+', s)\n",
    "    dd = float(degrees) + float(minutes)/60 + float(seconds)/(60*60);\n",
    "    if direction in ('S','W'):\n",
    "        dd*= -1\n",
    "    return dd"
   ]
  },
  {
   "cell_type": "code",
   "execution_count": null,
   "id": "surgical-bristol",
   "metadata": {},
   "outputs": [],
   "source": [
    "terminal_df['terminal_lat'] = terminal_df['terminal_lat'].apply(dms2dd)\n",
    "terminal_df['terminal_lon'] = terminal_df['terminal_lon'].apply(dms2dd)"
   ]
  },
  {
   "cell_type": "code",
   "execution_count": null,
   "id": "annual-creation",
   "metadata": {},
   "outputs": [],
   "source": [
    "terminal_df.to_json ('../data/processed/terminal.json', orient='records', indent=2)"
   ]
  },
  {
   "cell_type": "code",
   "execution_count": null,
   "id": "desperate-south",
   "metadata": {},
   "outputs": [],
   "source": [
    "terminal_df"
   ]
  },
  {
   "cell_type": "code",
   "execution_count": null,
   "id": "hispanic-bermuda",
   "metadata": {},
   "outputs": [],
   "source": [
    "tac1_df = pd.read_csv('../data/raw/TAC1_service_proforma.csv').fillna('')"
   ]
  },
  {
   "cell_type": "code",
   "execution_count": null,
   "id": "korean-corner",
   "metadata": {},
   "outputs": [],
   "source": [
    "tac1_df"
   ]
  },
  {
   "cell_type": "code",
   "execution_count": null,
   "id": "micro-springfield",
   "metadata": {},
   "outputs": [],
   "source": [
    "import networkx as nx"
   ]
  },
  {
   "cell_type": "code",
   "execution_count": null,
   "id": "rubber-future",
   "metadata": {},
   "outputs": [],
   "source": [
    "edge_columns = ['service_id_fk', 'service_trade', 'service_trade_lane', 'transport_edge_no', 'transport_call_port_1', 'service_proforma_port_call_sequence_no_port1', 'service_proforma_terminal_call_sequence_no_port1', 'transport_call_port_2', 'service_proforma_port_call_sequence_no_port2', 'service_proforma_terminal_call_sequence_no_port2']"
   ]
  },
  {
   "cell_type": "code",
   "execution_count": null,
   "id": "eastern-venezuela",
   "metadata": {},
   "outputs": [],
   "source": [
    "tac_edges_df = pd.DataFrame(columns = edge_columns)"
   ]
  },
  {
   "cell_type": "code",
   "execution_count": null,
   "id": "ceramic-triple",
   "metadata": {},
   "outputs": [],
   "source": [
    "tac_edges_df"
   ]
  },
  {
   "cell_type": "code",
   "execution_count": null,
   "id": "respiratory-greece",
   "metadata": {},
   "outputs": [],
   "source": [
    "curr_row = None\n",
    "prev_row = None\n",
    "num = -1\n",
    "\n",
    "for index, row in tac1_df.iterrows():\n",
    "    if all(v is not None for v in [curr_row, prev_row]):\n",
    "        if curr_row['service_trade_lane']==prev_row['service_trade_lane']:\n",
    "#             print(str(num), curr_row['terminal'], prev_row['terminal'])\n",
    "            tac_edges_df = tac_edges_df.append({'service_id_fk': prev_row['service_id_fk'],\n",
    "                                                'service_trade': prev_row['service_trade'],\n",
    "                                                'service_trade_lane': prev_row['service_trade_lane'],\n",
    "                                                'transport_edge_no': prev_row['service_id_fk'] + '_' + str(num),\n",
    "                                                'transport_call_port_1': prev_row['terminal'],\n",
    "                                                'service_proforma_port_call_sequence_no_port1': prev_row['service_proforma_port_call_sequence_no'],\n",
    "                                                'service_proforma_terminal_call_sequence_no_port1': prev_row['service_proforma_terminal_call_sequence_no'],\n",
    "                                                'transport_call_port_2': curr_row['terminal'],\n",
    "                                                'service_proforma_port_call_sequence_no_port2': curr_row['service_proforma_port_call_sequence_no'],\n",
    "                                                'service_proforma_terminal_call_sequence_no_port2': curr_row['service_proforma_terminal_call_sequence_no']\n",
    "                                               }, \n",
    "                                               ignore_index = True)\n",
    "        prev_row = curr_row;\n",
    "        \n",
    "    if prev_row is None and curr_row is not None:\n",
    "#         print(curr_row)\n",
    "        prev_row = curr_row\n",
    "        \n",
    "    curr_row = row;\n",
    "    num += 1\n",
    "    \n",
    "if curr_row['service_trade_lane']==prev_row['service_trade_lane']:\n",
    "#             print(str(num), curr_row['terminal'], prev_row['terminal'])\n",
    "            tac_edges_df = tac_edges_df.append({'service_id_fk': prev_row['service_id_fk'],\n",
    "                                                'service_trade': prev_row['service_trade'],\n",
    "                                                'service_trade_lane': prev_row['service_trade_lane'],\n",
    "                                                'transport_edge_no': prev_row['service_id_fk'] + '_' + str(num),\n",
    "                                                'transport_call_port_1': prev_row['terminal'],\n",
    "                                                'service_proforma_port_call_sequence_no_port1': prev_row['service_proforma_port_call_sequence_no'],\n",
    "                                                'service_proforma_terminal_call_sequence_no_port1': prev_row['service_proforma_terminal_call_sequence_no'],\n",
    "                                                'transport_call_port_2': curr_row['terminal'],\n",
    "                                                'service_proforma_port_call_sequence_no_port2': curr_row['service_proforma_port_call_sequence_no'],\n",
    "                                                'service_proforma_terminal_call_sequence_no_port2': curr_row['service_proforma_terminal_call_sequence_no']\n",
    "                                               }, \n",
    "                                               ignore_index = True)"
   ]
  },
  {
   "cell_type": "code",
   "execution_count": null,
   "id": "isolated-insight",
   "metadata": {},
   "outputs": [],
   "source": [
    "tac_edges_df"
   ]
  },
  {
   "cell_type": "code",
   "execution_count": null,
   "id": "confirmed-surface",
   "metadata": {},
   "outputs": [],
   "source": [
    "tac_edges_df.to_json ('../data/processed/edges.json', orient='records', indent=2)"
   ]
  },
  {
   "cell_type": "code",
   "execution_count": null,
   "id": "warming-nicaragua",
   "metadata": {},
   "outputs": [],
   "source": []
  }
 ],
 "metadata": {
  "language_info": {
   "name": "python",
   "pygments_lexer": "ipython3"
  }
 },
 "nbformat": 4,
 "nbformat_minor": 5
}
