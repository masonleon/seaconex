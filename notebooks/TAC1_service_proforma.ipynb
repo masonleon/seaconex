{
 "cells": [
  {
   "cell_type": "code",
   "execution_count": null,
   "id": "respiratory-penguin",
   "metadata": {},
   "outputs": [],
   "source": [
    "import pandas as pd"
   ]
  },
  {
   "cell_type": "code",
   "execution_count": null,
   "id": "spatial-nylon",
   "metadata": {},
   "outputs": [],
   "source": [
    "terminal_df = pd.read_csv('../data/raw/terminal.csv').fillna('')"
   ]
  },
  {
   "cell_type": "code",
   "execution_count": null,
   "id": "operating-coordinator",
   "metadata": {},
   "outputs": [],
   "source": [
    "# terminal_df.head()"
   ]
  },
  {
   "cell_type": "code",
   "execution_count": null,
   "id": "married-adams",
   "metadata": {},
   "outputs": [],
   "source": [
    "terminal_df[['terminal_facility_name','terminal_company_name']] = terminal_df[['terminal_facility_name','terminal_company_name']].astype(str).apply(lambda x: x.str.upper())"
   ]
  },
  {
   "cell_type": "code",
   "execution_count": null,
   "id": "sealed-dublin",
   "metadata": {},
   "outputs": [],
   "source": [
    "# terminal_df.head()"
   ]
  },
  {
   "cell_type": "code",
   "execution_count": null,
   "id": "junior-music",
   "metadata": {},
   "outputs": [],
   "source": [
    "terminal_df[['terminal_lat','terminal_lon']] = terminal_df[['terminal_lat','terminal_lon']].astype(str).apply(lambda x: x.str.replace(' ', ''))"
   ]
  },
  {
   "cell_type": "code",
   "execution_count": null,
   "id": "banned-tract",
   "metadata": {},
   "outputs": [],
   "source": [
    "terminal_df.head()"
   ]
  },
  {
   "cell_type": "code",
   "execution_count": null,
   "id": "signal-telephone",
   "metadata": {},
   "outputs": [],
   "source": [
    "terminal_df[['terminal_lat','terminal_lon']] = terminal_df[['terminal_lat','terminal_lon']].astype(str).apply(lambda x: x.str[1:] + x.str[0])"
   ]
  },
  {
   "cell_type": "code",
   "execution_count": null,
   "id": "systematic-robin",
   "metadata": {},
   "outputs": [],
   "source": [
    "terminal_df.head()"
   ]
  },
  {
   "cell_type": "code",
   "execution_count": null,
   "id": "arctic-corruption",
   "metadata": {},
   "outputs": [],
   "source": [
    "\"\"\"\n",
    "Converting Degrees, Minutes, Seconds formatted coordinate strings to decimal. \n",
    "\n",
    "Formula:\n",
    "DEC = (DEG + (MIN * 1/60) + (SEC * 1/60 * 1/60))\n",
    "\n",
    "Assumes S/W are negative. \n",
    "\"\"\"\n",
    "\n",
    "import re\n",
    "\n",
    "#https://www.javaer101.com/en/article/18832510.html\n",
    "#https://stackoverflow.com/questions/33997361\n",
    "def dms2dd(s):\n",
    "    # example: s = \"\"\"0°51'56.29\"S\"\"\"\n",
    "    degrees, minutes, seconds, direction = re.split('[°\\'\"]+', s)\n",
    "    dd = float(degrees) + float(minutes)/60 + float(seconds)/(60*60);\n",
    "    if direction in ('S','W'):\n",
    "        dd*= -1\n",
    "    return dd"
   ]
  },
  {
   "cell_type": "code",
   "execution_count": null,
   "id": "loving-court",
   "metadata": {},
   "outputs": [],
   "source": [
    "terminal_df['terminal_lat'] = terminal_df['terminal_lat'].apply(dms2dd)\n",
    "terminal_df['terminal_lon'] = terminal_df['terminal_lon'].apply(dms2dd)"
   ]
  },
  {
   "cell_type": "code",
   "execution_count": null,
   "id": "fresh-tower",
   "metadata": {},
   "outputs": [],
   "source": [
    "terminal_df.to_json ('../data/processed/terminal.json', orient='records', indent=2)"
   ]
  },
  {
   "cell_type": "code",
   "execution_count": null,
   "id": "organized-complex",
   "metadata": {},
   "outputs": [],
   "source": [
    "terminal_df"
   ]
  },
  {
   "cell_type": "code",
   "execution_count": null,
   "id": "expensive-decline",
   "metadata": {},
   "outputs": [],
   "source": []
  }
 ],
 "metadata": {
  "language_info": {
   "name": "python",
   "pygments_lexer": "ipython3"
  }
 },
 "nbformat": 4,
 "nbformat_minor": 5
}
