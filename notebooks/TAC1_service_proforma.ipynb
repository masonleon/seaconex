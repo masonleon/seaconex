{
 "cells": [
  {
   "cell_type": "code",
   "execution_count": null,
   "id": "restricted-peace",
   "metadata": {},
   "outputs": [],
   "source": [
    "import pandas as pd"
   ]
  },
  {
   "cell_type": "code",
   "execution_count": null,
   "id": "assigned-expert",
   "metadata": {},
   "outputs": [],
   "source": [
    "terminal_df = pd.read_csv('../data/raw/terminal.csv').fillna('')"
   ]
  },
  {
   "cell_type": "code",
   "execution_count": null,
   "id": "musical-rwanda",
   "metadata": {},
   "outputs": [],
   "source": [
    "# terminal_df.head()"
   ]
  },
  {
   "cell_type": "code",
   "execution_count": null,
   "id": "sealed-studio",
   "metadata": {},
   "outputs": [],
   "source": [
    "terminal_df[['terminal_facility_name','terminal_company_name']] = terminal_df[['terminal_facility_name','terminal_company_name']].astype(str).apply(lambda x: x.str.upper())"
   ]
  },
  {
   "cell_type": "code",
   "execution_count": null,
   "id": "upset-nitrogen",
   "metadata": {},
   "outputs": [],
   "source": [
    "# terminal_df.head()"
   ]
  },
  {
   "cell_type": "code",
   "execution_count": null,
   "id": "express-trustee",
   "metadata": {},
   "outputs": [],
   "source": [
    "terminal_df[['terminal_lat','terminal_lon']] = terminal_df[['terminal_lat','terminal_lon']].astype(str).apply(lambda x: x.str.replace(' ', ''))"
   ]
  },
  {
   "cell_type": "code",
   "execution_count": null,
   "id": "indian-chrome",
   "metadata": {},
   "outputs": [],
   "source": [
    "terminal_df.head()"
   ]
  },
  {
   "cell_type": "code",
   "execution_count": null,
   "id": "eight-framework",
   "metadata": {},
   "outputs": [],
   "source": [
    "terminal_df[['terminal_lat','terminal_lon']] = terminal_df[['terminal_lat','terminal_lon']].astype(str).apply(lambda x: x.str[1:] + x.str[0])"
   ]
  },
  {
   "cell_type": "code",
   "execution_count": null,
   "id": "coupled-partition",
   "metadata": {},
   "outputs": [],
   "source": [
    "terminal_df.head()"
   ]
  },
  {
   "cell_type": "code",
   "execution_count": null,
   "id": "pointed-canberra",
   "metadata": {},
   "outputs": [],
   "source": [
    "\"\"\"\n",
    "Converting Degrees, Minutes, Seconds formatted coordinate strings to decimal. \n",
    "\n",
    "Formula:\n",
    "DEC = (DEG + (MIN * 1/60) + (SEC * 1/60 * 1/60))\n",
    "\n",
    "Assumes S/W are negative. \n",
    "\"\"\"\n",
    "\n",
    "import re\n",
    "\n",
    "#https://www.javaer101.com/en/article/18832510.html\n",
    "#https://stackoverflow.com/questions/33997361\n",
    "def dms2dd(s):\n",
    "    # example: s = \"\"\"0°51'56.29\"S\"\"\"\n",
    "    degrees, minutes, seconds, direction = re.split('[°\\'\"]+', s)\n",
    "    dd = float(degrees) + float(minutes)/60 + float(seconds)/(60*60);\n",
    "    if direction in ('S','W'):\n",
    "        dd*= -1\n",
    "    return dd"
   ]
  },
  {
   "cell_type": "code",
   "execution_count": null,
   "id": "greatest-format",
   "metadata": {},
   "outputs": [],
   "source": [
    "terminal_df['terminal_lat'] = terminal_df['terminal_lat'].apply(dms2dd)\n",
    "terminal_df['terminal_lon'] = terminal_df['terminal_lon'].apply(dms2dd)"
   ]
  },
  {
   "cell_type": "code",
   "execution_count": null,
   "id": "other-secretary",
   "metadata": {},
   "outputs": [],
   "source": [
    "terminal_df.to_json ('../data/processed/terminal.json', orient='records', indent=2)"
   ]
  },
  {
   "cell_type": "code",
   "execution_count": null,
   "id": "concrete-glass",
   "metadata": {},
   "outputs": [],
   "source": [
    "terminal_df"
   ]
  },
  {
   "cell_type": "code",
   "execution_count": null,
   "id": "possible-heath",
   "metadata": {},
   "outputs": [],
   "source": [
    "tac1_df = pd.read_csv('../data/raw/TAC1_service_proforma.csv').fillna('')"
   ]
  },
  {
   "cell_type": "code",
   "execution_count": null,
   "id": "colored-validation",
   "metadata": {},
   "outputs": [],
   "source": [
    "tac1_df"
   ]
  },
  {
   "cell_type": "code",
   "execution_count": null,
   "id": "angry-confidence",
   "metadata": {},
   "outputs": [],
   "source": [
    "import networkx as nx"
   ]
  },
  {
   "cell_type": "code",
   "execution_count": null,
   "id": "circular-johnson",
   "metadata": {},
   "outputs": [],
   "source": []
  },
  {
   "cell_type": "code",
   "execution_count": null,
   "id": "least-velvet",
   "metadata": {},
   "outputs": [],
   "source": [
    "service_id_fk, service_trade, service_trade_lane, transport_edge_no, transport_call_port_1, service_proforma_port_call_sequence_no_port1, service_proforma_terminal_call_sequence_no_port1, transport_call_port_2, service_proforma_port_call_sequence_no_port2, service_proforma_terminal_call_sequence_no_port2"
   ]
  }
 ],
 "metadata": {
  "language_info": {
   "name": "python",
   "pygments_lexer": "ipython3"
  }
 },
 "nbformat": 4,
 "nbformat_minor": 5
}
