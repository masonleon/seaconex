{
 "cells": [
  {
   "cell_type": "markdown",
   "id": "creative-gather",
   "metadata": {},
   "source": [
    "# Pre-Process Join MSSIS AIS and Carrier Vessels"
   ]
  },
  {
   "cell_type": "code",
   "execution_count": null,
   "id": "northern-bubble",
   "metadata": {},
   "outputs": [],
   "source": [
    "import pandas as pd\n",
    "import geopandas as gpd\n",
    "import numpy as np\n",
    "import json\n",
    "import fiona\n",
    "\n",
    "from shapely.geometry import Point"
   ]
  },
  {
   "cell_type": "code",
   "execution_count": null,
   "id": "twenty-relevance",
   "metadata": {},
   "outputs": [],
   "source": [
    "ais_file = '../data/interim/mssis-ais-records_v1.gpkg'\n",
    "vessels_file = '../data/raw/vessels.csv'\n",
    "\n",
    "out_path = '../data/interim/'"
   ]
  },
  {
   "cell_type": "code",
   "execution_count": null,
   "id": "material-terry",
   "metadata": {},
   "outputs": [],
   "source": [
    "gdf_ais = gpd.read_file(ais_file)\n",
    "wgs84 = gdf_ais.crs\n",
    "\n",
    "gdf_ais['ais_time'] = pd.to_datetime(gdf_ais['ais_time'], format='%Y-%m-%d %H:%M:%S')\n",
    "\n",
    "# df_ais = df_ais[df_ais['vessel_mmsi']==211256150].sort_values(['ais_time'], ascending=True)"
   ]
  },
  {
   "cell_type": "code",
   "execution_count": null,
   "id": "decimal-entrepreneur",
   "metadata": {},
   "outputs": [],
   "source": [
    "gdf_ais.head()"
   ]
  },
  {
   "cell_type": "code",
   "execution_count": null,
   "id": "subjective-begin",
   "metadata": {},
   "outputs": [],
   "source": [
    "df_vessels = pd.read_csv(vessels_file, sep=',')"
   ]
  },
  {
   "cell_type": "code",
   "execution_count": null,
   "id": "greenhouse-collectible",
   "metadata": {},
   "outputs": [],
   "source": [
    "df_vessels.head()"
   ]
  },
  {
   "cell_type": "code",
   "execution_count": null,
   "id": "thousand-lithuania",
   "metadata": {},
   "outputs": [],
   "source": [
    "df_vessels.fillna(0, inplace=True)"
   ]
  },
  {
   "cell_type": "code",
   "execution_count": null,
   "id": "worthy-detector",
   "metadata": {},
   "outputs": [],
   "source": [
    "df_vessels[['vessel_capacity_vehicle_units', 'vessel_stern_ramp_capacity_tons']] = df_vessels[['vessel_capacity_vehicle_units', 'vessel_stern_ramp_capacity_tons']].astype('int')"
   ]
  },
  {
   "cell_type": "code",
   "execution_count": null,
   "id": "wired-hepatitis",
   "metadata": {},
   "outputs": [],
   "source": [
    "df_vessels.head()"
   ]
  },
  {
   "cell_type": "code",
   "execution_count": null,
   "id": "presidential-dictionary",
   "metadata": {},
   "outputs": [],
   "source": [
    "cols = df_vessels.columns.tolist()[-6:]"
   ]
  },
  {
   "cell_type": "code",
   "execution_count": null,
   "id": "roman-fever",
   "metadata": {},
   "outputs": [],
   "source": [
    "df_vessels['service_id'] = ''\n",
    "\n",
    "for service in cols:\n",
    "    df_vessels.loc[df_vessels[service] == 1, 'service_id'] = service\n",
    "    df_vessels.drop(columns=[service], inplace=True)"
   ]
  },
  {
   "cell_type": "code",
   "execution_count": null,
   "id": "subsequent-delight",
   "metadata": {},
   "outputs": [],
   "source": [
    "df_vessels"
   ]
  },
  {
   "cell_type": "code",
   "execution_count": null,
   "id": "outdoor-rover",
   "metadata": {},
   "outputs": [],
   "source": [
    "join_col = np.intersect1d(df_vessels.columns, gdf_ais.columns).tolist()\n",
    "join_col"
   ]
  },
  {
   "cell_type": "code",
   "execution_count": null,
   "id": "removable-jason",
   "metadata": {},
   "outputs": [],
   "source": [
    "df = pd.merge(left=gdf_ais, right=df_vessels, how='outer', left_on=join_col, right_on=join_col)"
   ]
  },
  {
   "cell_type": "code",
   "execution_count": null,
   "id": "cosmetic-census",
   "metadata": {},
   "outputs": [],
   "source": [
    "df.head()"
   ]
  },
  {
   "cell_type": "code",
   "execution_count": null,
   "id": "editorial-coverage",
   "metadata": {},
   "outputs": [],
   "source": [
    "df = df.rename(columns = {'geometry': 'ais_geometry'}).set_geometry('ais_geometry')"
   ]
  },
  {
   "cell_type": "code",
   "execution_count": null,
   "id": "worth-smith",
   "metadata": {},
   "outputs": [],
   "source": [
    "df.info()"
   ]
  },
  {
   "cell_type": "code",
   "execution_count": null,
   "id": "turned-quality",
   "metadata": {},
   "outputs": [],
   "source": [
    "df.crs"
   ]
  },
  {
   "cell_type": "code",
   "execution_count": null,
   "id": "stable-anthony",
   "metadata": {},
   "outputs": [],
   "source": [
    "df.groupby(['mssis_wpi', 'mssis_eez', 'mssis_ao']).size().reset_index().rename(columns={0:'ais_count'}).sort_values(by=['ais_count'])"
   ]
  },
  {
   "cell_type": "code",
   "execution_count": null,
   "id": "entitled-future",
   "metadata": {},
   "outputs": [],
   "source": [
    "df.groupby(['mssis_wpi','mssis_eez', 'mssis_ao']).size().reset_index().rename(columns={0:'ais_count'}).to_json(out_path + 'mssis-ais-region_v2.json', orient='records')"
   ]
  },
  {
   "cell_type": "code",
   "execution_count": null,
   "id": "individual-north",
   "metadata": {},
   "outputs": [],
   "source": [
    "# df[ df.mssis_eez == 'ATA']"
   ]
  },
  {
   "cell_type": "code",
   "execution_count": null,
   "id": "temporal-daniel",
   "metadata": {},
   "outputs": [],
   "source": [
    "# d = df[ df.vessel_name == 'Philadelphia Express' ]"
   ]
  },
  {
   "cell_type": "code",
   "execution_count": null,
   "id": "extraordinary-wayne",
   "metadata": {},
   "outputs": [],
   "source": [
    "# d[d.ais_time <= '2021-02-24 00:02:08'].sort_values(by=['ais_time'])"
   ]
  },
  {
   "cell_type": "code",
   "execution_count": null,
   "id": "patent-terrain",
   "metadata": {},
   "outputs": [],
   "source": [
    "# mssis_ais_records_location_count"
   ]
  },
  {
   "cell_type": "code",
   "execution_count": null,
   "id": "careful-techno",
   "metadata": {},
   "outputs": [],
   "source": [
    "# mssis ={\n",
    "#     'mssis_wpi': gdf.mssis_wpi.unique().tolist(),\n",
    "#     'mssis_eez': gdf.mssis_eez.unique().tolist(),\n",
    "#     'mssis_ao': gdf.mssis_ao.unique().tolist(),\n",
    "#     'mssis_ais_records_location_count': mssis_ais_records_location_count\n",
    "# }"
   ]
  },
  {
   "cell_type": "code",
   "execution_count": null,
   "id": "usual-symphony",
   "metadata": {},
   "outputs": [],
   "source": [
    "# with open(out_path + 'mssis-ais-region_v1.json', 'w') as json_file:\n",
    "#     json.dump(mssis, json_file)"
   ]
  },
  {
   "cell_type": "code",
   "execution_count": null,
   "id": "eligible-witch",
   "metadata": {},
   "outputs": [],
   "source": [
    "# gdf.ais_time = gdf.ais_time.astype(str)\n",
    "# gdf.info()"
   ]
  },
  {
   "cell_type": "code",
   "execution_count": null,
   "id": "global-appreciation",
   "metadata": {},
   "outputs": [],
   "source": [
    "df.to_file(out_path + 'mssis-ais-records_v2.geojson', driver='GeoJSON')"
   ]
  },
  {
   "cell_type": "code",
   "execution_count": null,
   "id": "blank-blond",
   "metadata": {},
   "outputs": [],
   "source": [
    "df.to_file(out_path + 'mssis-ais-records_v2.gpkg', driver='GPKG')"
   ]
  },
  {
   "cell_type": "markdown",
   "id": "empty-aurora",
   "metadata": {},
   "source": [
    "# TODO: Delete Outlier Points"
   ]
  }
 ],
 "metadata": {
  "language_info": {
   "name": "python",
   "pygments_lexer": "ipython3"
  }
 },
 "nbformat": 4,
 "nbformat_minor": 5
}
