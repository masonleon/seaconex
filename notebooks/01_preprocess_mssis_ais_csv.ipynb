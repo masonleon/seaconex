{
 "cells": [
  {
   "cell_type": "markdown",
   "id": "leading-republican",
   "metadata": {},
   "source": [
    "# Pre-Process MSSIS AIS"
   ]
  },
  {
   "cell_type": "markdown",
   "id": "sonic-boring",
   "metadata": {},
   "source": [
    "Pre-processing of the Bermuda Case Study MSSIS vessel history dateset provided by Volpe from CSV to GeoJSON and GPKG."
   ]
  },
  {
   "cell_type": "code",
   "execution_count": null,
   "id": "gorgeous-underwear",
   "metadata": {},
   "outputs": [],
   "source": [
    "file = '../data/raw/volpe-bermuda-mssis-vessel-history.csv'"
   ]
  },
  {
   "cell_type": "code",
   "execution_count": null,
   "id": "formed-brave",
   "metadata": {},
   "outputs": [],
   "source": [
    "out_path = '../data/interim/'"
   ]
  },
  {
   "cell_type": "markdown",
   "id": "aquatic-armenia",
   "metadata": {},
   "source": [
    "## volpe-bermuda-mssis-vessel-history.csv"
   ]
  },
  {
   "cell_type": "code",
   "execution_count": null,
   "id": "pleased-february",
   "metadata": {},
   "outputs": [],
   "source": [
    "import pandas as pd\n",
    "import geopandas\n",
    "import json\n",
    "import fiona\n",
    "\n",
    "from shapely.geometry import Point"
   ]
  },
  {
   "cell_type": "code",
   "execution_count": null,
   "id": "thousand-error",
   "metadata": {},
   "outputs": [],
   "source": [
    "!head '-n 5' $file"
   ]
  },
  {
   "cell_type": "code",
   "execution_count": null,
   "id": "approximate-retention",
   "metadata": {},
   "outputs": [],
   "source": [
    "df = pd.read_csv(file, sep=',',)"
   ]
  },
  {
   "cell_type": "code",
   "execution_count": null,
   "id": "acoustic-hollow",
   "metadata": {},
   "outputs": [],
   "source": [
    "df.head()"
   ]
  },
  {
   "cell_type": "code",
   "execution_count": null,
   "id": "changed-sheriff",
   "metadata": {},
   "outputs": [],
   "source": [
    "df.info()"
   ]
  },
  {
   "cell_type": "code",
   "execution_count": null,
   "id": "flexible-narrative",
   "metadata": {},
   "outputs": [],
   "source": [
    "df.describe()"
   ]
  },
  {
   "cell_type": "code",
   "execution_count": null,
   "id": "standing-compromise",
   "metadata": {},
   "outputs": [],
   "source": [
    "df.isna().any()"
   ]
  },
  {
   "cell_type": "code",
   "execution_count": null,
   "id": "purple-soviet",
   "metadata": {},
   "outputs": [],
   "source": [
    "df.EEZ.unique()"
   ]
  },
  {
   "cell_type": "markdown",
   "id": "promotional-hacker",
   "metadata": {},
   "source": [
    "UN/LOCODE, the United Nations Code for Trade and Transport Locations assigns 'XZ' for international waters.\n",
    "\n",
    "https://unece.org/trade/cefact/unlocode-code-list-country-and-territory"
   ]
  },
  {
   "cell_type": "code",
   "execution_count": null,
   "id": "serious-singing",
   "metadata": {},
   "outputs": [],
   "source": [
    "df.EEZ.fillna('XZ', inplace=True)"
   ]
  },
  {
   "cell_type": "code",
   "execution_count": null,
   "id": "nasty-federal",
   "metadata": {},
   "outputs": [],
   "source": [
    "df.PortIndex.unique()"
   ]
  },
  {
   "cell_type": "code",
   "execution_count": null,
   "id": "independent-arrest",
   "metadata": {},
   "outputs": [],
   "source": [
    "df.AO.unique()"
   ]
  },
  {
   "cell_type": "code",
   "execution_count": null,
   "id": "adverse-lending",
   "metadata": {},
   "outputs": [],
   "source": [
    "df.SourceNum.unique()"
   ]
  },
  {
   "cell_type": "code",
   "execution_count": null,
   "id": "parliamentary-caribbean",
   "metadata": {},
   "outputs": [],
   "source": [
    "df.RxStnId.unique()"
   ]
  },
  {
   "cell_type": "code",
   "execution_count": null,
   "id": "regulation-perspective",
   "metadata": {},
   "outputs": [],
   "source": [
    "df.drop(columns=['SourceNum', 'RxStnId'], inplace=True)"
   ]
  },
  {
   "cell_type": "code",
   "execution_count": null,
   "id": "valid-allen",
   "metadata": {},
   "outputs": [],
   "source": [
    "df['TimeOfFix'] = pd.to_datetime(df['TimeOfFix'], unit='s')"
   ]
  },
  {
   "cell_type": "code",
   "execution_count": null,
   "id": "impressive-zambia",
   "metadata": {},
   "outputs": [],
   "source": [
    "df.head()"
   ]
  },
  {
   "cell_type": "code",
   "execution_count": null,
   "id": "mexican-plumbing",
   "metadata": {},
   "outputs": [],
   "source": [
    "df[['MMSI', 'PortIndex']] = df[['MMSI','PortIndex']].astype('uint32')"
   ]
  },
  {
   "cell_type": "code",
   "execution_count": null,
   "id": "heavy-killing",
   "metadata": {},
   "outputs": [],
   "source": [
    "df[['AO']] = df[['AO']].astype('uint8')"
   ]
  },
  {
   "cell_type": "code",
   "execution_count": null,
   "id": "considered-briefing",
   "metadata": {},
   "outputs": [],
   "source": [
    "df.info()"
   ]
  },
  {
   "cell_type": "code",
   "execution_count": null,
   "id": "comfortable-inside",
   "metadata": {},
   "outputs": [],
   "source": [
    "geometry = geopandas.points_from_xy(df.Longitude, df.Latitude)"
   ]
  },
  {
   "cell_type": "code",
   "execution_count": null,
   "id": "union-conducting",
   "metadata": {},
   "outputs": [],
   "source": [
    "df.drop(columns=['Longitude', 'Latitude'], inplace=True)"
   ]
  },
  {
   "cell_type": "code",
   "execution_count": null,
   "id": "satisfactory-mayor",
   "metadata": {},
   "outputs": [],
   "source": [
    "df.rename(columns = {'MMSI': 'vessel_mmsi', 'TimeOfFix': 'ais_time', 'SOG': 'ais_sog', 'Heading': 'ais_heading', 'PortIndex': 'mssis_wpi', 'EEZ': 'mssis_eez', 'AO': 'mssis_ao'}, inplace=True)"
   ]
  },
  {
   "cell_type": "code",
   "execution_count": null,
   "id": "opening-weekend",
   "metadata": {},
   "outputs": [],
   "source": [
    "df.info()"
   ]
  },
  {
   "cell_type": "code",
   "execution_count": null,
   "id": "banner-hawaiian",
   "metadata": {},
   "outputs": [],
   "source": [
    "gdf = geopandas.GeoDataFrame(df, geometry=geometry, crs=\"EPSG:4326\")"
   ]
  },
  {
   "cell_type": "code",
   "execution_count": null,
   "id": "desperate-nickel",
   "metadata": {},
   "outputs": [],
   "source": [
    "gdf.head()"
   ]
  },
  {
   "cell_type": "code",
   "execution_count": null,
   "id": "tutorial-milwaukee",
   "metadata": {},
   "outputs": [],
   "source": [
    "gdf = gdf.rename(columns = {'geometry': 'ais_geometry'}).set_geometry('ais_geometry')"
   ]
  },
  {
   "cell_type": "code",
   "execution_count": null,
   "id": "needed-priority",
   "metadata": {},
   "outputs": [],
   "source": [
    "gdf.info()"
   ]
  },
  {
   "cell_type": "code",
   "execution_count": null,
   "id": "front-ideal",
   "metadata": {},
   "outputs": [],
   "source": [
    "gdf.crs"
   ]
  },
  {
   "cell_type": "code",
   "execution_count": null,
   "id": "electrical-margin",
   "metadata": {},
   "outputs": [],
   "source": [
    "gdf.head()"
   ]
  },
  {
   "cell_type": "code",
   "execution_count": null,
   "id": "found-defensive",
   "metadata": {},
   "outputs": [],
   "source": [
    "mssis_ais_records_location_count = gdf.groupby(['mssis_wpi','mssis_eez', 'mssis_ao']).size().reset_index().rename(columns={0:'ais_count'}).to_dict(orient='records')"
   ]
  },
  {
   "cell_type": "code",
   "execution_count": null,
   "id": "dying-oxide",
   "metadata": {},
   "outputs": [],
   "source": [
    "len(mssis_ais_records_location_count)"
   ]
  },
  {
   "cell_type": "code",
   "execution_count": null,
   "id": "conventional-voluntary",
   "metadata": {},
   "outputs": [],
   "source": [
    "len(gdf.mssis_wpi.unique().tolist())"
   ]
  },
  {
   "cell_type": "code",
   "execution_count": null,
   "id": "caroline-necklace",
   "metadata": {},
   "outputs": [],
   "source": [
    "mssis_ais_records_location_count"
   ]
  },
  {
   "cell_type": "code",
   "execution_count": null,
   "id": "alpha-newman",
   "metadata": {},
   "outputs": [],
   "source": [
    "gdf.groupby(['mssis_wpi','mssis_eez', 'mssis_ao']).size().reset_index().rename(columns={0:'ais_count'}).to_json(out_path + 'mssis-ais-region_v1.json', orient='records')"
   ]
  },
  {
   "cell_type": "code",
   "execution_count": null,
   "id": "regional-translation",
   "metadata": {},
   "outputs": [],
   "source": [
    "gdf.to_file(out_path + 'mssis-ais-records_v1.geojson', driver='GeoJSON')"
   ]
  },
  {
   "cell_type": "code",
   "execution_count": null,
   "id": "european-robinson",
   "metadata": {},
   "outputs": [],
   "source": [
    "gdf.to_file(out_path + 'mssis-ais-records_v1.gpkg', driver='GPKG')"
   ]
  }
 ],
 "metadata": {
  "language_info": {
   "name": "python",
   "pygments_lexer": "ipython3"
  }
 },
 "nbformat": 4,
 "nbformat_minor": 5
}
