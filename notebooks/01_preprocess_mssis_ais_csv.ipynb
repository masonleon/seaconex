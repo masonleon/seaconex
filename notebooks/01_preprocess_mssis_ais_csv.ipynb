{
 "cells": [
  {
   "cell_type": "code",
   "execution_count": null,
   "id": "gorgeous-underwear",
   "metadata": {},
   "outputs": [],
   "source": [
    "ais_file = '../data/raw/volpe-bermuda-mssis-vessel-history.csv'\n",
    "vessel_file = '../data/raw/vessels.csv'\n",
    "wpi_gpkg = '../data/gpkg/nga-wpi.gpkg'\n",
    "ais_geojson = '../data/processed/mssis-ais-records.geojson'\n",
    "ais_gpkg = '../data/gpkg/mssis-ais-records.gpkg'\n",
    "ais_bad_pts_geojson = '../data/processed/mssis-ais-records-bad-pts.geojson'\n",
    "ais_bad_pts_gpkg = '../data/gpkg/mssis-ais-records-bad-pts.gpkg'"
   ]
  },
  {
   "cell_type": "code",
   "execution_count": null,
   "id": "pleased-february",
   "metadata": {},
   "outputs": [],
   "source": [
    "import seaconex\n",
    "\n",
    "import numpy as np\n",
    "import pandas as pd\n",
    "import geopandas as gpd\n",
    "import movingpandas as mpd\n",
    "import matplotlib.pyplot as plt\n",
    "\n",
    "from shapely.geometry import Point, LineString, Polygon\n",
    "from datetime import datetime, timedelta\n",
    "from shapely.geometry import Point\n",
    "\n",
    "import pycountry\n",
    "import json\n",
    "import fiona\n",
    "import warnings\n",
    "warnings.simplefilter(\"ignore\")"
   ]
  },
  {
   "cell_type": "code",
   "execution_count": null,
   "id": "a6c4458b-7e9b-4bbf-aff0-aeade1659c46",
   "metadata": {},
   "outputs": [],
   "source": [
    "mpd.__version__"
   ]
  },
  {
   "cell_type": "markdown",
   "id": "0754af3f-d853-4a63-a783-6a71b5ec70c3",
   "metadata": {},
   "source": [
    "## If Running the first time, uncomment the line below to download and convert the NGA WPI data"
   ]
  },
  {
   "cell_type": "code",
   "execution_count": null,
   "id": "0b522541-508c-4328-9e6a-f577480038e4",
   "metadata": {},
   "outputs": [],
   "source": [
    "# seaconex.get_all_nga_wpi()"
   ]
  },
  {
   "cell_type": "code",
   "execution_count": null,
   "id": "approximate-retention",
   "metadata": {},
   "outputs": [],
   "source": [
    "%%time\n",
    "\n",
    "df_ais = pd.read_csv(\n",
    "    ais_file, \n",
    "    sep=','\n",
    ").drop(\n",
    "    columns=[\n",
    "        'SourceNum', \n",
    "        'RxStnId', \n",
    "        'SourceNum'\n",
    "    ]\n",
    ").rename(\n",
    "    columns = {\n",
    "        'MMSI': 'vessel_mmsi', \n",
    "        'TimeOfFix': 'ais_time', \n",
    "        'SOG': 'ais_sog', \n",
    "        'Heading': 'ais_heading', \n",
    "        'PortIndex': 'mssis_wpi', \n",
    "        'EEZ': 'mssis_eez_country_code', \n",
    "        'AO': 'mssis_ao',\n",
    "        'Latitude': 'latitude',\n",
    "        'Longitude': 'longitude'\n",
    "    }\n",
    ")\n",
    "\n",
    "print(\"Finished reading {}\".format(len(df_ais)))"
   ]
  },
  {
   "cell_type": "code",
   "execution_count": null,
   "id": "5f6d73ed-e06b-412a-8635-bc8a97f1afb3",
   "metadata": {},
   "outputs": [],
   "source": [
    "df_ais.mssis_eez_country_code.unique().tolist()"
   ]
  },
  {
   "cell_type": "markdown",
   "id": "promotional-hacker",
   "metadata": {},
   "source": [
    "UN/LOCODE, the United Nations Code for Trade and Transport Locations assigns 'XZ' for international waters.\n",
    "\n",
    "https://unece.org/trade/cefact/unlocode-code-list-country-and-territory"
   ]
  },
  {
   "cell_type": "code",
   "execution_count": null,
   "id": "serious-singing",
   "metadata": {},
   "outputs": [],
   "source": [
    "df_ais['mssis_eez_country_code'].fillna('XZ', inplace=True)"
   ]
  },
  {
   "cell_type": "code",
   "execution_count": null,
   "id": "b457ab2c-1f20-4fd6-9fec-954466159f1f",
   "metadata": {},
   "outputs": [],
   "source": [
    "# https://stackoverflow.com/questions/53923433/how-to-get-country-name-from-country-abbreviation-in-python-with-mix-of-alpha-2\n",
    "def country_name(x):\n",
    "    try:\n",
    "        if x == 'XZ':\n",
    "            return 'International Waters'\n",
    "        if len(x)==2:\n",
    "            return pycountry.countries.get(alpha_2=x).name\n",
    "        elif len(x)==3:\n",
    "            return pycountry.countries.get(alpha_3=x).name\n",
    "    except:\n",
    "        'Invalid Code'"
   ]
  },
  {
   "cell_type": "code",
   "execution_count": null,
   "id": "9ec2104b-095a-4062-be0b-ff2e25e4f9ab",
   "metadata": {},
   "outputs": [],
   "source": [
    "df_ais['mssis_eez_country_name'] = df_ais['mssis_eez_country_code'].apply(country_name)"
   ]
  },
  {
   "cell_type": "code",
   "execution_count": null,
   "id": "valid-allen",
   "metadata": {},
   "outputs": [],
   "source": [
    "df_ais['ais_time'] = pd.to_datetime(df_ais['ais_time'], unit='s')"
   ]
  },
  {
   "cell_type": "code",
   "execution_count": null,
   "id": "cf7ecbc3-7a75-4129-a0c9-0f68ea5b699f",
   "metadata": {},
   "outputs": [],
   "source": [
    "df_ais.head()"
   ]
  },
  {
   "cell_type": "code",
   "execution_count": null,
   "id": "a1688af0-8b61-45ed-81df-aaf42185e1e6",
   "metadata": {},
   "outputs": [],
   "source": [
    "%time\n",
    "\n",
    "df_vessel = pd.read_csv(\n",
    "    vessel_file, \n",
    "    sep=','\n",
    ").rename(\n",
    "    columns={\n",
    "        'carrier_id_fk':'carrier'\n",
    "    }\n",
    ").fillna(0)\n",
    "\n",
    "print(\"Finished reading {}\".format(len(df_vessel)))"
   ]
  },
  {
   "cell_type": "code",
   "execution_count": null,
   "id": "e20878c5-9dcf-4849-bf1c-917dd84a9bdc",
   "metadata": {},
   "outputs": [],
   "source": [
    "cols_roro_cap = ['vessel_capacity_vehicle_units', 'vessel_stern_ramp_capacity_tons']\n",
    "\n",
    "df_vessel[cols_roro_cap] = df_vessel[cols_roro_cap].astype('int')"
   ]
  },
  {
   "cell_type": "code",
   "execution_count": null,
   "id": "adbe8d67-4c15-4864-91ec-bf2ac7609fb7",
   "metadata": {},
   "outputs": [],
   "source": [
    "df_vessel.head()"
   ]
  },
  {
   "cell_type": "code",
   "execution_count": null,
   "id": "6147028e-a984-41ab-9667-418d3111c0b7",
   "metadata": {},
   "outputs": [],
   "source": [
    "%time\n",
    "\n",
    "cols_vessel = [\n",
    "#     'vessel_imo',\n",
    "    'vessel_name',\n",
    "    'vessel_mmsi',\n",
    "    'vessel_build_year',\n",
    "    'vessel_gross_tonnage',\n",
    "    'vessel_type',\n",
    "    'vessel_flag_country',\n",
    "    'vessel_capacity_teu',\n",
    "    'vessel_capacity_vehicle_units',\n",
    "    'vessel_stern_ramp_capacity_tons',\n",
    "    'carrier'\n",
    "]\n",
    "\n",
    "df_ais = pd.merge(\n",
    "    left=df_ais,\n",
    "    right=df_vessel[cols_vessel],\n",
    "    how='left',\n",
    "    on='vessel_mmsi',\n",
    ").fillna(\"\")\n",
    "\n",
    "print(\"Finished merging {}, {}\".format(len(df_ais), len(df_vessel)))"
   ]
  },
  {
   "cell_type": "code",
   "execution_count": null,
   "id": "comfortable-inside",
   "metadata": {},
   "outputs": [],
   "source": [
    "geometry = gpd.points_from_xy(df_ais.longitude, df_ais.latitude)"
   ]
  },
  {
   "cell_type": "code",
   "execution_count": null,
   "id": "union-conducting",
   "metadata": {},
   "outputs": [],
   "source": [
    "df_ais.drop(\n",
    "    columns=['longitude', 'latitude'], \n",
    "    inplace=True\n",
    ")"
   ]
  },
  {
   "cell_type": "code",
   "execution_count": null,
   "id": "banner-hawaiian",
   "metadata": {},
   "outputs": [],
   "source": [
    "%time\n",
    "\n",
    "gdf_ais = gpd.GeoDataFrame(\n",
    "    df_ais, \n",
    "    geometry=geometry, \n",
    "    crs=\"EPSG:4326\"\n",
    ")\n",
    "print(\"Finished reading {}\".format(len(gdf_ais)))"
   ]
  },
  {
   "cell_type": "code",
   "execution_count": null,
   "id": "front-ideal",
   "metadata": {},
   "outputs": [],
   "source": [
    "gdf_ais.crs"
   ]
  },
  {
   "cell_type": "code",
   "execution_count": null,
   "id": "8ab8a7b4-7794-4aad-a606-81e9f1e221d5",
   "metadata": {},
   "outputs": [],
   "source": [
    "gdf_ais.info()"
   ]
  },
  {
   "cell_type": "code",
   "execution_count": null,
   "id": "1a015a0c-2bc4-4afa-a88d-6f08e2dbd2f4",
   "metadata": {},
   "outputs": [],
   "source": [
    "%%time\n",
    "\n",
    "gdf_wpi = gpd.read_file(wpi_gpkg)\n",
    "wgs84 = gdf_wpi.crs\n",
    "\n",
    "print(\"Finished reading {}\".format(len(gdf_wpi)))"
   ]
  },
  {
   "cell_type": "code",
   "execution_count": null,
   "id": "34b7e8eb-a6a4-455d-8ff1-4655f508162e",
   "metadata": {},
   "outputs": [],
   "source": [
    "gdf_wpi.head()"
   ]
  },
  {
   "cell_type": "code",
   "execution_count": null,
   "id": "7d7243f4-2028-4840-8256-097e5987548a",
   "metadata": {},
   "outputs": [],
   "source": [
    "gdf_wpi.info()"
   ]
  },
  {
   "cell_type": "code",
   "execution_count": null,
   "id": "be6b9401-40cb-41e4-b217-08b290588cb8",
   "metadata": {},
   "outputs": [],
   "source": [
    "gdf_wpi['INDEX_NO'] = gdf_wpi['INDEX_NO'].astype('int')"
   ]
  },
  {
   "cell_type": "code",
   "execution_count": null,
   "id": "ddcab7a8-8370-434d-8f9f-99ada938778f",
   "metadata": {},
   "outputs": [],
   "source": [
    "cols_wpi = [\n",
    "    'INDEX_NO',\n",
    "    'PORT_NAME'\n",
    "]\n",
    "\n",
    "gdf_ais = pd.merge(\n",
    "    left=gdf_ais, \n",
    "    right=gdf_wpi[cols_wpi], \n",
    "    how='left',\n",
    "    left_on='mssis_wpi', \n",
    "    right_on='INDEX_NO'\n",
    ").rename(\n",
    "    columns = {\n",
    "        'PORT_NAME': 'wpi_port_name'\n",
    "    }\n",
    ").fillna(\"\")\n",
    "\n",
    "# gdf_ais['wpi_port_name'].fillna(\n",
    "#     value=\"\", \n",
    "#     inplace=True\n",
    "# )\n",
    "\n",
    "gdf_ais.drop(\n",
    "    columns=[\n",
    "        'INDEX_NO'\n",
    "    ],\n",
    "    inplace=True\n",
    ")"
   ]
  },
  {
   "cell_type": "code",
   "execution_count": null,
   "id": "cbd3de33-2abd-4777-9962-47b813e43de5",
   "metadata": {},
   "outputs": [],
   "source": [
    "gdf_ais.info()"
   ]
  },
  {
   "cell_type": "code",
   "execution_count": null,
   "id": "642736fc-181b-44ba-9861-d5c5c844ada7",
   "metadata": {},
   "outputs": [],
   "source": [
    "gdf_ais"
   ]
  },
  {
   "cell_type": "code",
   "execution_count": null,
   "id": "e63652b0-a798-4f31-88df-cc6ee6b7b56e",
   "metadata": {},
   "outputs": [],
   "source": [
    "gdf_very_bad_pts = gdf_ais.loc[(gdf_ais['mssis_eez_country_code']=='ATA') | (gdf_ais['mssis_eez_country_code']=='MAR')]"
   ]
  },
  {
   "cell_type": "code",
   "execution_count": null,
   "id": "d2166edd-6be9-4570-8bf4-13f811ebe509",
   "metadata": {},
   "outputs": [],
   "source": [
    "gdf_very_bad_pts"
   ]
  },
  {
   "cell_type": "code",
   "execution_count": null,
   "id": "3919eb7b-2c1b-47d3-88ad-447fde7ae4be",
   "metadata": {},
   "outputs": [],
   "source": [
    "seaconex.gdf_to_geo_file(\n",
    "    gdf_very_bad_pts,\n",
    "    ais_bad_pts_geojson,\n",
    "    ais_bad_pts_gpkg\n",
    ")"
   ]
  },
  {
   "cell_type": "code",
   "execution_count": null,
   "id": "7783a738-accf-4abe-83e6-ab8ff16590fc",
   "metadata": {},
   "outputs": [],
   "source": [
    "gdf_ais = gdf_ais.loc[(gdf_ais['mssis_eez_country_code']!='ATA') | (gdf_ais['mssis_eez_country_code']!='MAR')]"
   ]
  },
  {
   "cell_type": "code",
   "execution_count": null,
   "id": "f7e3c98b-7c75-4570-984a-4faee9e0bf23",
   "metadata": {},
   "outputs": [],
   "source": [
    "seaconex.gdf_to_geo_file(\n",
    "    gdf_ais,\n",
    "    ais_geojson,\n",
    "    ais_gpkg\n",
    ")"
   ]
  }
 ],
 "metadata": {
  "language_info": {
   "name": "python",
   "pygments_lexer": "ipython3"
  }
 },
 "nbformat": 4,
 "nbformat_minor": 5
}
