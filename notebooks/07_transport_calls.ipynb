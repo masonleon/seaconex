{
 "cells": [
  {
   "cell_type": "code",
   "execution_count": null,
   "id": "corresponding-auction",
   "metadata": {},
   "outputs": [],
   "source": [
    "import seaconex\n",
    "\n",
    "import fiona\n",
    "\n",
    "import pandas as pd\n",
    "import numpy as np\n",
    "import geopandas as gpd\n",
    "\n",
    "from shapely.geometry import Point, LineString"
   ]
  },
  {
   "cell_type": "code",
   "execution_count": null,
   "id": "e6f28852-530f-421d-8910-f97d9aac7cba",
   "metadata": {},
   "outputs": [],
   "source": [
    "seaconex.tools.edges.build_all_master_schedules_edges(\n",
    "    '../data/gpkg/terminals.gpkg',\n",
    "    '../data/raw/master-schedules-terminal-call-svc-proforma.csv',\n",
    "    '../data/processed/master-schedules-terminal-call-svc-proforma.geojson',\n",
    "    '../data/gpkg/master-schedules-terminal-call-svc-proforma.gpkg',\n",
    "    '../data/processed/master-schedules-terminal-call-edge.geojson',\n",
    "    '../data/gpkg/master-schedules-terminal-call-edge.gpkg',\n",
    "    '../data/searoute/data/in/searoutes.csv'\n",
    ")"
   ]
  }
 ],
 "metadata": {
  "language_info": {
   "name": "python",
   "pygments_lexer": "ipython3"
  }
 },
 "nbformat": 4,
 "nbformat_minor": 5
}
