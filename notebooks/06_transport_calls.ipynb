{
 "cells": [
  {
   "cell_type": "code",
   "execution_count": null,
   "id": "corresponding-auction",
   "metadata": {},
   "outputs": [],
   "source": [
    "import seaconex\n",
    "\n",
    "import camelot\n",
    "import requests\n",
    "import time\n",
    "import lxml\n",
    "import re\n",
    "import json\n",
    "import os\n",
    "import fiona\n",
    "\n",
    "import pandas as pd\n",
    "import numpy as np\n",
    "import geopandas as gpd\n",
    "import networkx as nx\n",
    "\n",
    "from bs4 import BeautifulSoup\n",
    "from shapely.geometry import Point, LineString"
   ]
  },
  {
   "cell_type": "markdown",
   "id": "assured-aruba",
   "metadata": {},
   "source": [
    "## SMDG Terminal Code List (TCL)\n",
    "\n",
    "https://smdg.org/documents/smdg-code-lists/smdg-terminal-code-list/  \n",
    "https://github.com/smdg-org/Terminal-Code-List  \n",
    "https://www.google.com/maps/d/viewer?mid=1nbJI9NkpAayVpSJqy13qJ2xhatcIKQJK&ll=-3.81666561775622e-14%2C-4.5703125&z=2  "
   ]
  },
  {
   "cell_type": "code",
   "execution_count": null,
   "id": "future-ebony",
   "metadata": {},
   "outputs": [],
   "source": [
    "smdg_tcl_path = '../data/raw/smdg-tcl-v20210401.csv'\n",
    "\n",
    "if not os.path.exists(smdg_tcl_path):\n",
    "    url = 'https://raw.githubusercontent.com/smdg-org/Terminal-Code-List/8886d86445d0a53e5495a4aeb11beedc92bd20cb/SMDG%20Terminal%20Code%20List.csv'\n",
    "    # alt url in .xlsx\n",
    "    # https://smdg.org/wp-content/uploads/Codelists/Terminals/SMDG-Terminal-Code-List-v20210401.xlsx\n",
    "    r = requests.get(url)\n",
    "    with open(smdg_tcl_path, 'wb') as f:\n",
    "        f.write(r.content)"
   ]
  },
  {
   "cell_type": "code",
   "execution_count": null,
   "id": "mobile-credit",
   "metadata": {},
   "outputs": [],
   "source": [
    "df_smdg = pd.read_csv(smdg_tcl_path).rename(\n",
    "    columns={\n",
    "        'UNLOCODE':'port_unlocode',\n",
    "        'Alternative UNLOCODEs':'port_unlocode_alt',\n",
    "        'Terminal Facility Name':'terminal_name',\n",
    "        'Terminal Company Name':'terminal_operator',\n",
    "        'Terminal Website':'terminal_website',\n",
    "        'Terminal Address':'terminal_address'\n",
    "    }\n",
    ")"
   ]
  },
  {
   "cell_type": "code",
   "execution_count": null,
   "id": "interior-point",
   "metadata": {},
   "outputs": [],
   "source": [
    "df_smdg.columns.tolist()"
   ]
  },
  {
   "cell_type": "code",
   "execution_count": null,
   "id": "fifteen-lottery",
   "metadata": {},
   "outputs": [],
   "source": [
    "df_smdg.head()"
   ]
  },
  {
   "cell_type": "markdown",
   "id": "hearing-venue",
   "metadata": {},
   "source": [
    "# ICL"
   ]
  },
  {
   "cell_type": "code",
   "execution_count": null,
   "id": "engaging-struggle",
   "metadata": {},
   "outputs": [],
   "source": [
    "icl_schedule_path = '../data/raw/icl-schedule-v030521.pdf'\n",
    "\n",
    "if not os.path.exists(icl_schedule_path):\n",
    "    url = 'https://www.icl-ltd.com/media/2305/sailing-schedule-updated-3-5-2021-web.pdf'\n",
    "    r = requests.get(url)\n",
    "    with open(icl_schedule_path, 'wb') as f:\n",
    "        f.write(r.content)"
   ]
  },
  {
   "cell_type": "code",
   "execution_count": null,
   "id": "arranged-douglas",
   "metadata": {},
   "outputs": [],
   "source": [
    "tables = camelot.read_pdf(icl_schedule_path)"
   ]
  },
  {
   "cell_type": "code",
   "execution_count": null,
   "id": "substantial-russell",
   "metadata": {},
   "outputs": [],
   "source": [
    "# tables[0]"
   ]
  },
  {
   "cell_type": "code",
   "execution_count": null,
   "id": "happy-atlas",
   "metadata": {},
   "outputs": [],
   "source": [
    "tables[0].parsing_report"
   ]
  },
  {
   "cell_type": "code",
   "execution_count": null,
   "id": "sticky-worcester",
   "metadata": {},
   "outputs": [],
   "source": [
    "# tables[0].df.head()"
   ]
  },
  {
   "cell_type": "code",
   "execution_count": null,
   "id": "found-island",
   "metadata": {},
   "outputs": [],
   "source": [
    "pd.set_option('display.max_columns', None)"
   ]
  },
  {
   "cell_type": "code",
   "execution_count": null,
   "id": "subjective-communications",
   "metadata": {},
   "outputs": [],
   "source": [
    "# tables[0].df.head(2)"
   ]
  },
  {
   "cell_type": "code",
   "execution_count": null,
   "id": "remarkable-support",
   "metadata": {},
   "outputs": [],
   "source": [
    "df_tac1 = tables[0].df.head(2)"
   ]
  },
  {
   "cell_type": "code",
   "execution_count": null,
   "id": "negative-dialogue",
   "metadata": {},
   "outputs": [],
   "source": [
    "# df_tac1"
   ]
  },
  {
   "cell_type": "code",
   "execution_count": null,
   "id": "inclusive-heart",
   "metadata": {},
   "outputs": [],
   "source": [
    "# df_tac1.info()"
   ]
  },
  {
   "cell_type": "code",
   "execution_count": null,
   "id": "chemical-divide",
   "metadata": {},
   "outputs": [],
   "source": [
    "# df_tac1.notna()"
   ]
  },
  {
   "cell_type": "code",
   "execution_count": null,
   "id": "certified-slave",
   "metadata": {},
   "outputs": [],
   "source": [
    "# print(df_tac1)"
   ]
  },
  {
   "cell_type": "code",
   "execution_count": null,
   "id": "advance-brisbane",
   "metadata": {},
   "outputs": [],
   "source": [
    "# df_tac1.columns"
   ]
  },
  {
   "cell_type": "code",
   "execution_count": null,
   "id": "usual-james",
   "metadata": {},
   "outputs": [],
   "source": [
    "df_tac1 = df_tac1.transpose()\n",
    "# df_tac1"
   ]
  },
  {
   "cell_type": "code",
   "execution_count": null,
   "id": "lightweight-logistics",
   "metadata": {},
   "outputs": [],
   "source": [
    "# df_tac1.info()"
   ]
  },
  {
   "cell_type": "code",
   "execution_count": null,
   "id": "veterinary-nebraska",
   "metadata": {},
   "outputs": [],
   "source": [
    "# df_tac1.columns"
   ]
  },
  {
   "cell_type": "code",
   "execution_count": null,
   "id": "japanese-equilibrium",
   "metadata": {},
   "outputs": [],
   "source": [
    "df_tac1.rename(columns={0:\"lane\", 1:\"carrier_port_call_ref\"}, inplace=True)\n",
    "# df_tac1"
   ]
  },
  {
   "cell_type": "code",
   "execution_count": null,
   "id": "reported-morning",
   "metadata": {},
   "outputs": [],
   "source": [
    "df_tac1.drop(index=[0,1,12,13], inplace=True)\n",
    "# df_tac1"
   ]
  },
  {
   "cell_type": "code",
   "execution_count": null,
   "id": "specialized-castle",
   "metadata": {},
   "outputs": [],
   "source": [
    "df_tac1.replace('', np.nan, inplace=True)\n",
    "df_tac1.dropna(axis=0, how='all', inplace=True)\n",
    "# df_tac1"
   ]
  },
  {
   "cell_type": "code",
   "execution_count": null,
   "id": "mature-mounting",
   "metadata": {},
   "outputs": [],
   "source": [
    "df_tac1.lane.ffill(inplace=True)\n",
    "# df_tac1"
   ]
  },
  {
   "cell_type": "code",
   "execution_count": null,
   "id": "proof-trinity",
   "metadata": {},
   "outputs": [],
   "source": [
    "df_tac1.dropna(axis=0, how='any', inplace=True)\n",
    "# df_tac1"
   ]
  },
  {
   "cell_type": "code",
   "execution_count": null,
   "id": "featured-lingerie",
   "metadata": {},
   "outputs": [],
   "source": [
    "df_tac1['lane'] = df_tac1['lane'].apply(lambda x: x[0])\n",
    "# df_tac1['carrier_facility_ref'] = df_tac1['port'].apply(lambda x: x.split(' ')[1])\n",
    "df_tac1['carrier_port_call_ref'] = df_tac1['carrier_port_call_ref'].apply(lambda x: x.split(' ')[1])\n",
    "df_tac1['service'] = 'TAC1'\n",
    "df_tac1['trade'] = 'Trans-Atlantic'\n",
    "df_tac1['carrier'] = 'ICL'\n",
    "\n",
    "# df_tac1"
   ]
  },
  {
   "cell_type": "code",
   "execution_count": null,
   "id": "signed-conversion",
   "metadata": {},
   "outputs": [],
   "source": [
    "# df_tac1.carrier_port_call_ref.unique().tolist()"
   ]
  },
  {
   "cell_type": "code",
   "execution_count": null,
   "id": "stock-nylon",
   "metadata": {},
   "outputs": [],
   "source": [
    "icl_mto_smdg = {\n",
    "    'CHE': 'PSAP', \n",
    "    'WIL': 'NCSPA', \n",
    "    'ANT': 'ACOT', \n",
    "    'SOU': 'DPWS', \n",
    "    'CORK': 'RDT'\n",
    "}\n",
    "\n",
    "icl_port_wpi = {\n",
    "    'CHE': 8080, \n",
    "    'WIL': 8470, \n",
    "    'ANT': 31250, \n",
    "    'SOU': 35580, \n",
    "    'CORK': 34350\n",
    "}"
   ]
  },
  {
   "cell_type": "code",
   "execution_count": null,
   "id": "ideal-niagara",
   "metadata": {},
   "outputs": [],
   "source": [
    "df_tac1['terminal'] = df_tac1['carrier_port_call_ref'].map(icl_mto_smdg)\n",
    "df_tac1['wpi'] = df_tac1['carrier_port_call_ref'].map(icl_port_wpi)"
   ]
  },
  {
   "cell_type": "code",
   "execution_count": null,
   "id": "exotic-biology",
   "metadata": {},
   "outputs": [],
   "source": [
    "df_tac1.drop(columns=['carrier_port_call_ref'], inplace=True)"
   ]
  },
  {
   "cell_type": "code",
   "execution_count": null,
   "id": "regional-deployment",
   "metadata": {},
   "outputs": [],
   "source": [
    "grouped = df_tac1.groupby('lane')"
   ]
  },
  {
   "cell_type": "code",
   "execution_count": null,
   "id": "rotary-exercise",
   "metadata": {},
   "outputs": [],
   "source": [
    "# grouped.get_group('E').reset_index(drop=True)\n",
    "# grouped.get_group('W').reset_index(drop=True)"
   ]
  },
  {
   "cell_type": "code",
   "execution_count": null,
   "id": "burning-missouri",
   "metadata": {},
   "outputs": [],
   "source": [
    "df_tac1 = pd.concat([\n",
    "    grouped.get_group('E').reset_index(drop=True),\n",
    "    grouped.get_group('W').reset_index(drop=True)], \n",
    "    ignore_index=False)"
   ]
  },
  {
   "cell_type": "code",
   "execution_count": null,
   "id": "extra-sociology",
   "metadata": {},
   "outputs": [],
   "source": [
    "df_tac1['port_call_seq_no'] = df_tac1.index\n",
    "df_tac1['terminal_call_seq_no'] = df_tac1.index\n",
    "df_tac1['transport_type'] = 'vessel'\n",
    "df_tac1['transport_connection'] = 'direct'\n",
    "df_tac1['cargo_type_lolo'] = 1\n",
    "df_tac1['cargo_type_roro'] = 0"
   ]
  },
  {
   "cell_type": "code",
   "execution_count": null,
   "id": "living-highlight",
   "metadata": {},
   "outputs": [],
   "source": [
    "df_tac1"
   ]
  },
  {
   "cell_type": "code",
   "execution_count": null,
   "id": "sophisticated-strength",
   "metadata": {},
   "outputs": [],
   "source": [
    "terminal_calls = pd.merge(\n",
    "    left=df_tac1, \n",
    "    right=df_smdg, \n",
    "    how='left', \n",
    "    left_on=['terminal'], \n",
    "    right_on=['Terminal Code']\n",
    ").drop(\n",
    "    columns=[\n",
    "#         'lane',\n",
    "#         'service',\n",
    "#         'trade',\n",
    "#         'carrier',\n",
    "#         'terminal',\n",
    "#         'wpi',\n",
    "#         'port_call_seq_no',\n",
    "#         'terminal_call_seq_no',\n",
    "#         'transport_type',\n",
    "#         'connection',\n",
    "#         'cargo_type_lolo',\n",
    "#         'cargo_type_roro',\n",
    "#         'UNLOCODE',\n",
    "#         'Alternative UNLOCODEs',\n",
    "        'Terminal Code',\n",
    "#         'Terminal Facility Name',\n",
    "#         'Terminal Company Name',\n",
    "        'Latitude (DMS)',\n",
    "        'Longitude (DMS)',\n",
    "#         'Latitude',\n",
    "#         'Longitude',\n",
    "        'Last change',\n",
    "        'Valid from',\n",
    "        'Valid until',\n",
    "#         'Terminal Website',\n",
    "#         'Terminal Address',\n",
    "        'Remarks'\n",
    "    ]\n",
    ").fillna(\"\").assign(obj_type='master_schedules_terminal_call_info')\n",
    "# terminal_calls['id'] = 'master_schedules_terminal_call_info')"
   ]
  },
  {
   "cell_type": "code",
   "execution_count": null,
   "id": "still-miniature",
   "metadata": {},
   "outputs": [],
   "source": [
    "terminal_calls"
   ]
  },
  {
   "cell_type": "code",
   "execution_count": null,
   "id": "clear-sauce",
   "metadata": {},
   "outputs": [],
   "source": [
    "# terminal_calls.columns.tolist()"
   ]
  },
  {
   "cell_type": "code",
   "execution_count": null,
   "id": "better-terrorism",
   "metadata": {},
   "outputs": [],
   "source": [
    "gpd.GeoDataFrame(\n",
    "    terminal_calls,\n",
    "    crs='EPSG:3857', \n",
    "    geometry=gpd.points_from_xy(terminal_calls.Longitude, terminal_calls.Latitude)\n",
    ").drop(\n",
    "    columns=['Latitude', 'Longitude']\n",
    ").to_file(\n",
    "    '../data/interim/master_schedules_terminal_call_info.geojson',\n",
    "    driver='GeoJSON',   \n",
    ")"
   ]
  },
  {
   "cell_type": "code",
   "execution_count": null,
   "id": "micro-scenario",
   "metadata": {},
   "outputs": [],
   "source": [
    "gpd.GeoDataFrame(\n",
    "    terminal_calls,\n",
    "    crs='EPSG:3857', \n",
    "    geometry=gpd.points_from_xy(terminal_calls.Longitude, terminal_calls.Latitude)\n",
    ").drop(\n",
    "    columns=['Latitude', 'Longitude']\n",
    ").to_file(\n",
    "    '../data/interim/master_schedules_terminal_call_info.json',\n",
    "    driver='GeoJSON',   \n",
    ")"
   ]
  },
  {
   "cell_type": "code",
   "execution_count": null,
   "id": "timely-killer",
   "metadata": {},
   "outputs": [],
   "source": [
    "def transport_calls_to_edges(transport_calls_df):\n",
    "    gdf = gpd.GeoDataFrame(\n",
    "        transport_calls_df,\n",
    "        crs='EPSG:3857', \n",
    "        geometry=gpd.points_from_xy(transport_calls_df.Longitude, transport_calls_df.Latitude)\n",
    "    ).drop(\n",
    "        columns=['Latitude', 'Longitude']\n",
    "    )\n",
    "     \n",
    "    edge_columns = [ \n",
    "        'lane',\n",
    "        'service', \n",
    "        'trade',\n",
    "        'carrier',\n",
    "        'transport_edge_no',\n",
    "        'transport_type',\n",
    "        'transport_connection',\n",
    "        'terminal_call_facility_1',\n",
    "        'terminal_call_facility_2',\n",
    "        'port_call_unlocode_1',\n",
    "        'port_call_unlocode_2',\n",
    "        'port_call_wpi_1',\n",
    "        'port_call_wpi_2',\n",
    "        'port_call_seq_no_1',\n",
    "        'port_call_seq_no_2',\n",
    "        'terminal_call_seq_no_1',\n",
    "        'terminal_call_seq_no_2',\n",
    "        'obj_type',\n",
    "        'geometry'    \n",
    "    ]\n",
    "\n",
    "    edges_df = gpd.GeoDataFrame(\n",
    "        columns = edge_columns,\n",
    "        crs='EPSG:3857'\n",
    "    )\n",
    "\n",
    "    grouped = gdf.groupby(['lane', 'service', 'trade', 'carrier'])\n",
    "    keys = list(grouped.groups.keys())\n",
    "\n",
    "    for k in keys:\n",
    "\n",
    "        curr_df = grouped.get_group(k)\n",
    "\n",
    "        curr_row = None\n",
    "        prev_row = None\n",
    "        num = -1\n",
    "\n",
    "        for index, row in curr_df.iterrows():\n",
    "\n",
    "            if all(v is not None for v in [curr_row, prev_row]):\n",
    "                if curr_row['lane']==prev_row['lane']:\n",
    "                    edges_df = edges_df.append(\n",
    "                        {\n",
    "                            'lane': prev_row['lane'],\n",
    "                            'service': prev_row['service'],\n",
    "                            'trade': prev_row['trade'],\n",
    "                            'carrier': prev_row['carrier'],\n",
    "                            'transport_edge_no': prev_row['service'] + '_' + prev_row['lane'] + '_' + str(num),\n",
    "                            'transport_type': prev_row['transport_type'],\n",
    "                            'transport_connection': prev_row['transport_connection'],\n",
    "                            'terminal_call_facility_1': prev_row['terminal'],\n",
    "                            'terminal_call_facility_2': curr_row['terminal'],\n",
    "                            'port_call_unlocode_1': prev_row['port_unlocode'],\n",
    "                            'port_call_unlocode_2': curr_row['port_unlocode'],\n",
    "                            'port_call_wpi_1': prev_row['wpi'],       \n",
    "                            'port_call_wpi_2': curr_row['wpi'],\n",
    "                            'port_call_seq_no_1': prev_row['port_call_seq_no'],\n",
    "                            'port_call_seq_no_2': curr_row['port_call_seq_no'],\n",
    "                            'terminal_call_seq_no_1': prev_row['terminal_call_seq_no'],\n",
    "                            'terminal_call_seq_no_2': curr_row['terminal_call_seq_no'],\n",
    "                            'obj_type': 'master_schedules_terminal_call_edge',\n",
    "                            'geometry': LineString([prev_row['geometry'], curr_row['geometry']])\n",
    "                       }, \n",
    "                       ignore_index = True\n",
    "                    )\n",
    "                prev_row = curr_row;\n",
    "\n",
    "            if prev_row is None and curr_row is not None:\n",
    "                prev_row = curr_row\n",
    "            curr_row = row;\n",
    "            num += 1\n",
    "\n",
    "        if curr_row['lane']==prev_row['lane']:\n",
    "            edges_df = edges_df.append(\n",
    "                {\n",
    "                    'lane': prev_row['lane'],\n",
    "                    'service': prev_row['service'],\n",
    "                    'trade': prev_row['trade'],\n",
    "                    'carrier': prev_row['carrier'],\n",
    "                    'transport_edge_no': prev_row['service'] + '_' + prev_row['lane'] + '_' + str(num),\n",
    "                    'transport_type': prev_row['transport_type'],\n",
    "                    'transport_connection': prev_row['transport_connection'],\n",
    "                    'terminal_call_facility_1': prev_row['terminal'],\n",
    "                    'terminal_call_facility_2': curr_row['terminal'],\n",
    "                    'port_call_unlocode_1': prev_row['port_unlocode'],\n",
    "                    'port_call_unlocode_2': curr_row['port_unlocode'],\n",
    "                    'port_call_wpi_1': prev_row['wpi'],       \n",
    "                    'port_call_wpi_2': curr_row['wpi'],\n",
    "                    'port_call_seq_no_1': prev_row['port_call_seq_no'],\n",
    "                    'port_call_seq_no_2': curr_row['port_call_seq_no'],\n",
    "                    'terminal_call_seq_no_1': prev_row['terminal_call_seq_no'],\n",
    "                    'terminal_call_seq_no_2': curr_row['terminal_call_seq_no'],\n",
    "                    'obj_type': 'master_schedules_terminal_call_edge',\n",
    "                    'geometry': LineString([prev_row['geometry'], curr_row['geometry']])\n",
    "               }, \n",
    "               ignore_index = True\n",
    "            )\n",
    "    return edges_df"
   ]
  },
  {
   "cell_type": "code",
   "execution_count": null,
   "id": "radical-validation",
   "metadata": {},
   "outputs": [],
   "source": [
    "transport_calls_to_edges(terminal_calls).to_file(\n",
    "    '../data/interim/master_schedules_edges.json',\n",
    "    driver='GeoJSON',\n",
    ")"
   ]
  },
  {
   "cell_type": "code",
   "execution_count": null,
   "id": "after-delta",
   "metadata": {},
   "outputs": [],
   "source": [
    "transport_calls_to_edges(terminal_calls).to_file(\n",
    "    '../data/interim/master_schedules_edges.geojson',\n",
    "    driver='GeoJSON',\n",
    ")"
   ]
  },
  {
   "cell_type": "code",
   "execution_count": null,
   "id": "identical-small",
   "metadata": {},
   "outputs": [],
   "source": [
    "# transport_calls_to_edges(terminal_calls).to_json(\n",
    "# #     'master_schedules2.json',\n",
    "# #     driver='GeoJSON',\n",
    "# )"
   ]
  },
  {
   "cell_type": "code",
   "execution_count": null,
   "id": "formal-shaft",
   "metadata": {},
   "outputs": [],
   "source": [
    "routes = transport_calls_to_edges(terminal_calls)"
   ]
  },
  {
   "cell_type": "code",
   "execution_count": null,
   "id": "worldwide-hayes",
   "metadata": {},
   "outputs": [],
   "source": [
    "routes.head()"
   ]
  },
  {
   "cell_type": "code",
   "execution_count": null,
   "id": "immune-manner",
   "metadata": {},
   "outputs": [],
   "source": [
    "acl_schedule_path = '../data/raw/acl-schedule.pdf'\n",
    "\n",
    "# if not os.path.exists(icl_schedule_path):\n",
    "#     url = 'https://www.icl-ltd.com/media/2305/sailing-schedule-updated-3-5-2021-web.pdf'\n",
    "#     r = requests.get(url)\n",
    "#     with open(icl_schedule_path, 'wb') as f:\n",
    "#         f.write(r.content)"
   ]
  },
  {
   "cell_type": "code",
   "execution_count": null,
   "id": "pharmaceutical-lightweight",
   "metadata": {},
   "outputs": [],
   "source": [
    "tables = camelot.read_pdf(acl_schedule_path)"
   ]
  },
  {
   "cell_type": "code",
   "execution_count": null,
   "id": "impossible-spelling",
   "metadata": {},
   "outputs": [],
   "source": [
    "# tables[0]"
   ]
  },
  {
   "cell_type": "code",
   "execution_count": null,
   "id": "humanitarian-helping",
   "metadata": {},
   "outputs": [],
   "source": [
    "tables[0].parsing_report"
   ]
  },
  {
   "cell_type": "code",
   "execution_count": null,
   "id": "unsigned-girlfriend",
   "metadata": {},
   "outputs": [],
   "source": [
    "# tables[0].df.head()"
   ]
  },
  {
   "cell_type": "code",
   "execution_count": null,
   "id": "distributed-arrangement",
   "metadata": {},
   "outputs": [],
   "source": [
    "pd.set_option('display.max_columns', None)"
   ]
  },
  {
   "cell_type": "code",
   "execution_count": null,
   "id": "cooperative-pierre",
   "metadata": {},
   "outputs": [],
   "source": [
    "# tables[0].df.head(2)"
   ]
  },
  {
   "cell_type": "code",
   "execution_count": null,
   "id": "worth-penguin",
   "metadata": {},
   "outputs": [],
   "source": [
    "df_a = tables[0].df.head(2)"
   ]
  },
  {
   "cell_type": "code",
   "execution_count": null,
   "id": "chinese-banks",
   "metadata": {},
   "outputs": [],
   "source": [
    "# df_tac1"
   ]
  }
 ],
 "metadata": {
  "language_info": {
   "name": "python",
   "pygments_lexer": "ipython3"
  }
 },
 "nbformat": 4,
 "nbformat_minor": 5
}
