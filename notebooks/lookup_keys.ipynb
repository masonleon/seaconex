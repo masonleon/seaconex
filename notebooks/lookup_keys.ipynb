{
 "cells": [
  {
   "cell_type": "code",
   "execution_count": null,
   "id": "dominican-gamma",
   "metadata": {},
   "outputs": [],
   "source": [
    "import numpy as np\n",
    "import pandas as pd\n",
    "import geopandas as gpd\n",
    "import json"
   ]
  },
  {
   "cell_type": "code",
   "execution_count": null,
   "id": "white-branch",
   "metadata": {},
   "outputs": [],
   "source": [
    "let api = [\n",
    "    {\n",
    "        'carrier' : '',\n",
    "        'lookup' : {\n",
    "            'terminal': [],\n",
    "            'port_unlocode': [],\n",
    "            'service': [],\n",
    "            'trade' : [],\n",
    "            'vessel_mmsi' : [],\n",
    "            'transport_edge_no' :[],\n",
    "            'vessel_type': []\n",
    "        }\n",
    "        .....\n",
    "    }\n",
    "    \n",
    "    {\n",
    "        'service' : '',\n",
    "        'lookup' : {\n",
    "            'terminal': [],\n",
    "            'port_unlocode': [],\n",
    "            'carrier': [],\n",
    "            'trade' : [],\n",
    "            'vessel_mmsi' : [],\n",
    "            'transport_edge_no' :[],\n",
    "            'vessel_type': []\n",
    "        }\n",
    "        .....\n",
    "    }\n",
    "    \n",
    "    {\n",
    "        'terminal' : '',\n",
    "        'lookup' : {\n",
    "            'service': [],\n",
    "            'port_unlocode': [],\n",
    "            'carrier': [],\n",
    "            'trade' : [],\n",
    "            'vessel_mmsi' : [],\n",
    "            'transport_edge_no' :[],\n",
    "            'vessel_type': []\n",
    "        }\n",
    "        .....\n",
    "    }\n",
    "    \n",
    "    {\n",
    "        'port_unlocode' : '',\n",
    "        'lookup' : {\n",
    "            'service': [],\n",
    "            'terminal': [],\n",
    "            'carrier': [],\n",
    "            'trade' : [],\n",
    "            'vessel_mmsi' : [],\n",
    "            'transport_edge_no' :[],\n",
    "            'vessel_type': []\n",
    "        }\n",
    "        .....\n",
    "    }\n",
    "    \n",
    "    {\n",
    "        'trade' : '',\n",
    "        'lookup' : {\n",
    "            'service': [],\n",
    "            'terminal': [],\n",
    "            'carrier': [],\n",
    "            'port_unlocode' : [],\n",
    "            'vessel_mmsi' : [],\n",
    "            'transport_edge_no' :[],\n",
    "            'vessel_type': []\n",
    "        }\n",
    "        .....\n",
    "    }\n",
    "    \n",
    "    {\n",
    "        'vessel_mmsi' : '',\n",
    "        'lookup' : {\n",
    "            'service': [],\n",
    "            'terminal': [],\n",
    "            'carrier': [],\n",
    "            'port_unlocode' : [],\n",
    "            'trade' : [],\n",
    "            'transport_edge_no' :[],\n",
    "            'vessel_type': []\n",
    "        }\n",
    "        .....\n",
    "    }\n",
    "    \n",
    "     {\n",
    "        'transport_edge_no' : '',\n",
    "        'lookup' : {\n",
    "            'service': [],\n",
    "            'terminal': [],\n",
    "            'carrier': [],\n",
    "            'port_unlocode' : [],\n",
    "            'trade' : [],\n",
    "            'vessel_mmsi' :[],\n",
    "            'vessel_type': []\n",
    "        }\n",
    "        .....\n",
    "    }\n",
    "    \n",
    "    {\n",
    "        'vessel_type' : '',\n",
    "        'lookup' : {\n",
    "            'service': [],\n",
    "            'terminal': [],\n",
    "            'carrier': [],\n",
    "            'port_unlocode' : [],\n",
    "            'trade' : [],\n",
    "            'transport_edge_no' :[],\n",
    "            'vessel_mmsi': []\n",
    "        }\n",
    "        .....\n",
    "    }\n",
    "]"
   ]
  },
  {
   "cell_type": "markdown",
   "id": "intensive-photographer",
   "metadata": {},
   "source": [
    "## Terminals"
   ]
  },
  {
   "cell_type": "code",
   "execution_count": null,
   "id": "concrete-juvenile",
   "metadata": {},
   "outputs": [],
   "source": [
    "df_terminals = gpd.read_file('../data/interim/terminals.geojson', orient='records')"
   ]
  },
  {
   "cell_type": "code",
   "execution_count": null,
   "id": "diagnostic-protocol",
   "metadata": {},
   "outputs": [],
   "source": [
    "df_terminals[['terminal', 'port_unlocode']]"
   ]
  },
  {
   "cell_type": "markdown",
   "id": "entitled-massachusetts",
   "metadata": {},
   "source": [
    "## Services"
   ]
  },
  {
   "cell_type": "markdown",
   "id": "otherwise-adelaide",
   "metadata": {},
   "source": [
    "## Vessels"
   ]
  },
  {
   "cell_type": "code",
   "execution_count": null,
   "id": "collective-import",
   "metadata": {},
   "outputs": [],
   "source": [
    "df_vessels = pd.read_json('../data/processed/vessels.json', orient='records')"
   ]
  },
  {
   "cell_type": "code",
   "execution_count": null,
   "id": "instrumental-murder",
   "metadata": {},
   "outputs": [],
   "source": [
    "df_vessels[['vessel_mmsi', 'carrier', 'service']]"
   ]
  },
  {
   "cell_type": "markdown",
   "id": "starting-gravity",
   "metadata": {},
   "source": [
    "## Edges"
   ]
  },
  {
   "cell_type": "code",
   "execution_count": null,
   "id": "integral-south",
   "metadata": {},
   "outputs": [],
   "source": [
    "df_transport_edges = gpd.read_file('../data/interim/master_schedules_edges.geojson', orient='records')"
   ]
  },
  {
   "cell_type": "code",
   "execution_count": null,
   "id": "sized-pharmaceutical",
   "metadata": {},
   "outputs": [],
   "source": [
    "df_transport_edges[['transport_edge_no', 'lane', 'service', 'trade', 'carrier', 'terminal_call_facility_1', 'terminal_call_facility_2', 'port_call_unlocode_1', 'port_call_unlocode_2']]"
   ]
  },
  {
   "cell_type": "code",
   "execution_count": null,
   "id": "saved-cathedral",
   "metadata": {},
   "outputs": [],
   "source": []
  }
 ],
 "metadata": {
  "language_info": {
   "name": "python",
   "pygments_lexer": "ipython3"
  }
 },
 "nbformat": 4,
 "nbformat_minor": 5
}
