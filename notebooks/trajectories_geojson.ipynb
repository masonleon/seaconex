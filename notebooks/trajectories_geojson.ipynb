{
 "cells": [
  {
   "cell_type": "code",
   "execution_count": null,
   "id": "ea185005-d62d-4c6d-80d1-72e23e058407",
   "metadata": {},
   "outputs": [],
   "source": [
    "import seaconex\n",
    "\n",
    "# import fiona\n",
    "import json\n",
    "import pandas as pd\n",
    "import numpy as np\n",
    "import geopandas as gpd\n",
    "import movingpandas as mpd\n",
    "from datetime import datetime, timedelta\n",
    "\n",
    "# from shapely.geometry import Point, LineString"
   ]
  },
  {
   "cell_type": "code",
   "execution_count": null,
   "id": "39cde394-ddee-451f-a54e-955cf595d17a",
   "metadata": {},
   "outputs": [],
   "source": [
    "ais_gpkg_location = '../data/gpkg/mssis-ais-records.gpkg'\n",
    "traj_out_geojson = '../data/processed/timestamped-trajectory2.geojson'\n",
    "# traj_out_gpkg = '../data/gpkg/timestamped-trajectory2.gpkg'"
   ]
  },
  {
   "cell_type": "code",
   "execution_count": null,
   "id": "a597b877-e10c-4d1b-8288-523d89107a08",
   "metadata": {},
   "outputs": [],
   "source": [
    "seaconex.build_all_trajectories(\n",
    "    ais_gpkg_location,\n",
    "    traj_out_geojson,\n",
    ")"
   ]
  },
  {
   "cell_type": "code",
   "execution_count": null,
   "id": "18dfa537-e08c-45bf-88ae-8716beae0b5d",
   "metadata": {},
   "outputs": [],
   "source": [
    "# seaconex.build_all_trajectories(\n",
    "#     ais_gpkg,\n",
    "#     traj_out_geojson,\n",
    "#     traj_out_gpkg\n",
    "# )"
   ]
  },
  {
   "cell_type": "code",
   "execution_count": null,
   "id": "5a563cfe-3300-414d-aa3d-cceba44d9b24",
   "metadata": {},
   "outputs": [],
   "source": [
    "gdf_ais = gpd.read_file(ais_gpkg_location)\n",
    "wgs84 = gdf_ais.crs\n",
    "print(\"Finished reading {}\".format(len(gdf_ais)))"
   ]
  },
  {
   "cell_type": "code",
   "execution_count": null,
   "id": "90b4bcef-316e-49ac-a38b-acd8ff388133",
   "metadata": {},
   "outputs": [],
   "source": [
    "gdf_ais['t'] = pd.to_datetime(gdf_ais['ais_time'], format='%Y-%m-%d %H:%M:%S')\n",
    "gdf_ais = gdf_ais.set_index('t')"
   ]
  },
  {
   "cell_type": "code",
   "execution_count": null,
   "id": "cc4a65ad-d845-4e4f-840d-0babbbb6e9d5",
   "metadata": {},
   "outputs": [],
   "source": [
    "print(\"Original size: {} rows\".format(len(gdf_ais)))\n",
    "gdf_ais = gdf_ais[gdf_ais.ais_sog > 0]\n",
    "print(\"Reduced to {} rows after removing 0 speed records\".format(len(gdf_ais)))"
   ]
  },
  {
   "cell_type": "code",
   "execution_count": null,
   "id": "fa67dea0-1734-4444-bc7e-d7fe93c00011",
   "metadata": {},
   "outputs": [],
   "source": [
    "MIN_LENGTH = 5  # meters\n",
    "traj_collection = mpd.TrajectoryCollection(\n",
    "  data = gdf_ais,\n",
    "  traj_id_col = 'vessel_mmsi',\n",
    "  min_length=MIN_LENGTH\n",
    ")\n",
    "print(\"Finished creating {} trajectories\".format(len(traj_collection)))"
   ]
  },
  {
   "cell_type": "code",
   "execution_count": null,
   "id": "30f55ee4-cd63-47f6-b553-778861a72232",
   "metadata": {},
   "outputs": [],
   "source": [
    "traj_collection = mpd.MinTimeDeltaGeneralizer(\n",
    "  traj_collection\n",
    ").generalize(\n",
    "tolerance=timedelta(minutes=1)\n",
    ")"
   ]
  },
  {
   "cell_type": "code",
   "execution_count": null,
   "id": "294dea47-f6a2-4e83-86b4-66b4526019ae",
   "metadata": {},
   "outputs": [],
   "source": [
    "traj_collection.trajectories[0].df"
   ]
  },
  {
   "cell_type": "code",
   "execution_count": null,
   "id": "22e62b19-b00e-405b-bfa3-cb81c9606efa",
   "metadata": {},
   "outputs": [],
   "source": [
    "# geojson_traj_collection = seaconex.traj_collection_to_geojson(traj_collection)"
   ]
  },
  {
   "cell_type": "code",
   "execution_count": null,
   "id": "350b1823-37fa-4ba7-abca-3497276234c5",
   "metadata": {},
   "outputs": [],
   "source": [
    "# json.loads(geojson_traj_collection)['type']"
   ]
  },
  {
   "cell_type": "code",
   "execution_count": null,
   "id": "4b5e8ad9-ddbf-44bc-b5d8-3089f3485d2c",
   "metadata": {},
   "outputs": [],
   "source": [
    "# gdf_traj_collection = gpd.read_file(geojson_traj_collection)\n",
    "# wgs84 = gdf_traj_collection.crs"
   ]
  },
  {
   "cell_type": "code",
   "execution_count": null,
   "id": "115291e4-e3ba-4fe8-bcb6-f99b86963202",
   "metadata": {},
   "outputs": [],
   "source": [
    "# geojson = json.loads(geojson_traj_collection)\n",
    "# gdf_traj_collection = gpd.GeoDataFrame.from_features(\n",
    "#     geojson['features'],\n",
    "#     crs=geojson['crs']['properties']['name']\n",
    "# )"
   ]
  },
  {
   "cell_type": "code",
   "execution_count": null,
   "id": "646e903c-bed0-4835-b7d4-fddd17b936e3",
   "metadata": {},
   "outputs": [],
   "source": [
    "# gdf_traj_collection"
   ]
  },
  {
   "cell_type": "code",
   "execution_count": null,
   "id": "1b7bf6af-e34a-4f4a-9f79-c246e3c4f5be",
   "metadata": {},
   "outputs": [],
   "source": [
    "# seaconex.gdf_to_geo_file(\n",
    "#     gdf_traj_collection,\n",
    "#     traj_out_gpkg,\n",
    "\n",
    "    \n",
    "# )"
   ]
  }
 ],
 "metadata": {
  "language_info": {
   "name": "python",
   "pygments_lexer": "ipython3"
  }
 },
 "nbformat": 4,
 "nbformat_minor": 5
}
