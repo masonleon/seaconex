{
 "cells": [
  {
   "cell_type": "code",
   "execution_count": null,
   "id": "logical-cookie",
   "metadata": {},
   "outputs": [],
   "source": [
    "import seaconex\n",
    "\n",
    "import camelot\n",
    "import requests\n",
    "import time\n",
    "import lxml\n",
    "import re\n",
    "import json\n",
    "import os\n",
    "import io\n",
    "import fiona\n",
    "import zipfile\n",
    "\n",
    "import pandas as pd\n",
    "import numpy as np\n",
    "import geopandas as gpd\n",
    "import networkx as nx\n",
    "\n",
    "from bs4 import BeautifulSoup\n",
    "from shapely.geometry import Point, LineString"
   ]
  },
  {
   "cell_type": "markdown",
   "id": "relevant-bleeding",
   "metadata": {},
   "source": [
    "## SMDG Terminal Code List (TCL)\n",
    "\n",
    "https://smdg.org/documents/smdg-code-lists/smdg-terminal-code-list/  \n",
    "https://github.com/smdg-org/Terminal-Code-List  \n",
    "https://www.google.com/maps/d/viewer?mid=1nbJI9NkpAayVpSJqy13qJ2xhatcIKQJK&ll=-3.81666561775622e-14%2C-4.5703125&z=2  "
   ]
  },
  {
   "cell_type": "code",
   "execution_count": null,
   "id": "significant-dutch",
   "metadata": {},
   "outputs": [],
   "source": [
    "smdg_tcl_path = '../data/raw/smdg-tcl-v20210401.csv'\n",
    "\n",
    "if not os.path.exists(smdg_tcl_path):\n",
    "    url = 'https://raw.githubusercontent.com/smdg-org/Terminal-Code-List/8886d86445d0a53e5495a4aeb11beedc92bd20cb/SMDG%20Terminal%20Code%20List.csv'\n",
    "    # alt url in .xlsx\n",
    "    # https://smdg.org/wp-content/uploads/Codelists/Terminals/SMDG-Terminal-Code-List-v20210401.xlsx\n",
    "    r = requests.get(url)\n",
    "    with open(smdg_tcl_path, 'wb') as f:\n",
    "        f.write(r.content)"
   ]
  },
  {
   "cell_type": "code",
   "execution_count": null,
   "id": "recognized-exclusion",
   "metadata": {},
   "outputs": [],
   "source": [
    "df_smdg = pd.read_csv(\n",
    "    smdg_tcl_path\n",
    ").drop(\n",
    "    columns=[\n",
    "        'Latitude (DMS)',\n",
    "        'Longitude (DMS)',\n",
    "        'Last change',\n",
    "        'Valid from',\n",
    "        'Valid until',\n",
    "#         'Remarks'\n",
    "    ]\n",
    ").rename(\n",
    "    columns={\n",
    "        'UNLOCODE':'port_unlocode',\n",
    "        'Alternative UNLOCODEs':'port_unlocode_alt',\n",
    "        'Terminal Code': 'terminal',\n",
    "        'Latitude': 'latitude',\n",
    "        'Longitude': 'longitude',\n",
    "        'Terminal Facility Name':'terminal_name',\n",
    "        'Terminal Company Name':'terminal_operator',\n",
    "        'Terminal Website':'terminal_website',\n",
    "        'Terminal Address':'terminal_address',\n",
    "        'Remarks': 'remarks'\n",
    "    }\n",
    ").fillna(\"\")"
   ]
  },
  {
   "cell_type": "code",
   "execution_count": null,
   "id": "julian-array",
   "metadata": {},
   "outputs": [],
   "source": [
    "df_smdg.columns.tolist()"
   ]
  },
  {
   "cell_type": "code",
   "execution_count": null,
   "id": "immediate-trace",
   "metadata": {},
   "outputs": [],
   "source": [
    "df_smdg"
   ]
  },
  {
   "cell_type": "markdown",
   "id": "atlantic-wonder",
   "metadata": {},
   "source": [
    "## UNLOCODE"
   ]
  },
  {
   "cell_type": "markdown",
   "id": "cloudy-jewelry",
   "metadata": {},
   "source": [
    "https://github.com/tadziqusky/unlocode-ports/blob/master/extract%20ports.ipynb"
   ]
  },
  {
   "cell_type": "code",
   "execution_count": null,
   "id": "suffering-tribute",
   "metadata": {},
   "outputs": [],
   "source": [
    "unlocode_path = '../data/raw/unlocode-v20201218.zip'\n",
    "\n",
    "if not os.path.exists(unlocode_path):\n",
    "    url = 'https://unece.org/sites/default/files/2020-12/loc202csv.zip'\n",
    "    # alt url in .xlsx\n",
    "    # https://smdg.org/wp-content/uploads/Codelists/Terminals/SMDG-Terminal-Code-List-v20210401.xlsx\n",
    "    r = requests.get(url)\n",
    "    with open(unlocode_path, 'wb') as f:\n",
    "        f.write(r.content)"
   ]
  },
  {
   "cell_type": "code",
   "execution_count": null,
   "id": "amino-second",
   "metadata": {},
   "outputs": [],
   "source": [
    "li = list()\n",
    "\n",
    "with zipfile.ZipFile(unlocode_path, 'r') as zf:\n",
    "    for file in zf.namelist():      \n",
    "        if file.endswith('.csv'):\n",
    "            print(file)\n",
    "            df = pd.read_csv(\n",
    "                zf.open(file), \n",
    "                sep=',', \n",
    "#                 encoding = \"ISO-8859-1\", \n",
    "                encoding = 'unicode_escape',\n",
    "                header=None\n",
    "#                 error_bad_lines=False\n",
    "            )\n",
    "            li.append(df)"
   ]
  },
  {
   "cell_type": "code",
   "execution_count": null,
   "id": "provincial-metadata",
   "metadata": {},
   "outputs": [],
   "source": [
    "li[0]"
   ]
  },
  {
   "cell_type": "code",
   "execution_count": null,
   "id": "incomplete-houston",
   "metadata": {},
   "outputs": [],
   "source": [
    "# li[1]"
   ]
  },
  {
   "cell_type": "code",
   "execution_count": null,
   "id": "bacterial-satellite",
   "metadata": {},
   "outputs": [],
   "source": [
    "# li[2]"
   ]
  },
  {
   "cell_type": "code",
   "execution_count": null,
   "id": "direct-bones",
   "metadata": {},
   "outputs": [],
   "source": [
    "# li[3]"
   ]
  },
  {
   "cell_type": "code",
   "execution_count": null,
   "id": "conceptual-inquiry",
   "metadata": {},
   "outputs": [],
   "source": [
    "df_unlocode = pd.concat(li[1:])"
   ]
  },
  {
   "cell_type": "code",
   "execution_count": null,
   "id": "ancient-chest",
   "metadata": {},
   "outputs": [],
   "source": [
    "df_unlocode.columns = [\n",
    "    'change', \n",
    "    'country', \n",
    "    'location', \n",
    "    'name', \n",
    "    'name_wo_diacritics', \n",
    "    'subdivision', \n",
    "    'status', \n",
    "    'function', \n",
    "    'date', \n",
    "    'iata', \n",
    "    'coordinates', \n",
    "    'remarks' \n",
    "]"
   ]
  },
  {
   "cell_type": "code",
   "execution_count": null,
   "id": "medium-reader",
   "metadata": {},
   "outputs": [],
   "source": [
    "df_unlocode.head()"
   ]
  },
  {
   "cell_type": "code",
   "execution_count": null,
   "id": "presidential-plymouth",
   "metadata": {},
   "outputs": [],
   "source": [
    "country_condition = df_unlocode['location'].isnull() & df_unlocode['change'].isnull()\n",
    "\n",
    "countries_df = df_unlocode[country_condition]\n",
    "countries_df = countries_df[[\"country\", \"name\"]]\n",
    "countries_df = countries_df.set_index('country')\n",
    "countries_df['name'] = countries_df['name'].str.slice(start=1)\n",
    "countries_df = countries_df.rename(columns={\"name\": \"country_name\"})"
   ]
  },
  {
   "cell_type": "code",
   "execution_count": null,
   "id": "caroline-sheep",
   "metadata": {},
   "outputs": [],
   "source": [
    "countries_df.head(10)"
   ]
  },
  {
   "cell_type": "code",
   "execution_count": null,
   "id": "collected-hormone",
   "metadata": {},
   "outputs": [],
   "source": [
    "countries_df.query('country == \"BM\"')"
   ]
  },
  {
   "cell_type": "code",
   "execution_count": null,
   "id": "about-mobile",
   "metadata": {},
   "outputs": [],
   "source": [
    "ports_df = df_unlocode[df_unlocode[\"status\"].str.slice(start=0, stop=1) == '1'].drop(\n",
    "    columns=[\n",
    "        'change', \n",
    "        'status', \n",
    "        'date', \n",
    "        'remarks', \n",
    "        'function', \n",
    "        'iata', \n",
    "        'subdivision'\n",
    "    ]\n",
    ")\n",
    "\n",
    "# ports_df = ports_df.dropna(subset=['coordinates']) \n",
    "\n",
    "# ports_df.loc[:, \"latitude\"] = ports_df.coordinates.str.split(expand=True).loc[:, 0]\n",
    "# ports_df.loc[:, \"longitude\"] = ports_df.coordinates.str.split(expand=True).loc[:, 1]\n",
    "\n",
    "# ports_df[\"latitude\"] = (ports_df[\"latitude\"].str.slice(0, 2).astype(\"double\") + ports_df[\"latitude\"].str.slice(2, 4).astype(\"double\") / 60) * ports_df[\"latitude\"].str.slice(4, 5).map(lambda x: 1 if x == \"N\" else -1)\n",
    "# ports_df[\"longitude\"] = (ports_df[\"longitude\"].str.slice(0, 3).astype(\"double\") + ports_df[\"longitude\"].str.slice(3, 5).astype(\"double\") / 60) * ports_df[\"longitude\"].str.slice(5, 6).map(lambda x: 1 if x == \"E\" else -1)\n",
    "\n",
    "# ports_df = ports_df.drop(columns=[\"coordinates\"])"
   ]
  },
  {
   "cell_type": "code",
   "execution_count": null,
   "id": "consolidated-headset",
   "metadata": {},
   "outputs": [],
   "source": [
    "ports_df['port_unlocode'] = ports_df['country'] + ports_df['location']"
   ]
  },
  {
   "cell_type": "code",
   "execution_count": null,
   "id": "rapid-fault",
   "metadata": {},
   "outputs": [],
   "source": [
    "ports_df"
   ]
  },
  {
   "cell_type": "code",
   "execution_count": null,
   "id": "pressed-poland",
   "metadata": {},
   "outputs": [],
   "source": [
    "ports_df.query('country == \"BM\"')"
   ]
  },
  {
   "cell_type": "code",
   "execution_count": null,
   "id": "dirty-oakland",
   "metadata": {},
   "outputs": [],
   "source": [
    "# ports_df.port_unlocode == 'BMBDA'\n",
    "# ports_df[ports_df.port_unlocode.isin(['BMBDA'])]\n",
    "\n",
    "df_unlocode[df_unlocode.country.isin(['BM'])]"
   ]
  },
  {
   "cell_type": "code",
   "execution_count": null,
   "id": "welsh-tissue",
   "metadata": {},
   "outputs": [],
   "source": [
    "ports_df"
   ]
  },
  {
   "cell_type": "code",
   "execution_count": null,
   "id": "outside-showcase",
   "metadata": {},
   "outputs": [],
   "source": [
    "ports_with_country_names_df = ports_df.join(countries_df, how='left', on=\"country\")\n",
    "ports_with_country_names_df = ports_with_country_names_df.reset_index()\n",
    "ports_with_country_names_df = ports_with_country_names_df.drop(columns=[\"index\"])\n",
    "\n",
    "ports_with_country_names_df"
   ]
  },
  {
   "cell_type": "code",
   "execution_count": null,
   "id": "absolute-giant",
   "metadata": {},
   "outputs": [],
   "source": [
    "# ports_with_country_names_df['port_unlocode'] = ports_with_country_names_df['country'] + ports_with_country_names_df['location']"
   ]
  },
  {
   "cell_type": "code",
   "execution_count": null,
   "id": "protecting-priest",
   "metadata": {},
   "outputs": [],
   "source": [
    "ports_with_country_names_df"
   ]
  },
  {
   "cell_type": "code",
   "execution_count": null,
   "id": "modified-lobby",
   "metadata": {},
   "outputs": [],
   "source": [
    "terminals_df = pd.read_json('../data/processed/terminal.json')"
   ]
  },
  {
   "cell_type": "code",
   "execution_count": null,
   "id": "intimate-modem",
   "metadata": {},
   "outputs": [],
   "source": [
    "terminals_df = terminals_df.rename(\n",
    "    columns={\n",
    "        'id':'terminal',\n",
    "        'terminal_port':'port_name',\n",
    "        'terminal_unlocode':'port_unlocode',\n",
    "        'terminal_unlocode_alt':'port_unlocode_alt',\n",
    "        'terminal_lat': 'latitude',\n",
    "        'terminal_lon': 'longitude',\n",
    "        'terminal_facility_name':'terminal_name',\n",
    "        'terminal_company_name':'terminal_operator',\n",
    "        'Terminal Website':'terminal_website'\n",
    "    }\n",
    ").drop(\n",
    "    columns=[\n",
    "        'TAC1',\n",
    "        'A',\n",
    "        'P1/AL3',\n",
    "        'BI',\n",
    "        'SI',\n",
    "        'O'\n",
    "    ]\n",
    ")"
   ]
  },
  {
   "cell_type": "code",
   "execution_count": null,
   "id": "verified-wilson",
   "metadata": {},
   "outputs": [],
   "source": [
    "# terminals_df"
   ]
  },
  {
   "cell_type": "code",
   "execution_count": null,
   "id": "intimate-hobby",
   "metadata": {},
   "outputs": [],
   "source": [
    "wpi_smdg = {\n",
    "    'PSAP':8080, \n",
    "    'NCSPA':8474, \n",
    "    'ACOT':31250, \n",
    "    'DPWS':35580, \n",
    "    'RDT':34350,\n",
    "    'BCMT':9170,\n",
    "    'FIT':8630,\n",
    "    'OHPANC':8560,\n",
    "    'GCMT':8530,\n",
    "    'NCMT':8500,\n",
    "    'NIT':8280,\n",
    "    'SMT':8210,\n",
    "    'DMT':8210,\n",
    "    'BIT':8025,\n",
    "    'PSAP':8080,\n",
    "    'FAPS':7810,\n",
    "    'MAHER':7810,\n",
    "    'PNCT':7810,\n",
    "    'FCOVE':6340,\n",
    "    'CTA':30780,\n",
    "    'UCT':30780,\n",
    "    'AET':31250,\n",
    "    'K869':31250,\n",
    "    'ACOT':31250,\n",
    "    'RDT':34350,\n",
    "    'RSCT':34690,\n",
    "    'DPWLG':31420\n",
    "}\n",
    "\n"
   ]
  },
  {
   "cell_type": "code",
   "execution_count": null,
   "id": "earlier-suffering",
   "metadata": {},
   "outputs": [],
   "source": [
    "gpd.GeoDataFrame(\n",
    "    terminals_df,\n",
    "    crs='EPSG:3857', \n",
    "    geometry=gpd.points_from_xy(terminals_df.longitude, terminals_df.latitude)\n",
    ").drop(\n",
    "    columns=['latitude', 'longitude']\n",
    ").to_file(\n",
    "    '../data/interim/terminals.geojson',\n",
    "    driver='GeoJSON',   \n",
    ")"
   ]
  },
  {
   "cell_type": "code",
   "execution_count": null,
   "id": "chronic-dimension",
   "metadata": {},
   "outputs": [],
   "source": [
    "gpd.GeoDataFrame(\n",
    "    terminals_df,\n",
    "    crs='EPSG:3857', \n",
    "    geometry=gpd.points_from_xy(terminals_df.longitude, terminals_df.latitude)\n",
    ").drop(\n",
    "    columns=['latitude', 'longitude']\n",
    ").to_file(\n",
    "    '../data/interim/terminals.gpkg',\n",
    "    driver='GPKG',   \n",
    ")"
   ]
  },
  {
   "cell_type": "code",
   "execution_count": null,
   "id": "driving-subscriber",
   "metadata": {},
   "outputs": [],
   "source": [
    "routes = gpd.read_file('../data/interim/master_schedules_edges.json')"
   ]
  },
  {
   "cell_type": "code",
   "execution_count": null,
   "id": "undefined-milan",
   "metadata": {},
   "outputs": [],
   "source": [
    "routes = routes[['transport_edge_no', 'terminal_call_facility_1', 'terminal_call_facility_2']]"
   ]
  },
  {
   "cell_type": "code",
   "execution_count": null,
   "id": "assumed-duncan",
   "metadata": {},
   "outputs": [],
   "source": [
    "routes2 = pd.merge(\n",
    "    left=routes,\n",
    "    right=terminals_df[['terminal', 'latitude', 'longitude']].add_suffix('_1'),\n",
    "    how='left', \n",
    "    left_on=['terminal_call_facility_1'], \n",
    "    right_on=['terminal_1']\n",
    ").drop(columns=['terminal_1']).reset_index(drop=True)"
   ]
  },
  {
   "cell_type": "code",
   "execution_count": null,
   "id": "remarkable-stability",
   "metadata": {},
   "outputs": [],
   "source": [
    "routes3 = pd.merge(\n",
    "    left=routes2,\n",
    "    right=terminals_df[['terminal', 'latitude', 'longitude']].add_suffix('_2'),\n",
    "    how='left', \n",
    "    left_on=['terminal_call_facility_2'], \n",
    "    right_on=['terminal_2']\n",
    ").drop(columns=['terminal_2']).reset_index(drop=True)"
   ]
  },
  {
   "cell_type": "code",
   "execution_count": null,
   "id": "identified-lodge",
   "metadata": {},
   "outputs": [],
   "source": [
    "routes3.drop(columns=['terminal_call_facility_1','terminal_call_facility_2'], inplace=True)"
   ]
  },
  {
   "cell_type": "code",
   "execution_count": null,
   "id": "north-backup",
   "metadata": {},
   "outputs": [],
   "source": [
    "routes3.columns=['route name','olon','olat','dlon','dlat']"
   ]
  },
  {
   "cell_type": "code",
   "execution_count": null,
   "id": "focal-daughter",
   "metadata": {},
   "outputs": [],
   "source": [
    "routes3"
   ]
  },
  {
   "cell_type": "code",
   "execution_count": null,
   "id": "lined-factory",
   "metadata": {},
   "outputs": [],
   "source": [
    "routes3.to_csv('../data/searoute/data/in/searoutes.csv', index=False)"
   ]
  },
  {
   "cell_type": "code",
   "execution_count": null,
   "id": "painted-appointment",
   "metadata": {},
   "outputs": [],
   "source": [
    "searoutes = gpd.read_file('../data/interim/master_schedules_edges.json')[['transport_edge_no', 'terminal_call_facility_1', 'terminal_call_facility_2']]\n",
    "\n",
    "searoutes.merge(\n",
    "    right=terminals_df[['terminal', 'latitude', 'longitude']].add_suffix('_1'),\n",
    "    how='left', \n",
    "    left_on=['terminal_call_facility_1'], \n",
    "    right_on=['terminal_1']\n",
    "# ).drop(\n",
    "#     columns=['terminal_1']\n",
    "# ).reset_index(\n",
    "#     drop=True\n",
    ").merge(\n",
    "    right=terminals_df[['terminal', 'latitude', 'longitude']].add_suffix('_2'),\n",
    "    how='left', \n",
    "    left_on=['terminal_call_facility_2'], \n",
    "    right_on=['terminal_2']\n",
    ").drop(\n",
    "    columns=[\n",
    "        'terminal_1',\n",
    "        'terminal_2',\n",
    "        'terminal_call_facility_1',\n",
    "        'terminal_call_facility_2'\n",
    "    ]\n",
    "# ).reset_index(\n",
    "#     drop=True\n",
    ").rename(\n",
    "    columns={\n",
    "        'transport_edge_no':'route name',\n",
    "        'latitude_1':'olat',\n",
    "        'longitude_1':'olon',\n",
    "        'latitude_2': 'dlat',\n",
    "        'longitude_2':'dlon'\n",
    "    }\n",
    ")[['route name','olon','olat','dlon','dlat']].to_csv(\n",
    "    path_or_buf='../data/searoute/data/in/searoutes.csv',\n",
    "    index=False\n",
    ")"
   ]
  },
  {
   "cell_type": "code",
   "execution_count": null,
   "id": "arabic-transmission",
   "metadata": {},
   "outputs": [],
   "source": []
  },
  {
   "cell_type": "code",
   "execution_count": null,
   "id": "systematic-lecture",
   "metadata": {},
   "outputs": [],
   "source": [
    "codes = list()\n",
    "\n",
    "for c in terminals_df['terminal_unlocode'].unique().tolist():\n",
    "    if c != '' and c not in codes:\n",
    "        codes.append(c)\n",
    "\n",
    "for c in terminals_df['terminal_unlocode_alt'].unique().tolist():\n",
    "    if c != '' and c not in codes:\n",
    "        codes.append(c)\n",
    "        \n",
    "codes"
   ]
  },
  {
   "cell_type": "code",
   "execution_count": null,
   "id": "dense-leone",
   "metadata": {},
   "outputs": [],
   "source": [
    "# ports_with_country_names_df[ports_with_country_names_df.port_unlocode.isin(codes)]"
   ]
  },
  {
   "cell_type": "code",
   "execution_count": null,
   "id": "double-prospect",
   "metadata": {},
   "outputs": [],
   "source": [
    "ports_df[ports_df.port_unlocode.isin(codes)]"
   ]
  },
  {
   "cell_type": "code",
   "execution_count": null,
   "id": "textile-class",
   "metadata": {},
   "outputs": [],
   "source": [
    "df_smdg[df_smdg.terminal.isin(terminals_df['id'].unique().tolist())]"
   ]
  },
  {
   "cell_type": "code",
   "execution_count": null,
   "id": "correct-london",
   "metadata": {},
   "outputs": [],
   "source": [
    "gdf = geopandas.GeoDataFrame(nga, geometry=geometry, crs=\"EPSG:4326\")"
   ]
  },
  {
   "cell_type": "code",
   "execution_count": null,
   "id": "fleet-disclaimer",
   "metadata": {},
   "outputs": [],
   "source": [
    "gdf.head()"
   ]
  },
  {
   "cell_type": "code",
   "execution_count": null,
   "id": "specified-quantity",
   "metadata": {},
   "outputs": [],
   "source": [
    "gdf.crs"
   ]
  },
  {
   "cell_type": "code",
   "execution_count": null,
   "id": "imposed-marina",
   "metadata": {},
   "outputs": [],
   "source": [
    "gdf.to_file('../data/interim/' + 'nga-wpi_v1.json', driver='GeoJSON')"
   ]
  },
  {
   "cell_type": "code",
   "execution_count": null,
   "id": "intelligent-stuff",
   "metadata": {},
   "outputs": [],
   "source": [
    "gdf.to_file('../data/interim/' + 'nga-wpi_v1.gpkg', driver='GPKG')"
   ]
  },
  {
   "cell_type": "code",
   "execution_count": null,
   "id": "christian-wayne",
   "metadata": {},
   "outputs": [],
   "source": [
    "# are these ports missing??\n",
    "salem = '8025'\n",
    "cork = '34360'\n",
    "london = '31470'"
   ]
  }
 ],
 "metadata": {
  "language_info": {
   "name": "python",
   "pygments_lexer": "ipython3"
  }
 },
 "nbformat": 4,
 "nbformat_minor": 5
}
