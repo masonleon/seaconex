{
 "cells": [
  {
   "cell_type": "markdown",
   "id": "finnish-bronze",
   "metadata": {},
   "source": [
    "# Pre-Process MSSIS Port Visits"
   ]
  },
  {
   "cell_type": "markdown",
   "id": "grand-fitness",
   "metadata": {},
   "source": [
    "Cleaning of the Bermuda Case Study MSSIS port visit history dataset provided by Volpe. Upon inspection of the MSSIS AIS historical dataset it was apparent there were coverage issues for Bermuda and swaths of the Atlantic. Initially it was believed that the team could recieve commercial AIS data which was assumed to include satelite data. However, this was not possible due to contractual issues."
   ]
  },
  {
   "cell_type": "code",
   "execution_count": null,
   "id": "fuzzy-faculty",
   "metadata": {},
   "outputs": [],
   "source": [
    "visits = '../data/raw/volpe-bermuda-mssis-port-visits.txt'\n",
    "bm_wpi = '../data/raw/volpe-bermuda-mssis-wpi-bm.txt'"
   ]
  },
  {
   "cell_type": "code",
   "execution_count": null,
   "id": "social-softball",
   "metadata": {},
   "outputs": [],
   "source": [
    "out_path = '../data/interim/'"
   ]
  },
  {
   "cell_type": "code",
   "execution_count": null,
   "id": "portable-bristol",
   "metadata": {},
   "outputs": [],
   "source": [
    "import pandas as pd\n",
    "import requests\n",
    "import geopandas\n",
    "import seaconex\n",
    "import json\n",
    "import seaconex\n",
    "import numpy as np\n",
    "\n",
    "from shapely.geometry import Point\n",
    "from geopandas import GeoDataFrame, read_file"
   ]
  },
  {
   "cell_type": "markdown",
   "id": "paperback-workstation",
   "metadata": {},
   "source": [
    "## volpe-bermuda-mssis-wpi-bm.txt"
   ]
  },
  {
   "cell_type": "code",
   "execution_count": null,
   "id": "dutch-north",
   "metadata": {},
   "outputs": [],
   "source": [
    "# !head $bm_wpi"
   ]
  },
  {
   "cell_type": "code",
   "execution_count": null,
   "id": "cardiac-female",
   "metadata": {},
   "outputs": [],
   "source": [
    "# !tail $bm_wpi "
   ]
  },
  {
   "cell_type": "code",
   "execution_count": null,
   "id": "moral-responsibility",
   "metadata": {},
   "outputs": [],
   "source": [
    "data = seaconex.piped_txt_to_arr(bm_wpi)"
   ]
  },
  {
   "cell_type": "code",
   "execution_count": null,
   "id": "quality-license",
   "metadata": {},
   "outputs": [],
   "source": [
    "data"
   ]
  },
  {
   "cell_type": "code",
   "execution_count": null,
   "id": "cooked-theater",
   "metadata": {},
   "outputs": [],
   "source": [
    "bm_wpi_df = pd.DataFrame(data[1:], columns=data[0])"
   ]
  },
  {
   "cell_type": "code",
   "execution_count": null,
   "id": "global-technical",
   "metadata": {},
   "outputs": [],
   "source": [
    "bm_wpi_df.rename(\n",
    "    columns = {\n",
    "        'World_port_index_number': 'mssis_wpi',\n",
    "        'Region_index': 'mssis_wpi_region_index',\n",
    "        'Main_port_name': 'mssis_wpi_main_port_name',\n",
    "        'Wpi_country_code': 'mssis_wpi_country'\n",
    "    }, inplace=True\n",
    ")"
   ]
  },
  {
   "cell_type": "code",
   "execution_count": null,
   "id": "governmental-taste",
   "metadata": {},
   "outputs": [],
   "source": [
    "bm_wpi_df.to_json(out_path + 'mssis-wpi-bm-ports_v1.json', orient='records')"
   ]
  },
  {
   "cell_type": "code",
   "execution_count": null,
   "id": "cellular-concentration",
   "metadata": {},
   "outputs": [],
   "source": [
    "# df.info()"
   ]
  },
  {
   "cell_type": "markdown",
   "id": "annual-temperature",
   "metadata": {},
   "source": [
    "## volpe-bermuda-mssis-port-visits.txt"
   ]
  },
  {
   "cell_type": "code",
   "execution_count": null,
   "id": "swedish-richardson",
   "metadata": {},
   "outputs": [],
   "source": [
    "# !head $visits"
   ]
  },
  {
   "cell_type": "code",
   "execution_count": null,
   "id": "nonprofit-sheep",
   "metadata": {},
   "outputs": [],
   "source": [
    "# !tail $visits"
   ]
  },
  {
   "cell_type": "code",
   "execution_count": null,
   "id": "regional-result",
   "metadata": {},
   "outputs": [],
   "source": [
    "data = seaconex.piped_txt_to_arr(visits)"
   ]
  },
  {
   "cell_type": "code",
   "execution_count": null,
   "id": "gorgeous-solution",
   "metadata": {},
   "outputs": [],
   "source": [
    "# data[:3]"
   ]
  },
  {
   "cell_type": "code",
   "execution_count": null,
   "id": "pressing-seeking",
   "metadata": {},
   "outputs": [],
   "source": [
    "df = pd.DataFrame(data[1:], columns=data[0])"
   ]
  },
  {
   "cell_type": "code",
   "execution_count": null,
   "id": "fifteen-proposition",
   "metadata": {},
   "outputs": [],
   "source": [
    "# df.head()"
   ]
  },
  {
   "cell_type": "code",
   "execution_count": null,
   "id": "pretty-carbon",
   "metadata": {},
   "outputs": [],
   "source": [
    "# df.info()"
   ]
  },
  {
   "cell_type": "code",
   "execution_count": null,
   "id": "disturbed-control",
   "metadata": {},
   "outputs": [],
   "source": [
    "df['ExitTime'] = pd.to_datetime(df['ExitTime'], unit ='s')\n",
    "df['EntryTime'] = pd.to_datetime(df['EntryTime'], unit ='s')"
   ]
  },
  {
   "cell_type": "code",
   "execution_count": null,
   "id": "organizational-vulnerability",
   "metadata": {},
   "outputs": [],
   "source": [
    "df.drop(columns=['from_unixtime(EntryTime)', 'from_unixtime(ExitTime)'], inplace=True)"
   ]
  },
  {
   "cell_type": "code",
   "execution_count": null,
   "id": "introductory-palace",
   "metadata": {},
   "outputs": [],
   "source": [
    "df[['MMSI', 'PortIndex']] = df[['MMSI', 'PortIndex']].astype('uint32')"
   ]
  },
  {
   "cell_type": "code",
   "execution_count": null,
   "id": "composed-asthma",
   "metadata": {},
   "outputs": [],
   "source": [
    "# df.info()"
   ]
  },
  {
   "cell_type": "code",
   "execution_count": null,
   "id": "spanish-roberts",
   "metadata": {},
   "outputs": [],
   "source": [
    "df.rename(\n",
    "    columns = {\n",
    "        'MMSI': 'vessel_mmsi', \n",
    "        'EntryTime': 'ais_port_entry_time', \n",
    "        'ExitTime': 'ais_port_exit_time', \n",
    "        'PortIndex': 'mssis_wpi', \n",
    "        'main_port_name': 'mssis_wpi_main_port_name', \n",
    "        'wpi_country_code': 'mssis_wpi_country'\n",
    "    }, inplace=True\n",
    ")"
   ]
  },
  {
   "cell_type": "code",
   "execution_count": null,
   "id": "enormous-accounting",
   "metadata": {},
   "outputs": [],
   "source": [
    "# df.info()"
   ]
  },
  {
   "cell_type": "code",
   "execution_count": null,
   "id": "documentary-interstate",
   "metadata": {},
   "outputs": [],
   "source": [
    "df.head()"
   ]
  },
  {
   "cell_type": "code",
   "execution_count": null,
   "id": "comparable-stupid",
   "metadata": {},
   "outputs": [],
   "source": [
    "df.vessel_mmsi.unique()"
   ]
  },
  {
   "cell_type": "code",
   "execution_count": null,
   "id": "suitable-chapel",
   "metadata": {},
   "outputs": [],
   "source": [
    "df.ais_port_entry_time.unique().size"
   ]
  },
  {
   "cell_type": "code",
   "execution_count": null,
   "id": "young-forward",
   "metadata": {},
   "outputs": [],
   "source": [
    "df.ais_port_exit_time.unique().size"
   ]
  },
  {
   "cell_type": "code",
   "execution_count": null,
   "id": "banner-party",
   "metadata": {},
   "outputs": [],
   "source": [
    "df.mssis_wpi.unique().size"
   ]
  },
  {
   "cell_type": "code",
   "execution_count": null,
   "id": "fundamental-contract",
   "metadata": {},
   "outputs": [],
   "source": [
    "df.mssis_wpi_main_port_name.unique()"
   ]
  },
  {
   "cell_type": "code",
   "execution_count": null,
   "id": "assumed-advocacy",
   "metadata": {},
   "outputs": [],
   "source": [
    "df.mssis_wpi_main_port_name.unique().size"
   ]
  },
  {
   "cell_type": "code",
   "execution_count": null,
   "id": "level-despite",
   "metadata": {},
   "outputs": [],
   "source": [
    "df.mssis_wpi_country.unique()"
   ]
  },
  {
   "cell_type": "code",
   "execution_count": null,
   "id": "incredible-charter",
   "metadata": {},
   "outputs": [],
   "source": [
    "df.mssis_wpi_country.unique().size"
   ]
  },
  {
   "cell_type": "code",
   "execution_count": null,
   "id": "blessed-newton",
   "metadata": {},
   "outputs": [],
   "source": [
    "df.columns.str.contains('wpi')"
   ]
  },
  {
   "cell_type": "code",
   "execution_count": null,
   "id": "designing-pasta",
   "metadata": {},
   "outputs": [],
   "source": [
    "df.filter(like='wpi').columns"
   ]
  },
  {
   "cell_type": "code",
   "execution_count": null,
   "id": "korean-transparency",
   "metadata": {},
   "outputs": [],
   "source": [
    "df.filter(like='wpi').drop_duplicates().reset_index(drop=True)"
   ]
  },
  {
   "cell_type": "code",
   "execution_count": null,
   "id": "acquired-macintosh",
   "metadata": {},
   "outputs": [],
   "source": [
    "# df.groupby(['mssis_wpi','mssis_wpi_main_port_name', 'mssis_wpi_country']).size().reset_index().rename(columns={0:'ais_count'})"
   ]
  },
  {
   "cell_type": "code",
   "execution_count": null,
   "id": "relative-exhibition",
   "metadata": {},
   "outputs": [],
   "source": [
    "ports = df.filter(like='wpi').drop_duplicates().reset_index(drop=True).to_json(orient='records')"
   ]
  },
  {
   "cell_type": "code",
   "execution_count": null,
   "id": "ranking-forge",
   "metadata": {},
   "outputs": [],
   "source": [
    "ports = df.filter(like='wpi').drop_duplicates().reset_index(drop=True).to_json(out_path + 'mssis-port-visit-ports_v1.json')"
   ]
  },
  {
   "cell_type": "code",
   "execution_count": null,
   "id": "alert-halifax",
   "metadata": {},
   "outputs": [],
   "source": [
    "# with open(out_path + 'mssis-port-visit-ports_v1.json', 'w') as json_file:\n",
    "#     json.dump(ports, json_file)"
   ]
  },
  {
   "cell_type": "code",
   "execution_count": null,
   "id": "electronic-silicon",
   "metadata": {},
   "outputs": [],
   "source": [
    "# df.groupby(['vessel_mmsi', 'mssis_wpi','mssis_wpi_main_port_name', 'mssis_wpi_country']).count()"
   ]
  },
  {
   "cell_type": "code",
   "execution_count": null,
   "id": "soviet-investor",
   "metadata": {},
   "outputs": [],
   "source": [
    "# df.sort_values(['vessel_mmsi'],ascending=False).groupby(['mssis_wpi','mssis_wpi_main_port_name', 'mssis_wpi_country']).head(3)"
   ]
  },
  {
   "cell_type": "code",
   "execution_count": null,
   "id": "norwegian-destruction",
   "metadata": {},
   "outputs": [],
   "source": [
    "df.sort_values(['vessel_mmsi','ais_port_entry_time', 'ais_port_exit_time'], ascending=True).head()"
   ]
  },
  {
   "cell_type": "code",
   "execution_count": null,
   "id": "automatic-detector",
   "metadata": {},
   "outputs": [],
   "source": [
    "df"
   ]
  },
  {
   "cell_type": "code",
   "execution_count": null,
   "id": "distributed-fellowship",
   "metadata": {},
   "outputs": [],
   "source": [
    "df['event_duration'] = df.ais_port_exit_time - df.ais_port_entry_time"
   ]
  },
  {
   "cell_type": "code",
   "execution_count": null,
   "id": "raised-cemetery",
   "metadata": {},
   "outputs": [],
   "source": [
    "df"
   ]
  },
  {
   "cell_type": "code",
   "execution_count": null,
   "id": "mounted-intersection",
   "metadata": {},
   "outputs": [],
   "source": [
    "# d2 = df[df['vessel_mmsi']==211256150].sort_values(['ais_port_entry_time', 'ais_port_exit_time'], ascending=True)"
   ]
  },
  {
   "cell_type": "code",
   "execution_count": null,
   "id": "clean-warning",
   "metadata": {},
   "outputs": [],
   "source": [
    "# len(df.ais_port_entry_time.tolist())"
   ]
  },
  {
   "cell_type": "code",
   "execution_count": null,
   "id": "composed-tours",
   "metadata": {},
   "outputs": [],
   "source": [
    "gdf = read_file('../data/interim/mssis-ais-records_v2.gpkg')\n",
    "wgs84 = gdf.crs\n",
    "\n",
    "gdf['ais_time'] = pd.to_datetime(gdf['ais_time'], format='%Y-%m-%d %H:%M:%S')"
   ]
  },
  {
   "cell_type": "code",
   "execution_count": null,
   "id": "located-packet",
   "metadata": {},
   "outputs": [],
   "source": [
    "gdf"
   ]
  },
  {
   "cell_type": "code",
   "execution_count": null,
   "id": "cordless-cowboy",
   "metadata": {},
   "outputs": [],
   "source": [
    "# df3 = df3[df3['vessel_mmsi']==211256150].sort_values(['ais_time'], ascending=True)"
   ]
  },
  {
   "cell_type": "code",
   "execution_count": null,
   "id": "american-bracket",
   "metadata": {},
   "outputs": [],
   "source": [
    "# df3.head()"
   ]
  },
  {
   "cell_type": "code",
   "execution_count": null,
   "id": "usual-dancing",
   "metadata": {},
   "outputs": [],
   "source": [
    "# df.ais_port_entry_time.tolist()"
   ]
  },
  {
   "cell_type": "code",
   "execution_count": null,
   "id": "considered-venture",
   "metadata": {},
   "outputs": [],
   "source": [
    "gdf[gdf['ais_time'].isin(df.ais_port_entry_time.tolist())]"
   ]
  },
  {
   "cell_type": "code",
   "execution_count": null,
   "id": "contrary-exhaust",
   "metadata": {},
   "outputs": [],
   "source": [
    "gdf[gdf['ais_time'].isin(df.ais_port_exit_time.tolist())]"
   ]
  },
  {
   "cell_type": "code",
   "execution_count": null,
   "id": "protected-socket",
   "metadata": {},
   "outputs": [],
   "source": [
    "join_col = np.intersect1d(gdf.columns, df.columns).tolist()"
   ]
  },
  {
   "cell_type": "code",
   "execution_count": null,
   "id": "formal-statistics",
   "metadata": {},
   "outputs": [],
   "source": [
    "join_col"
   ]
  },
  {
   "cell_type": "code",
   "execution_count": null,
   "id": "african-resort",
   "metadata": {},
   "outputs": [],
   "source": [
    "df_in = pd.merge(left=gdf, right=df, how='inner', left_on=['ais_time', 'mssis_wpi', 'vessel_mmsi'], right_on=['ais_port_entry_time', 'mssis_wpi', 'vessel_mmsi'])"
   ]
  },
  {
   "cell_type": "code",
   "execution_count": null,
   "id": "fresh-buffer",
   "metadata": {},
   "outputs": [],
   "source": [
    "df_in['event'] = 'IN'"
   ]
  },
  {
   "cell_type": "code",
   "execution_count": null,
   "id": "animated-assembly",
   "metadata": {},
   "outputs": [],
   "source": [
    "df_out = pd.merge(left=gdf, right=df, how='inner', left_on=['ais_time', 'mssis_wpi', 'vessel_mmsi'], right_on=['ais_port_exit_time', 'mssis_wpi', 'vessel_mmsi'])"
   ]
  },
  {
   "cell_type": "code",
   "execution_count": null,
   "id": "independent-price",
   "metadata": {},
   "outputs": [],
   "source": [
    "df_out['event'] = 'OUT'"
   ]
  },
  {
   "cell_type": "code",
   "execution_count": null,
   "id": "wrong-satellite",
   "metadata": {},
   "outputs": [],
   "source": [
    "pd.set_option(\"max_rows\", None)"
   ]
  },
  {
   "cell_type": "code",
   "execution_count": null,
   "id": "expired-dealer",
   "metadata": {},
   "outputs": [],
   "source": [
    "result = pd.concat([df_in, df_out])"
   ]
  },
  {
   "cell_type": "code",
   "execution_count": null,
   "id": "duplicate-hardware",
   "metadata": {},
   "outputs": [],
   "source": [
    "# result.sort_values(['ais_time', 'vessel_mmsi'], ascending=True)\n",
    "# result.groupby(['vessel_mmsi'], sort=False)\n",
    "grouped = result. sort_values(['vessel_mmsi'], ascending=True) \\\n",
    "            .groupby(['vessel_mmsi'], sort=False) \\\n",
    "            .apply(lambda x: x.sort_values(['ais_time'], ascending=True)) \\\n",
    "            .reset_index(drop=True)"
   ]
  },
  {
   "cell_type": "code",
   "execution_count": null,
   "id": "settled-darwin",
   "metadata": {},
   "outputs": [],
   "source": [
    "# print(grouped)\n",
    "grouped.head()"
   ]
  },
  {
   "cell_type": "code",
   "execution_count": null,
   "id": "excess-transaction",
   "metadata": {},
   "outputs": [],
   "source": [
    "grouped.info()"
   ]
  },
  {
   "cell_type": "code",
   "execution_count": null,
   "id": "painted-pattern",
   "metadata": {},
   "outputs": [],
   "source": [
    "grouped['event_duration'] = grouped['event_duration'].astype('str')"
   ]
  },
  {
   "cell_type": "code",
   "execution_count": null,
   "id": "spread-january",
   "metadata": {},
   "outputs": [],
   "source": [
    "grouped.to_file(out_path + 'mssis-grouped-ais-port-visit_v1.geojson', driver='GeoJSON')"
   ]
  },
  {
   "cell_type": "code",
   "execution_count": null,
   "id": "korean-monday",
   "metadata": {},
   "outputs": [],
   "source": [
    "grouped.to_file(out_path + 'mssis-grouped-ais-port-visit_v1.gpkg', driver='GPKG')"
   ]
  }
 ],
 "metadata": {
  "language_info": {
   "name": "python",
   "pygments_lexer": "ipython3"
  }
 },
 "nbformat": 4,
 "nbformat_minor": 5
}
