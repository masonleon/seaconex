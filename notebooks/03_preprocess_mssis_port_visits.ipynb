{
 "cells": [
  {
   "cell_type": "markdown",
   "id": "enclosed-infrared",
   "metadata": {},
   "source": [
    "# Pre-Process MSSIS Port Visits"
   ]
  },
  {
   "cell_type": "markdown",
   "id": "finite-peoples",
   "metadata": {},
   "source": [
    "Cleaning of the Bermuda Case Study MSSIS port visit history dataset provided by Volpe. Upon inspection of the MSSIS AIS historical dataset it was apparent there were coverage issues for Bermuda and swaths of the Atlantic. Initially it was believed that the team could recieve commercial AIS data which was assumed to include satelite data. However, this was not possible due to contractual issues."
   ]
  },
  {
   "cell_type": "code",
   "execution_count": null,
   "id": "prime-investigator",
   "metadata": {},
   "outputs": [],
   "source": [
    "visits = '../data/raw/volpe-bermuda-mssis-port-visits.txt'\n",
    "bm_wpi = '../data/raw/volpe-bermuda-mssis-wpi-bm.txt'"
   ]
  },
  {
   "cell_type": "code",
   "execution_count": null,
   "id": "effective-penguin",
   "metadata": {},
   "outputs": [],
   "source": [
    "out_path = '../data/interim/'"
   ]
  },
  {
   "cell_type": "code",
   "execution_count": null,
   "id": "purple-louis",
   "metadata": {},
   "outputs": [],
   "source": [
    "import pandas as pd\n",
    "import requests\n",
    "import geopandas\n",
    "import seaconex\n",
    "import json\n",
    "import seaconex\n",
    "import numpy as np\n",
    "\n",
    "from shapely.geometry import Point\n",
    "from geopandas import GeoDataFrame, read_file"
   ]
  },
  {
   "cell_type": "markdown",
   "id": "secure-vintage",
   "metadata": {},
   "source": [
    "## volpe-bermuda-mssis-wpi-bm.txt"
   ]
  },
  {
   "cell_type": "code",
   "execution_count": null,
   "id": "removable-pakistan",
   "metadata": {},
   "outputs": [],
   "source": [
    "# !head $bm_wpi"
   ]
  },
  {
   "cell_type": "code",
   "execution_count": null,
   "id": "blocked-seminar",
   "metadata": {},
   "outputs": [],
   "source": [
    "# !tail $bm_wpi "
   ]
  },
  {
   "cell_type": "code",
   "execution_count": null,
   "id": "hindu-violence",
   "metadata": {},
   "outputs": [],
   "source": [
    "data = seaconex.piped_txt_to_arr(bm_wpi)"
   ]
  },
  {
   "cell_type": "code",
   "execution_count": null,
   "id": "nutritional-young",
   "metadata": {},
   "outputs": [],
   "source": [
    "data"
   ]
  },
  {
   "cell_type": "code",
   "execution_count": null,
   "id": "documentary-driver",
   "metadata": {},
   "outputs": [],
   "source": [
    "bm_wpi_df = pd.DataFrame(data[1:], columns=data[0])"
   ]
  },
  {
   "cell_type": "code",
   "execution_count": null,
   "id": "fallen-monroe",
   "metadata": {},
   "outputs": [],
   "source": [
    "bm_wpi_df.rename(\n",
    "    columns = {\n",
    "        'World_port_index_number': 'mssis_wpi',\n",
    "        'Region_index': 'mssis_wpi_region_index',\n",
    "        'Main_port_name': 'mssis_wpi_main_port_name',\n",
    "        'Wpi_country_code': 'mssis_wpi_country'\n",
    "    }, inplace=True\n",
    ")"
   ]
  },
  {
   "cell_type": "code",
   "execution_count": null,
   "id": "extra-fountain",
   "metadata": {},
   "outputs": [],
   "source": [
    "bm_wpi_df.to_json(out_path + 'mssis-wpi-bm-ports_v1.json', orient='records')"
   ]
  },
  {
   "cell_type": "code",
   "execution_count": null,
   "id": "unique-france",
   "metadata": {},
   "outputs": [],
   "source": [
    "# df.info()"
   ]
  },
  {
   "cell_type": "markdown",
   "id": "personalized-upgrade",
   "metadata": {},
   "source": [
    "## volpe-bermuda-mssis-port-visits.txt"
   ]
  },
  {
   "cell_type": "code",
   "execution_count": null,
   "id": "awful-symposium",
   "metadata": {},
   "outputs": [],
   "source": [
    "# !head $visits"
   ]
  },
  {
   "cell_type": "code",
   "execution_count": null,
   "id": "sticky-liver",
   "metadata": {},
   "outputs": [],
   "source": [
    "# !tail $visits"
   ]
  },
  {
   "cell_type": "code",
   "execution_count": null,
   "id": "removed-microwave",
   "metadata": {},
   "outputs": [],
   "source": [
    "data = seaconex.piped_txt_to_arr(visits)"
   ]
  },
  {
   "cell_type": "code",
   "execution_count": null,
   "id": "pleasant-drawing",
   "metadata": {},
   "outputs": [],
   "source": [
    "# data[:3]"
   ]
  },
  {
   "cell_type": "code",
   "execution_count": null,
   "id": "moved-field",
   "metadata": {},
   "outputs": [],
   "source": [
    "df = pd.DataFrame(data[1:], columns=data[0])"
   ]
  },
  {
   "cell_type": "code",
   "execution_count": null,
   "id": "satisfied-indicator",
   "metadata": {},
   "outputs": [],
   "source": [
    "# df.head()"
   ]
  },
  {
   "cell_type": "code",
   "execution_count": null,
   "id": "polished-liabilities",
   "metadata": {},
   "outputs": [],
   "source": [
    "# df.info()"
   ]
  },
  {
   "cell_type": "code",
   "execution_count": null,
   "id": "brief-marketing",
   "metadata": {},
   "outputs": [],
   "source": [
    "df['ExitTime'] = pd.to_datetime(df['ExitTime'], unit ='s')\n",
    "df['EntryTime'] = pd.to_datetime(df['EntryTime'], unit ='s')"
   ]
  },
  {
   "cell_type": "code",
   "execution_count": null,
   "id": "direct-wealth",
   "metadata": {},
   "outputs": [],
   "source": [
    "df.drop(columns=['from_unixtime(EntryTime)', 'from_unixtime(ExitTime)'], inplace=True)"
   ]
  },
  {
   "cell_type": "code",
   "execution_count": null,
   "id": "integrated-sandwich",
   "metadata": {},
   "outputs": [],
   "source": [
    "df[['MMSI', 'PortIndex']] = df[['MMSI', 'PortIndex']].astype('uint32')"
   ]
  },
  {
   "cell_type": "code",
   "execution_count": null,
   "id": "naughty-trailer",
   "metadata": {},
   "outputs": [],
   "source": [
    "# df.info()"
   ]
  },
  {
   "cell_type": "code",
   "execution_count": null,
   "id": "revised-galaxy",
   "metadata": {},
   "outputs": [],
   "source": [
    "df.rename(\n",
    "    columns = {\n",
    "        'MMSI': 'vessel_mmsi', \n",
    "        'EntryTime': 'ais_port_entry_time', \n",
    "        'ExitTime': 'ais_port_exit_time', \n",
    "        'PortIndex': 'mssis_wpi', \n",
    "        'main_port_name': 'mssis_wpi_main_port_name', \n",
    "        'wpi_country_code': 'mssis_wpi_country'\n",
    "    }, inplace=True\n",
    ")"
   ]
  },
  {
   "cell_type": "code",
   "execution_count": null,
   "id": "pregnant-extent",
   "metadata": {},
   "outputs": [],
   "source": [
    "# df.info()"
   ]
  },
  {
   "cell_type": "code",
   "execution_count": null,
   "id": "arranged-requirement",
   "metadata": {},
   "outputs": [],
   "source": [
    "df.head()"
   ]
  },
  {
   "cell_type": "code",
   "execution_count": null,
   "id": "optional-bachelor",
   "metadata": {},
   "outputs": [],
   "source": [
    "df.vessel_mmsi.unique()"
   ]
  },
  {
   "cell_type": "code",
   "execution_count": null,
   "id": "secondary-collective",
   "metadata": {},
   "outputs": [],
   "source": [
    "df.ais_port_entry_time.unique().size"
   ]
  },
  {
   "cell_type": "code",
   "execution_count": null,
   "id": "historical-wright",
   "metadata": {},
   "outputs": [],
   "source": [
    "df.ais_port_exit_time.unique().size"
   ]
  },
  {
   "cell_type": "code",
   "execution_count": null,
   "id": "olympic-cyprus",
   "metadata": {},
   "outputs": [],
   "source": [
    "df.mssis_wpi.unique().size"
   ]
  },
  {
   "cell_type": "code",
   "execution_count": null,
   "id": "narrative-official",
   "metadata": {},
   "outputs": [],
   "source": [
    "df.mssis_wpi_main_port_name.unique()"
   ]
  },
  {
   "cell_type": "code",
   "execution_count": null,
   "id": "extended-lithuania",
   "metadata": {},
   "outputs": [],
   "source": [
    "df.mssis_wpi_main_port_name.unique().size"
   ]
  },
  {
   "cell_type": "code",
   "execution_count": null,
   "id": "hawaiian-fountain",
   "metadata": {},
   "outputs": [],
   "source": [
    "df.mssis_wpi_country.unique()"
   ]
  },
  {
   "cell_type": "code",
   "execution_count": null,
   "id": "designing-chick",
   "metadata": {},
   "outputs": [],
   "source": [
    "df.mssis_wpi_country.unique().size"
   ]
  },
  {
   "cell_type": "code",
   "execution_count": null,
   "id": "informative-scottish",
   "metadata": {},
   "outputs": [],
   "source": [
    "df.columns.str.contains('wpi')"
   ]
  },
  {
   "cell_type": "code",
   "execution_count": null,
   "id": "committed-delight",
   "metadata": {},
   "outputs": [],
   "source": [
    "df.filter(like='wpi').columns"
   ]
  },
  {
   "cell_type": "code",
   "execution_count": null,
   "id": "upset-newcastle",
   "metadata": {},
   "outputs": [],
   "source": [
    "df.filter(like='wpi').drop_duplicates().reset_index(drop=True)"
   ]
  },
  {
   "cell_type": "code",
   "execution_count": null,
   "id": "japanese-disabled",
   "metadata": {},
   "outputs": [],
   "source": [
    "# df.groupby(['mssis_wpi','mssis_wpi_main_port_name', 'mssis_wpi_country']).size().reset_index().rename(columns={0:'ais_count'})"
   ]
  },
  {
   "cell_type": "code",
   "execution_count": null,
   "id": "tamil-collaboration",
   "metadata": {},
   "outputs": [],
   "source": [
    "ports = df.filter(like='wpi').drop_duplicates().reset_index(drop=True).to_json(orient='records')"
   ]
  },
  {
   "cell_type": "code",
   "execution_count": null,
   "id": "sexual-murray",
   "metadata": {},
   "outputs": [],
   "source": [
    "ports = df.filter(like='wpi').drop_duplicates().reset_index(drop=True).to_json(out_path + 'mssis-port-visit-ports_v1.json')"
   ]
  },
  {
   "cell_type": "code",
   "execution_count": null,
   "id": "noticed-contractor",
   "metadata": {},
   "outputs": [],
   "source": [
    "# with open(out_path + 'mssis-port-visit-ports_v1.json', 'w') as json_file:\n",
    "#     json.dump(ports, json_file)"
   ]
  },
  {
   "cell_type": "code",
   "execution_count": null,
   "id": "statutory-davis",
   "metadata": {},
   "outputs": [],
   "source": [
    "# df.groupby(['vessel_mmsi', 'mssis_wpi','mssis_wpi_main_port_name', 'mssis_wpi_country']).count()"
   ]
  },
  {
   "cell_type": "code",
   "execution_count": null,
   "id": "precious-motion",
   "metadata": {},
   "outputs": [],
   "source": [
    "# df.sort_values(['vessel_mmsi'],ascending=False).groupby(['mssis_wpi','mssis_wpi_main_port_name', 'mssis_wpi_country']).head(3)"
   ]
  },
  {
   "cell_type": "code",
   "execution_count": null,
   "id": "solid-doctor",
   "metadata": {},
   "outputs": [],
   "source": [
    "df.sort_values(['vessel_mmsi','ais_port_entry_time', 'ais_port_exit_time'], ascending=True).head()"
   ]
  },
  {
   "cell_type": "code",
   "execution_count": null,
   "id": "convenient-uniform",
   "metadata": {},
   "outputs": [],
   "source": [
    "df"
   ]
  },
  {
   "cell_type": "code",
   "execution_count": null,
   "id": "iraqi-realtor",
   "metadata": {},
   "outputs": [],
   "source": [
    "df['event_duration'] = df.ais_port_exit_time - df.ais_port_entry_time"
   ]
  },
  {
   "cell_type": "code",
   "execution_count": null,
   "id": "touched-reasoning",
   "metadata": {},
   "outputs": [],
   "source": [
    "df"
   ]
  },
  {
   "cell_type": "code",
   "execution_count": null,
   "id": "physical-jackson",
   "metadata": {},
   "outputs": [],
   "source": [
    "# d2 = df[df['vessel_mmsi']==211256150].sort_values(['ais_port_entry_time', 'ais_port_exit_time'], ascending=True)"
   ]
  },
  {
   "cell_type": "code",
   "execution_count": null,
   "id": "received-institution",
   "metadata": {},
   "outputs": [],
   "source": [
    "# len(df.ais_port_entry_time.tolist())"
   ]
  },
  {
   "cell_type": "code",
   "execution_count": null,
   "id": "invalid-vehicle",
   "metadata": {},
   "outputs": [],
   "source": [
    "gdf = read_file('../data/interim/mssis-ais-records_v2.gpkg')\n",
    "wgs84 = gdf.crs\n",
    "\n",
    "gdf['ais_time'] = pd.to_datetime(gdf['ais_time'], format='%Y-%m-%d %H:%M:%S')"
   ]
  },
  {
   "cell_type": "code",
   "execution_count": null,
   "id": "czech-compact",
   "metadata": {},
   "outputs": [],
   "source": [
    "gdf"
   ]
  },
  {
   "cell_type": "code",
   "execution_count": null,
   "id": "occupied-journey",
   "metadata": {},
   "outputs": [],
   "source": [
    "# df3 = df3[df3['vessel_mmsi']==211256150].sort_values(['ais_time'], ascending=True)"
   ]
  },
  {
   "cell_type": "code",
   "execution_count": null,
   "id": "simplified-equilibrium",
   "metadata": {},
   "outputs": [],
   "source": [
    "# df3.head()"
   ]
  },
  {
   "cell_type": "code",
   "execution_count": null,
   "id": "resistant-price",
   "metadata": {},
   "outputs": [],
   "source": [
    "# df.ais_port_entry_time.tolist()"
   ]
  },
  {
   "cell_type": "code",
   "execution_count": null,
   "id": "quiet-interference",
   "metadata": {},
   "outputs": [],
   "source": [
    "gdf[gdf['ais_time'].isin(df.ais_port_entry_time.tolist())]"
   ]
  },
  {
   "cell_type": "code",
   "execution_count": null,
   "id": "developed-fever",
   "metadata": {},
   "outputs": [],
   "source": [
    "gdf[gdf['ais_time'].isin(df.ais_port_exit_time.tolist())]"
   ]
  },
  {
   "cell_type": "code",
   "execution_count": null,
   "id": "nonprofit-lending",
   "metadata": {},
   "outputs": [],
   "source": [
    "join_col = np.intersect1d(gdf.columns, df.columns).tolist()"
   ]
  },
  {
   "cell_type": "code",
   "execution_count": null,
   "id": "stable-cooling",
   "metadata": {},
   "outputs": [],
   "source": [
    "join_col"
   ]
  },
  {
   "cell_type": "code",
   "execution_count": null,
   "id": "instructional-framework",
   "metadata": {},
   "outputs": [],
   "source": [
    "df_in = pd.merge(left=gdf, right=df, how='inner', left_on=['ais_time', 'mssis_wpi', 'vessel_mmsi'], right_on=['ais_port_entry_time', 'mssis_wpi', 'vessel_mmsi'])"
   ]
  },
  {
   "cell_type": "code",
   "execution_count": null,
   "id": "higher-tsunami",
   "metadata": {},
   "outputs": [],
   "source": [
    "df_in['event'] = 'IN'"
   ]
  },
  {
   "cell_type": "code",
   "execution_count": null,
   "id": "optimum-squad",
   "metadata": {},
   "outputs": [],
   "source": [
    "df_out = pd.merge(left=gdf, right=df, how='inner', left_on=['ais_time', 'mssis_wpi', 'vessel_mmsi'], right_on=['ais_port_exit_time', 'mssis_wpi', 'vessel_mmsi'])"
   ]
  },
  {
   "cell_type": "code",
   "execution_count": null,
   "id": "fundamental-phenomenon",
   "metadata": {},
   "outputs": [],
   "source": [
    "df_out['event'] = 'OUT'"
   ]
  },
  {
   "cell_type": "code",
   "execution_count": null,
   "id": "genuine-transport",
   "metadata": {},
   "outputs": [],
   "source": [
    "pd.set_option(\"max_rows\", None)"
   ]
  },
  {
   "cell_type": "code",
   "execution_count": null,
   "id": "internal-conviction",
   "metadata": {},
   "outputs": [],
   "source": [
    "result = pd.concat([df_in, df_out])"
   ]
  },
  {
   "cell_type": "code",
   "execution_count": null,
   "id": "first-harassment",
   "metadata": {},
   "outputs": [],
   "source": [
    "# result.sort_values(['ais_time', 'vessel_mmsi'], ascending=True)\n",
    "# result.groupby(['vessel_mmsi'], sort=False)\n",
    "grouped = result. sort_values(['vessel_mmsi'], ascending=True) \\\n",
    "            .groupby(['vessel_mmsi'], sort=False) \\\n",
    "            .apply(lambda x: x.sort_values(['ais_time'], ascending=True)) \\\n",
    "            .reset_index(drop=True)"
   ]
  },
  {
   "cell_type": "code",
   "execution_count": null,
   "id": "acknowledged-service",
   "metadata": {},
   "outputs": [],
   "source": [
    "# print(grouped)\n",
    "grouped.head()"
   ]
  },
  {
   "cell_type": "code",
   "execution_count": null,
   "id": "furnished-rehabilitation",
   "metadata": {},
   "outputs": [],
   "source": [
    "grouped.info()"
   ]
  },
  {
   "cell_type": "code",
   "execution_count": null,
   "id": "nasty-isaac",
   "metadata": {},
   "outputs": [],
   "source": [
    "grouped['event_duration'] = grouped['event_duration'].astype('str')"
   ]
  },
  {
   "cell_type": "code",
   "execution_count": null,
   "id": "complicated-country",
   "metadata": {},
   "outputs": [],
   "source": [
    "grouped.to_file(out_path + 'mssis-grouped-ais-port-visit_v1.geojson', driver='GeoJSON')"
   ]
  },
  {
   "cell_type": "code",
   "execution_count": null,
   "id": "tired-guest",
   "metadata": {},
   "outputs": [],
   "source": [
    "grouped.to_file(out_path + 'mssis-grouped-ais-port-visit_v1.gpkg', driver='GPKG')"
   ]
  }
 ],
 "metadata": {
  "language_info": {
   "name": "python",
   "pygments_lexer": "ipython3"
  }
 },
 "nbformat": 4,
 "nbformat_minor": 5
}
