{
 "cells": [
  {
   "cell_type": "markdown",
   "id": "floppy-honor",
   "metadata": {},
   "source": [
    "# Retrieve NGA WPI "
   ]
  },
  {
   "cell_type": "markdown",
   "id": "selective-wyoming",
   "metadata": {},
   "source": [
    "import pandas as pd\n",
    "import requests\n",
    "import geopandas\n",
    "import seaconex\n",
    "import json\n",
    "\n",
    "from shapely.geometry import Point\n",
    "from geopandas import GeoDataFrame, read_file\n",
    "Retrieve MSSIS ports from [Pub. 150, The World Port Index, National Geospatial-Intelligence Agency (NGA), Maritime Safety Office](https://msi.nga.mil/Publications/WPI) \n",
    "\n",
    "- [NGA Maritime Safety Information REST API Documentation](https://msi.nga.mil/api/swagger-ui.html)\n",
    "\n"
   ]
  },
  {
   "cell_type": "code",
   "execution_count": null,
   "id": "closing-dictionary",
   "metadata": {},
   "outputs": [],
   "source": [
    "import pandas as pd\n",
    "import requests\n",
    "import geopandas\n",
    "import seaconex\n",
    "import json\n",
    "import numpy as np\n",
    "\n",
    "from shapely.geometry import Point\n",
    "from geopandas import GeoDataFrame, read_file"
   ]
  },
  {
   "cell_type": "code",
   "execution_count": null,
   "id": "raised-emphasis",
   "metadata": {},
   "outputs": [],
   "source": [
    "mssis_ais_region = '../data/interim/mssis-ais-region_v2.json'\n",
    "mssis_port_visit_ports = '../data/interim/mssis-port-visit-ports_v1.json'\n",
    "mssis_wpi_bm_ports = '../data/interim/mssis-wpi-bm-ports_v1.json'"
   ]
  },
  {
   "cell_type": "code",
   "execution_count": null,
   "id": "minimal-waste",
   "metadata": {},
   "outputs": [],
   "source": [
    "df_ais = pd.read_json(mssis_ais_region)"
   ]
  },
  {
   "cell_type": "code",
   "execution_count": null,
   "id": "dedicated-desktop",
   "metadata": {},
   "outputs": [],
   "source": [
    "df_port = pd.read_json(mssis_port_visit_ports)"
   ]
  },
  {
   "cell_type": "code",
   "execution_count": null,
   "id": "happy-ancient",
   "metadata": {},
   "outputs": [],
   "source": [
    "df_bm = pd.read_json(mssis_wpi_bm_ports)"
   ]
  },
  {
   "cell_type": "code",
   "execution_count": null,
   "id": "herbal-wells",
   "metadata": {},
   "outputs": [],
   "source": [
    "df_ais.head()"
   ]
  },
  {
   "cell_type": "code",
   "execution_count": null,
   "id": "mechanical-league",
   "metadata": {},
   "outputs": [],
   "source": [
    "df_port.head()"
   ]
  },
  {
   "cell_type": "code",
   "execution_count": null,
   "id": "sitting-garbage",
   "metadata": {},
   "outputs": [],
   "source": [
    "df_bm.head()"
   ]
  },
  {
   "cell_type": "code",
   "execution_count": null,
   "id": "pending-singapore",
   "metadata": {},
   "outputs": [],
   "source": [
    "df_bm = df_bm.filter(like='wpi').drop(columns=['mssis_wpi_region_index'])"
   ]
  },
  {
   "cell_type": "code",
   "execution_count": null,
   "id": "employed-hamilton",
   "metadata": {},
   "outputs": [],
   "source": [
    "# result = pd.concat([df_ais, df_port, df_bm], ignore_index=True, sort=True)"
   ]
  },
  {
   "cell_type": "code",
   "execution_count": null,
   "id": "finnish-seating",
   "metadata": {},
   "outputs": [],
   "source": [
    "# result.head()"
   ]
  },
  {
   "cell_type": "code",
   "execution_count": null,
   "id": "configured-academy",
   "metadata": {},
   "outputs": [],
   "source": [
    "# result.filter(like='mssis').head()"
   ]
  },
  {
   "cell_type": "code",
   "execution_count": null,
   "id": "catholic-address",
   "metadata": {},
   "outputs": [],
   "source": [
    "# df_port.append(df_bm, ignore_index=True)"
   ]
  },
  {
   "cell_type": "code",
   "execution_count": null,
   "id": "unavailable-papua",
   "metadata": {},
   "outputs": [],
   "source": [
    "# merged_inner = pd.merge(left=df_port, right=df_bm, left_on='mssis_wpi', right_on='mssis_wpi')"
   ]
  },
  {
   "cell_type": "code",
   "execution_count": null,
   "id": "ordered-interference",
   "metadata": {},
   "outputs": [],
   "source": [
    "# merged_inner"
   ]
  },
  {
   "cell_type": "code",
   "execution_count": null,
   "id": "adapted-asthma",
   "metadata": {},
   "outputs": [],
   "source": [
    "# join_col = df_port.columns & df_bm.columns"
   ]
  },
  {
   "cell_type": "code",
   "execution_count": null,
   "id": "ceramic-elements",
   "metadata": {},
   "outputs": [],
   "source": [
    "join_col = np.intersect1d(df_port.columns, df_bm.columns).tolist()"
   ]
  },
  {
   "cell_type": "code",
   "execution_count": null,
   "id": "respective-credits",
   "metadata": {},
   "outputs": [],
   "source": [
    "join_col"
   ]
  },
  {
   "cell_type": "code",
   "execution_count": null,
   "id": "numerous-august",
   "metadata": {},
   "outputs": [],
   "source": [
    "df = pd.merge(left=df_port, right=df_bm, how='outer', left_on=join_col, right_on=join_col)"
   ]
  },
  {
   "cell_type": "code",
   "execution_count": null,
   "id": "persistent-charity",
   "metadata": {},
   "outputs": [],
   "source": [
    "join_col = np.intersect1d(df.columns, df_ais.columns).tolist()"
   ]
  },
  {
   "cell_type": "code",
   "execution_count": null,
   "id": "front-shape",
   "metadata": {},
   "outputs": [],
   "source": [
    "join_col"
   ]
  },
  {
   "cell_type": "code",
   "execution_count": null,
   "id": "removed-boating",
   "metadata": {},
   "outputs": [],
   "source": [
    "result = pd.merge(left=df, right=df_ais, how='outer', left_on=join_col, right_on=join_col)"
   ]
  },
  {
   "cell_type": "code",
   "execution_count": null,
   "id": "statistical-moses",
   "metadata": {},
   "outputs": [],
   "source": [
    "# result"
   ]
  },
  {
   "cell_type": "code",
   "execution_count": null,
   "id": "outdoor-company",
   "metadata": {},
   "outputs": [],
   "source": [
    "result.info()"
   ]
  },
  {
   "cell_type": "code",
   "execution_count": null,
   "id": "applied-wholesale",
   "metadata": {},
   "outputs": [],
   "source": [
    "result.head()"
   ]
  },
  {
   "cell_type": "code",
   "execution_count": null,
   "id": "enhanced-cincinnati",
   "metadata": {},
   "outputs": [],
   "source": [
    "result[['ais_count']] = result[['ais_count']].fillna(0).astype('int')"
   ]
  },
  {
   "cell_type": "code",
   "execution_count": null,
   "id": "measured-soviet",
   "metadata": {},
   "outputs": [],
   "source": [
    "result"
   ]
  },
  {
   "cell_type": "code",
   "execution_count": null,
   "id": "opposite-lunch",
   "metadata": {},
   "outputs": [],
   "source": [
    "# result[['mssis_wpi_region_index', 'mssis_ao', 'ais_count']] = result[['mssis_wpi_region_index', 'mssis_ao', 'ais_count']].fillna(0).astype('int')"
   ]
  },
  {
   "cell_type": "code",
   "execution_count": null,
   "id": "discrete-tower",
   "metadata": {},
   "outputs": [],
   "source": [
    "# result"
   ]
  },
  {
   "cell_type": "code",
   "execution_count": null,
   "id": "suffering-transformation",
   "metadata": {},
   "outputs": [],
   "source": [
    "result.sort_values('mssis_wpi').sort_values('ais_count')"
   ]
  },
  {
   "cell_type": "code",
   "execution_count": null,
   "id": "characteristic-husband",
   "metadata": {},
   "outputs": [],
   "source": [
    "wpi_list = result[result['mssis_wpi'] > 0].sort_values('mssis_wpi').mssis_wpi.unique().tolist()"
   ]
  },
  {
   "cell_type": "code",
   "execution_count": null,
   "id": "structured-laundry",
   "metadata": {},
   "outputs": [],
   "source": [
    "wpi_list"
   ]
  },
  {
   "cell_type": "code",
   "execution_count": null,
   "id": "hispanic-journalist",
   "metadata": {},
   "outputs": [],
   "source": [
    "nga_wpi = seaconex.nga_msi_wpi_api_get_world_port_index(wpi_list)"
   ]
  },
  {
   "cell_type": "code",
   "execution_count": null,
   "id": "sharp-scope",
   "metadata": {},
   "outputs": [],
   "source": [
    "nga = pd.DataFrame(nga_wpi['ports'])"
   ]
  },
  {
   "cell_type": "code",
   "execution_count": null,
   "id": "compliant-syntax",
   "metadata": {},
   "outputs": [],
   "source": [
    "nga.to_json('../data/raw/' + 'nga-bermuda-wpi_v1.json')"
   ]
  },
  {
   "cell_type": "code",
   "execution_count": null,
   "id": "executive-moment",
   "metadata": {},
   "outputs": [],
   "source": [
    "nga.to_json('../data/raw/' + 'nga-bermuda-wpi_records_v1.json', orient='records')"
   ]
  },
  {
   "cell_type": "code",
   "execution_count": null,
   "id": "local-contrast",
   "metadata": {},
   "outputs": [],
   "source": [
    "nga.to_json('../data/raw/' + 'nga-bermuda-wpi_split_v1.json', orient='split')"
   ]
  },
  {
   "cell_type": "code",
   "execution_count": null,
   "id": "charitable-serum",
   "metadata": {},
   "outputs": [],
   "source": [
    "nga.to_json('../data/raw/' + 'nga-bermuda-wpi_table_v1.json', orient='table')"
   ]
  },
  {
   "cell_type": "code",
   "execution_count": null,
   "id": "insured-split",
   "metadata": {},
   "outputs": [],
   "source": [
    "# nga_wpi_prc = seaconex.nga_msi_wpi_api_get_prc_names()"
   ]
  },
  {
   "cell_type": "code",
   "execution_count": null,
   "id": "inappropriate-slide",
   "metadata": {},
   "outputs": [],
   "source": [
    "# nga_wpi_prc"
   ]
  },
  {
   "cell_type": "code",
   "execution_count": null,
   "id": "brave-wyoming",
   "metadata": {},
   "outputs": [],
   "source": [
    "nga.head()"
   ]
  },
  {
   "cell_type": "code",
   "execution_count": null,
   "id": "committed-literacy",
   "metadata": {},
   "outputs": [],
   "source": [
    "geometry = geopandas.points_from_xy(nga.xcoord, nga.ycoord)"
   ]
  },
  {
   "cell_type": "code",
   "execution_count": null,
   "id": "quarterly-company",
   "metadata": {},
   "outputs": [],
   "source": [
    "nga.drop(columns=['ycoord', 'xcoord', 'latitude', 'longitude'], inplace=True)"
   ]
  },
  {
   "cell_type": "code",
   "execution_count": null,
   "id": "functional-wisdom",
   "metadata": {},
   "outputs": [],
   "source": [
    "null_columns=nga.columns[nga.isnull().all()]"
   ]
  },
  {
   "cell_type": "code",
   "execution_count": null,
   "id": "alleged-tennessee",
   "metadata": {},
   "outputs": [],
   "source": [
    "null_columns"
   ]
  },
  {
   "cell_type": "code",
   "execution_count": null,
   "id": "announced-pipeline",
   "metadata": {},
   "outputs": [],
   "source": [
    "null_columns.tolist()"
   ]
  },
  {
   "cell_type": "code",
   "execution_count": null,
   "id": "genetic-cartoon",
   "metadata": {},
   "outputs": [],
   "source": [
    "nga.drop(columns=null_columns, inplace=True)"
   ]
  },
  {
   "cell_type": "code",
   "execution_count": null,
   "id": "secure-killer",
   "metadata": {},
   "outputs": [],
   "source": [
    "print(nga.columns.tolist())"
   ]
  },
  {
   "cell_type": "code",
   "execution_count": null,
   "id": "exceptional-tonight",
   "metadata": {},
   "outputs": [],
   "source": [
    "nga.columns.tolist()"
   ]
  },
  {
   "cell_type": "code",
   "execution_count": null,
   "id": "peripheral-cardiff",
   "metadata": {},
   "outputs": [],
   "source": [
    "pd.set_option(\"max_columns\", None)\n",
    "pd.set_option(\"max_rows\", None)"
   ]
  },
  {
   "cell_type": "code",
   "execution_count": null,
   "id": "cosmetic-temperature",
   "metadata": {},
   "outputs": [],
   "source": [
    "drop_col = ['shelter', 'erTide', 'erSwell', 'erIce', 'erOther', 'overheadLimits', 'chDepth','anDepth','cpDepth','otDepth','tide', 'goodHoldingGround', 'turningArea', 'firstPortOfEntry', 'usRep', 'ptCompulsory', 'ptAdvisable', 'tugsSalvage', 'tugsAssist', 'qtPratique', 'qtOther', 'cmTelephone', 'cmTelegraph', 'cmRadio', 'cmRadioTel', 'cmAir', 'cmRail', 'loWharves', 'loAnchor', 'loMedMoor', 'loBeachMoor', 'loIceMoor', 'medFacilities', 'garbageDisposal', 'degauss', 'dirtyBallast', 'crFixed', 'crMobile', 'crFloating', 'lifts100', 'lifts50', 'lifts25', 'lifts0', 'srLongshore', 'srElectrical', 'srSteam', 'srNavigEquip', 'srElectRepair', 'suProvisions', 'suWater', 'suFuel', 'suDiesel', 'suDeck', 'repairCode', 'drydock', 'railway', 'qtSanitation', 'suAviationFuel', 'harborUse', 'ukcMgmtSystem', 'portSecurity', 'etaMessage', 'searchAndRescue', 'tss', 'vts', 'cht', 'loRoro', 'loSolidBulk', 'loContainer', 'loBreakBulk', 'loOilTerm', 'loLongTerm', 'loOther', 'loDangCargo', 'loLiquidBulk', 'srIceBreaking', 'srDiving', 'cranesContainer', 's121WaterBody', 's101Enc', 'dodWaterBody']"
   ]
  },
  {
   "cell_type": "code",
   "execution_count": null,
   "id": "centered-asbestos",
   "metadata": {},
   "outputs": [],
   "source": [
    "nga.drop(columns=drop_col, inplace=True)"
   ]
  },
  {
   "cell_type": "code",
   "execution_count": null,
   "id": "dirty-bermuda",
   "metadata": {},
   "outputs": [],
   "source": [
    "nga"
   ]
  },
  {
   "cell_type": "code",
   "execution_count": null,
   "id": "useful-mandate",
   "metadata": {},
   "outputs": [],
   "source": [
    "gdf = geopandas.GeoDataFrame(nga, geometry=geometry, crs=\"EPSG:4326\")"
   ]
  },
  {
   "cell_type": "code",
   "execution_count": null,
   "id": "dental-funds",
   "metadata": {},
   "outputs": [],
   "source": [
    "gdf.head()"
   ]
  },
  {
   "cell_type": "code",
   "execution_count": null,
   "id": "orange-safety",
   "metadata": {},
   "outputs": [],
   "source": [
    "gdf.crs"
   ]
  },
  {
   "cell_type": "code",
   "execution_count": null,
   "id": "preceding-pantyhose",
   "metadata": {},
   "outputs": [],
   "source": [
    "gdf.to_file('../data/interim/' + 'nga-wpi_v1.json', driver='GeoJSON')"
   ]
  },
  {
   "cell_type": "code",
   "execution_count": null,
   "id": "genuine-means",
   "metadata": {},
   "outputs": [],
   "source": [
    "gdf.to_file('../data/interim/' + 'nga-wpi_v1.gpkg', driver='GPKG')"
   ]
  },
  {
   "cell_type": "code",
   "execution_count": null,
   "id": "velvet-reading",
   "metadata": {},
   "outputs": [],
   "source": [
    "# are these ports missing??\n",
    "salem = '8025'\n",
    "cork = '34360'\n",
    "london = '31470'"
   ]
  }
 ],
 "metadata": {
  "language_info": {
   "name": "python",
   "pygments_lexer": "ipython3"
  }
 },
 "nbformat": 4,
 "nbformat_minor": 5
}
