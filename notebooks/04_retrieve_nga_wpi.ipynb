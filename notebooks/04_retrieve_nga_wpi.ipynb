{
 "cells": [
  {
   "cell_type": "markdown",
   "id": "arabic-algeria",
   "metadata": {},
   "source": [
    "# Retrieve NGA WPI "
   ]
  },
  {
   "cell_type": "markdown",
   "id": "similar-alcohol",
   "metadata": {},
   "source": [
    "import pandas as pd\n",
    "import requests\n",
    "import geopandas\n",
    "import seaconex\n",
    "import json\n",
    "\n",
    "from shapely.geometry import Point\n",
    "from geopandas import GeoDataFrame, read_file\n",
    "Retrieve MSSIS ports from [Pub. 150, The World Port Index, National Geospatial-Intelligence Agency (NGA), Maritime Safety Office](https://msi.nga.mil/Publications/WPI) \n",
    "\n",
    "- [NGA Maritime Safety Information REST API Documentation](https://msi.nga.mil/api/swagger-ui.html)\n",
    "\n"
   ]
  },
  {
   "cell_type": "code",
   "execution_count": null,
   "id": "beginning-hollow",
   "metadata": {},
   "outputs": [],
   "source": [
    "import pandas as pd\n",
    "import requests\n",
    "import geopandas\n",
    "import seaconex\n",
    "import json\n",
    "import numpy as np\n",
    "\n",
    "from shapely.geometry import Point\n",
    "from geopandas import GeoDataFrame, read_file"
   ]
  },
  {
   "cell_type": "code",
   "execution_count": null,
   "id": "ruled-relationship",
   "metadata": {},
   "outputs": [],
   "source": [
    "mssis_ais_region = '../data/interim/mssis-ais-region_v2.json'\n",
    "mssis_port_visit_ports = '../data/interim/mssis-port-visit-ports_v1.json'\n",
    "mssis_wpi_bm_ports = '../data/interim/mssis-wpi-bm-ports_v1.json'"
   ]
  },
  {
   "cell_type": "code",
   "execution_count": null,
   "id": "stuffed-bermuda",
   "metadata": {},
   "outputs": [],
   "source": [
    "df_ais = pd.read_json(mssis_ais_region)"
   ]
  },
  {
   "cell_type": "code",
   "execution_count": null,
   "id": "senior-olive",
   "metadata": {},
   "outputs": [],
   "source": [
    "df_port = pd.read_json(mssis_port_visit_ports)"
   ]
  },
  {
   "cell_type": "code",
   "execution_count": null,
   "id": "african-framework",
   "metadata": {},
   "outputs": [],
   "source": [
    "df_bm = pd.read_json(mssis_wpi_bm_ports)"
   ]
  },
  {
   "cell_type": "code",
   "execution_count": null,
   "id": "inclusive-school",
   "metadata": {},
   "outputs": [],
   "source": [
    "df_ais.head()"
   ]
  },
  {
   "cell_type": "code",
   "execution_count": null,
   "id": "viral-aaron",
   "metadata": {},
   "outputs": [],
   "source": [
    "df_port.head()"
   ]
  },
  {
   "cell_type": "code",
   "execution_count": null,
   "id": "confidential-money",
   "metadata": {},
   "outputs": [],
   "source": [
    "df_bm.head()"
   ]
  },
  {
   "cell_type": "code",
   "execution_count": null,
   "id": "compound-queen",
   "metadata": {},
   "outputs": [],
   "source": [
    "df_bm = df_bm.filter(like='wpi').drop(columns=['mssis_wpi_region_index'])"
   ]
  },
  {
   "cell_type": "code",
   "execution_count": null,
   "id": "athletic-gregory",
   "metadata": {},
   "outputs": [],
   "source": [
    "# result = pd.concat([df_ais, df_port, df_bm], ignore_index=True, sort=True)"
   ]
  },
  {
   "cell_type": "code",
   "execution_count": null,
   "id": "clinical-snake",
   "metadata": {},
   "outputs": [],
   "source": [
    "# result.head()"
   ]
  },
  {
   "cell_type": "code",
   "execution_count": null,
   "id": "surprising-teach",
   "metadata": {},
   "outputs": [],
   "source": [
    "# result.filter(like='mssis').head()"
   ]
  },
  {
   "cell_type": "code",
   "execution_count": null,
   "id": "handled-universal",
   "metadata": {},
   "outputs": [],
   "source": [
    "# df_port.append(df_bm, ignore_index=True)"
   ]
  },
  {
   "cell_type": "code",
   "execution_count": null,
   "id": "rotary-harbor",
   "metadata": {},
   "outputs": [],
   "source": [
    "# merged_inner = pd.merge(left=df_port, right=df_bm, left_on='mssis_wpi', right_on='mssis_wpi')"
   ]
  },
  {
   "cell_type": "code",
   "execution_count": null,
   "id": "understanding-republican",
   "metadata": {},
   "outputs": [],
   "source": [
    "# merged_inner"
   ]
  },
  {
   "cell_type": "code",
   "execution_count": null,
   "id": "changed-saturday",
   "metadata": {},
   "outputs": [],
   "source": [
    "# join_col = df_port.columns & df_bm.columns"
   ]
  },
  {
   "cell_type": "code",
   "execution_count": null,
   "id": "commercial-yacht",
   "metadata": {},
   "outputs": [],
   "source": [
    "join_col = np.intersect1d(df_port.columns, df_bm.columns).tolist()"
   ]
  },
  {
   "cell_type": "code",
   "execution_count": null,
   "id": "better-accident",
   "metadata": {},
   "outputs": [],
   "source": [
    "join_col"
   ]
  },
  {
   "cell_type": "code",
   "execution_count": null,
   "id": "reasonable-boutique",
   "metadata": {},
   "outputs": [],
   "source": [
    "df = pd.merge(left=df_port, right=df_bm, how='outer', left_on=join_col, right_on=join_col)"
   ]
  },
  {
   "cell_type": "code",
   "execution_count": null,
   "id": "saving-electricity",
   "metadata": {},
   "outputs": [],
   "source": [
    "join_col = np.intersect1d(df.columns, df_ais.columns).tolist()"
   ]
  },
  {
   "cell_type": "code",
   "execution_count": null,
   "id": "compliant-friend",
   "metadata": {},
   "outputs": [],
   "source": [
    "join_col"
   ]
  },
  {
   "cell_type": "code",
   "execution_count": null,
   "id": "national-distribution",
   "metadata": {},
   "outputs": [],
   "source": [
    "result = pd.merge(left=df, right=df_ais, how='outer', left_on=join_col, right_on=join_col)"
   ]
  },
  {
   "cell_type": "code",
   "execution_count": null,
   "id": "incorrect-shame",
   "metadata": {},
   "outputs": [],
   "source": [
    "# result"
   ]
  },
  {
   "cell_type": "code",
   "execution_count": null,
   "id": "motivated-trade",
   "metadata": {},
   "outputs": [],
   "source": [
    "result.info()"
   ]
  },
  {
   "cell_type": "code",
   "execution_count": null,
   "id": "loved-certification",
   "metadata": {},
   "outputs": [],
   "source": [
    "result.head()"
   ]
  },
  {
   "cell_type": "code",
   "execution_count": null,
   "id": "august-genetics",
   "metadata": {},
   "outputs": [],
   "source": [
    "result[['ais_count']] = result[['ais_count']].fillna(0).astype('int')"
   ]
  },
  {
   "cell_type": "code",
   "execution_count": null,
   "id": "fossil-district",
   "metadata": {},
   "outputs": [],
   "source": [
    "result"
   ]
  },
  {
   "cell_type": "code",
   "execution_count": null,
   "id": "italian-reynolds",
   "metadata": {},
   "outputs": [],
   "source": [
    "# result[['mssis_wpi_region_index', 'mssis_ao', 'ais_count']] = result[['mssis_wpi_region_index', 'mssis_ao', 'ais_count']].fillna(0).astype('int')"
   ]
  },
  {
   "cell_type": "code",
   "execution_count": null,
   "id": "ethical-layer",
   "metadata": {},
   "outputs": [],
   "source": [
    "# result"
   ]
  },
  {
   "cell_type": "code",
   "execution_count": null,
   "id": "alternate-harvard",
   "metadata": {},
   "outputs": [],
   "source": [
    "result.sort_values('mssis_wpi').sort_values('ais_count')"
   ]
  },
  {
   "cell_type": "code",
   "execution_count": null,
   "id": "ignored-renewal",
   "metadata": {},
   "outputs": [],
   "source": [
    "wpi_list = result[result['mssis_wpi'] > 0].sort_values('mssis_wpi').mssis_wpi.unique().tolist()"
   ]
  },
  {
   "cell_type": "code",
   "execution_count": null,
   "id": "sixth-detroit",
   "metadata": {},
   "outputs": [],
   "source": [
    "wpi_list"
   ]
  },
  {
   "cell_type": "code",
   "execution_count": null,
   "id": "ceramic-bulgaria",
   "metadata": {},
   "outputs": [],
   "source": [
    "nga_wpi = seaconex.nga_msi_wpi_api_get_world_port_index(wpi_list)"
   ]
  },
  {
   "cell_type": "code",
   "execution_count": null,
   "id": "imposed-shark",
   "metadata": {},
   "outputs": [],
   "source": [
    "nga = pd.DataFrame(nga_wpi['ports'])"
   ]
  },
  {
   "cell_type": "code",
   "execution_count": null,
   "id": "subtle-large",
   "metadata": {},
   "outputs": [],
   "source": [
    "nga.to_json('../data/raw/' + 'nga-bermuda-wpi_v1.json')"
   ]
  },
  {
   "cell_type": "code",
   "execution_count": null,
   "id": "dutch-medicine",
   "metadata": {},
   "outputs": [],
   "source": [
    "nga.to_json('../data/raw/' + 'nga-bermuda-wpi_records_v1.json', orient='records')"
   ]
  },
  {
   "cell_type": "code",
   "execution_count": null,
   "id": "racial-surrey",
   "metadata": {},
   "outputs": [],
   "source": [
    "nga.to_json('../data/raw/' + 'nga-bermuda-wpi_split_v1.json', orient='split')"
   ]
  },
  {
   "cell_type": "code",
   "execution_count": null,
   "id": "infinite-martial",
   "metadata": {},
   "outputs": [],
   "source": [
    "nga.to_json('../data/raw/' + 'nga-bermuda-wpi_table_v1.json', orient='table')"
   ]
  },
  {
   "cell_type": "code",
   "execution_count": null,
   "id": "gentle-enlargement",
   "metadata": {},
   "outputs": [],
   "source": [
    "# nga_wpi_prc = seaconex.nga_msi_wpi_api_get_prc_names()"
   ]
  },
  {
   "cell_type": "code",
   "execution_count": null,
   "id": "exempt-target",
   "metadata": {},
   "outputs": [],
   "source": [
    "# nga_wpi_prc"
   ]
  },
  {
   "cell_type": "code",
   "execution_count": null,
   "id": "directed-davis",
   "metadata": {},
   "outputs": [],
   "source": [
    "nga.head()"
   ]
  },
  {
   "cell_type": "code",
   "execution_count": null,
   "id": "exceptional-assignment",
   "metadata": {},
   "outputs": [],
   "source": [
    "geometry = geopandas.points_from_xy(nga.xcoord, nga.ycoord)"
   ]
  },
  {
   "cell_type": "code",
   "execution_count": null,
   "id": "electric-shooting",
   "metadata": {},
   "outputs": [],
   "source": [
    "nga.drop(columns=['ycoord', 'xcoord', 'latitude', 'longitude'], inplace=True)"
   ]
  },
  {
   "cell_type": "code",
   "execution_count": null,
   "id": "excessive-israel",
   "metadata": {},
   "outputs": [],
   "source": [
    "null_columns=nga.columns[nga.isnull().all()]"
   ]
  },
  {
   "cell_type": "code",
   "execution_count": null,
   "id": "instructional-honolulu",
   "metadata": {},
   "outputs": [],
   "source": [
    "null_columns"
   ]
  },
  {
   "cell_type": "code",
   "execution_count": null,
   "id": "medieval-tradition",
   "metadata": {},
   "outputs": [],
   "source": [
    "null_columns.tolist()"
   ]
  },
  {
   "cell_type": "code",
   "execution_count": null,
   "id": "unlike-possession",
   "metadata": {},
   "outputs": [],
   "source": [
    "nga.drop(columns=null_columns, inplace=True)"
   ]
  },
  {
   "cell_type": "code",
   "execution_count": null,
   "id": "exceptional-manual",
   "metadata": {},
   "outputs": [],
   "source": [
    "print(nga.columns.tolist())"
   ]
  },
  {
   "cell_type": "code",
   "execution_count": null,
   "id": "average-charter",
   "metadata": {},
   "outputs": [],
   "source": [
    "nga.columns.tolist()"
   ]
  },
  {
   "cell_type": "code",
   "execution_count": null,
   "id": "rising-broadcast",
   "metadata": {},
   "outputs": [],
   "source": [
    "pd.set_option(\"max_columns\", None)\n",
    "pd.set_option(\"max_rows\", None)"
   ]
  },
  {
   "cell_type": "code",
   "execution_count": null,
   "id": "essential-peace",
   "metadata": {},
   "outputs": [],
   "source": [
    "drop_col = ['shelter', 'erTide', 'erSwell', 'erIce', 'erOther', 'overheadLimits', 'chDepth','anDepth','cpDepth','otDepth','tide', 'goodHoldingGround', 'turningArea', 'firstPortOfEntry', 'usRep', 'ptCompulsory', 'ptAdvisable', 'tugsSalvage', 'tugsAssist', 'qtPratique', 'qtOther', 'cmTelephone', 'cmTelegraph', 'cmRadio', 'cmRadioTel', 'cmAir', 'cmRail', 'loWharves', 'loAnchor', 'loMedMoor', 'loBeachMoor', 'loIceMoor', 'medFacilities', 'garbageDisposal', 'degauss', 'dirtyBallast', 'crFixed', 'crMobile', 'crFloating', 'lifts100', 'lifts50', 'lifts25', 'lifts0', 'srLongshore', 'srElectrical', 'srSteam', 'srNavigEquip', 'srElectRepair', 'suProvisions', 'suWater', 'suFuel', 'suDiesel', 'suDeck', 'repairCode', 'drydock', 'railway', 'qtSanitation', 'suAviationFuel', 'harborUse', 'ukcMgmtSystem', 'portSecurity', 'etaMessage', 'searchAndRescue', 'tss', 'vts', 'cht', 'loRoro', 'loSolidBulk', 'loContainer', 'loBreakBulk', 'loOilTerm', 'loLongTerm', 'loOther', 'loDangCargo', 'loLiquidBulk', 'srIceBreaking', 'srDiving', 'cranesContainer', 's121WaterBody', 's101Enc', 'dodWaterBody']"
   ]
  },
  {
   "cell_type": "code",
   "execution_count": null,
   "id": "satisfactory-aruba",
   "metadata": {},
   "outputs": [],
   "source": [
    "nga.drop(columns=drop_col, inplace=True)"
   ]
  },
  {
   "cell_type": "code",
   "execution_count": null,
   "id": "interim-index",
   "metadata": {},
   "outputs": [],
   "source": [
    "nga"
   ]
  },
  {
   "cell_type": "code",
   "execution_count": null,
   "id": "virtual-marks",
   "metadata": {},
   "outputs": [],
   "source": [
    "gdf = geopandas.GeoDataFrame(nga, geometry=geometry, crs=\"EPSG:4326\")"
   ]
  },
  {
   "cell_type": "code",
   "execution_count": null,
   "id": "moving-queensland",
   "metadata": {},
   "outputs": [],
   "source": [
    "gdf.head()"
   ]
  },
  {
   "cell_type": "code",
   "execution_count": null,
   "id": "developing-sender",
   "metadata": {},
   "outputs": [],
   "source": [
    "gdf.crs"
   ]
  },
  {
   "cell_type": "code",
   "execution_count": null,
   "id": "military-mumbai",
   "metadata": {},
   "outputs": [],
   "source": [
    "gdf.to_file('../data/interim/' + 'nga-wpi_v1.json', driver='GeoJSON')"
   ]
  },
  {
   "cell_type": "code",
   "execution_count": null,
   "id": "other-situation",
   "metadata": {},
   "outputs": [],
   "source": [
    "gdf.to_file('../data/interim/' + 'nga-wpi_v1.gpkg', driver='GPKG')"
   ]
  },
  {
   "cell_type": "code",
   "execution_count": null,
   "id": "sharing-failure",
   "metadata": {},
   "outputs": [],
   "source": [
    "# are these ports missing??\n",
    "salem = '8025'\n",
    "cork = '34360'\n",
    "london = '31470'"
   ]
  }
 ],
 "metadata": {
  "language_info": {
   "name": "python",
   "pygments_lexer": "ipython3"
  }
 },
 "nbformat": 4,
 "nbformat_minor": 5
}
